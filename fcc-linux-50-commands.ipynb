{
 "cells": [
  {
   "cell_type": "markdown",
   "metadata": {},
   "source": [
    "# 50 most used linux commands \n",
    "https://www.youtube.com/watch?v=ZtqBQ68cfJc&t=2354s"
   ]
  },
  {
   "cell_type": "markdown",
   "metadata": {},
   "source": [
    "Understanding of Flags used in the commands (Explanations from Chat GPT and Bing)<br>\n",
    "\n",
    "`rm -f`(force): <br>\n",
    "This option forces the removal of files or directories. It ignores nonexistent files and never prompts for confirmation. <br>\n",
    "Example: `rm -f` file.txt will delete file.txt without asking for confirmation, even if it’s write-protected. <br>\n",
    "\n",
    "###########################################\n",
    "\n",
    "`rm -r` (recursive): <br>\n",
    "\n",
    "This option tells `rm` to remove directories and their contents recursively. <br>\n",
    "Example: `rm -r` directory/ will delete the directory named directory and all its contents (files and subdirectories). <br>\n",
    "\n",
    "########################################\n",
    "\n",
    "`ls -l` (long format): <br>\n",
    "\n",
    "The `-l` option in Linux is most commonly associated with the ls command, which lists directory contents. The `-l` option provides a detailed, long-format listing of files and directories. <br>\n",
    "\n",
    "When you use ls `-l`, it displays information in a long listing format, which includes the following details for each file or directory: <br>\n",
    "\n",
    "File Type and Permissions: Indicates whether it is a file or directory and shows the read, write, and execute permissions. <br>\n",
    "Number of Links: The number of hard links to the file or directory. <br> \n",
    "Owner: The user who owns the file or directory. <br>\n",
    "Group: The group that owns the file or directory. <br>\n",
    "Size: The size of the file in bytes. <br>\n",
    "Modification Date and Time: The last modification date and time of the file or directory. <br>\n",
    "File Name: The name of the file or directory <br>\n",
    "\n",
    "#############################################\n",
    "\n",
    "`mkdir -p` \n",
    "\n",
    "The `-p` flag in the mkdir command allows you to create a directory hierarchy, including parent directories that don’t exist.<br> \n",
    "If you specify a path like directory/nested_directory, it will create both directory and its nested nested_directory folders successfully. <br>\n",
    "Essentially, it ensures that all necessary parent directories are created along with the specified director<br>\n",
    "\n",
    "#############################################\n",
    "\n",
    "`rm -v` \n",
    "\n",
    "The `-v` flag stands for verbose and prinst out useful information <br>\n",
    "When used with the rm command, it will print out a message for each file it removes, showing the file removed. <br>\n",
    "\n",
    "#############################################\n",
    "\n",
    "`head -n 2` <br>\n",
    "\n",
    "You can customize the number of lines using the `-n` flag. <br>\n",
    "By default the first 10 lines will be displayed <br>\n",
    "If a number is given to the head command, it will print out that number of lines. <br>\n",
    "\n",
    "#############################################\n",
    "\n",
    "`sort -n` \n",
    "\n",
    "The `-n` when used with sort command sorts the **text as numeric data** instead of strings <br>\n",
    "\n",
    "#############################################\n",
    "\n",
    "`sort -r`\n",
    "\n",
    "The `-r` when used with sort command **reverse sorts** the data  <br>\n",
    "\n",
    "#############################################\n",
    "\n",
    "`sort -u`\n",
    "\n",
    "The `-u` when used with sort command gives unique values <br>\n",
    "\n",
    "#############################################\n",
    "\n",
    "`uniq -d` \n",
    "\n",
    "The `-d` flag in the context of the `uniq` command has a specific meaning. When you use `uniq -d`, it identifies and displays only **duplicate** lines from a file. In other words, it shows lines that appear more than once consecutively. This can be quite useful when you want to find repeated entries within a dataset or text file. \n",
    "\n",
    "#############################################\n",
    "\n",
    "`uniq -c`\n",
    "\n",
    "The `-c` flag is a powerful tool in Unix/Linux for counting the occurrences of consecutive duplicate lines in a text file. Here’s how it works:\n",
    "\n",
    "#############################################\n",
    "\n",
    "`echo -e`\n",
    "\n",
    "The `-e` flag in the echo command enables the interpretation of special characters <br>, \n",
    "such as escape sequences. When you use echo -e, it processes backslash escapes within the string. <br>\n",
    "\n",
    "#############################################\n",
    "\n",
    "`find -name`\n",
    "\n",
    "When you use find `-name` , it specifically searches for files or directories with a matching name. <br>\n",
    "\n",
    "#############################################\n",
    "\n",
    "`find -type` \n",
    "\n",
    "\n",
    "The `find` command in Linux is a versatile tool for searching files and directories based on various criteria. <br> When you use `find -type`, it allows you to filter results based on the type of the file or directory.<br> Here’s how it works:\n",
    "\n",
    "Basic Usage: <br>\n",
    "The `-type` option specifies the type of the search target. You can use the following arguments: \n",
    "`-type f` : Finds regular files (not directories). <br>\n",
    "`-type d` : Finds directories. <br>\n",
    "`-type l` : Finds symbolic links. <br>\n",
    "`-type c` : Finds character devices. \n",
    "`-type b` : Finds block devices <br>\n",
    "\n",
    "\n",
    "#############################################\n",
    "\n",
    "`find -exec`\n",
    "\n",
    "`-exec` option is used to execute a specified command on each file found by the find utility\n",
    "\n",
    "############################################# \n",
    "\n",
    "`du -m`\n",
    "\n",
    "\n",
    "The `du` command in Linux is used to calculate the disk usage of files and directories. <br> The `-m` option specifies the output to be in megabytes instead of kilobytes. <br> The `-k` option specifies the output to be in kilobytes. <br> The `-g` option specifies the output to be in gigabytes. <br> The `-h` option specifies the output to be in human-readable format. <br>\n",
    "\n",
    "############################################# \n",
    "\n",
    "`gzip -k --keep`\n",
    "\n",
    "Keep (don't delete) input files during compression or decompression.\n",
    "\n",
    "############################################# \n",
    "\n",
    "`tar -x -c -f`\n",
    "\n",
    "`-x`: This option stands for extract. When used with tar, it instructs the utility to extract files from an archive.<br>\n",
    "`-f:` The -f flag specifies the file to work with. You follow it with the name of the archive file you want to <br>manipulate. For example:\n",
    "`tar -xf archive.tar.gz` extracts files from archive.tar.gz. <br>\n",
    "\n",
    "`-c`: The `-c` option means create. It tells tar to create a new archive. For instance: <br>\n",
    "`tar -cf new-archive.tar file1 file2` creates a new archive called new-archive.tar containing file1 and file2.\n",
    "\n",
    "############################################# \n",
    "\n",
    "`ln -s`\n",
    "\n",
    "The `-s` option in the ln command creates a symbolic link. A symbolic link or a soft link is different from<br>\n",
    "a hard link as if the original is deleted the hard link is still valid and can access the file <br>\n",
    "while the symbolic linkg would give an error \n",
    "\n",
    "############################################# \n",
    "\n",
    "\n",
    "\n",
    "\n",
    "\n",
    "\n",
    "\n",
    "\n",
    "\n",
    "\n"
   ]
  },
  {
   "cell_type": "code",
   "execution_count": 1,
   "metadata": {
    "vscode": {
     "languageId": "shellscript"
    }
   },
   "outputs": [
    {
     "name": "stdout",
     "output_type": "stream",
     "text": [
      "hravat\n"
     ]
    }
   ],
   "source": [
    "## Print current user \n",
    "whoami"
   ]
  },
  {
   "cell_type": "code",
   "execution_count": 2,
   "metadata": {
    "vscode": {
     "languageId": "shellscript"
    }
   },
   "outputs": [
    {
     "name": "stdout",
     "output_type": "stream",
     "text": [
      "LS(1)                            User Commands                           LS(1)\n",
      "\n",
      "NAME\n",
      "       ls - list directory contents\n",
      "\n",
      "SYNOPSIS\n",
      "       ls [OPTION]... [FILE]...\n",
      "\n",
      "DESCRIPTION\n",
      "       List  information  about  the FILEs (the current directory by default).\n",
      "       Sort entries alphabetically if none of -cftuvSUX nor --sort  is  speci‐\n",
      "       fied.\n",
      "\n",
      "       Mandatory  arguments  to  long  options are mandatory for short options\n",
      "       too.\n",
      "\n",
      "       -a, --all\n",
      "              do not ignore entries starting with .\n",
      "\n",
      "       -A, --almost-all\n",
      "              do not list implied . and ..\n",
      "\n",
      "       --author\n",
      "              with -l, print the author of each file\n",
      "\n",
      "       -b, --escape\n",
      "              print C-style escapes for nongraphic characters\n",
      "\n",
      "       --block-size=SIZE\n",
      "              with  -l,  scale  sizes  by  SIZE  when  printing  them;   e.g.,\n",
      "              '--block-size=M'; see SIZE format below\n",
      "\n",
      "       -B, --ignore-backups\n",
      "              do not list implied entries ending with ~\n",
      "\n",
      "       -c     with -lt: sort by, and show, ctime (time of last modification of\n",
      "              file status information); with -l: show ctime and sort by  name;\n",
      "              otherwise: sort by ctime, newest first\n",
      "\n",
      "       -C     list entries by columns\n",
      "\n",
      "       --color[=WHEN]\n",
      "              colorize  the output; WHEN can be 'always' (default if omitted),\n",
      "              'auto', or 'never'; more info below\n",
      "\n",
      "       -d, --directory\n",
      "              list directories themselves, not their contents\n",
      "\n",
      "       -D, --dired\n",
      "              generate output designed for Emacs' dired mode\n",
      "\n",
      "       -f     do not sort, enable -aU, disable -ls --color\n",
      "\n",
      "       -F, --classify\n",
      "              append indicator (one of */=>@|) to entries\n",
      "\n",
      "       --file-type\n",
      "              likewise, except do not append '*'\n",
      "\n",
      "       --format=WORD\n",
      "              across -x, commas -m, horizontal -x, long -l, single-column  -1,\n",
      "              verbose -l, vertical -C\n",
      "\n",
      "       --full-time\n",
      "              like -l --time-style=full-iso\n",
      "\n",
      "       -g     like -l, but do not list owner\n",
      "\n",
      "       --group-directories-first\n",
      "              group directories before files;\n",
      "\n",
      "              can   be  augmented  with  a  --sort  option,  but  any  use  of\n",
      "              --sort=none (-U) disables grouping\n",
      "\n",
      "       -G, --no-group\n",
      "              in a long listing, don't print group names\n",
      "\n",
      "       -h, --human-readable\n",
      "              with -l and -s, print sizes like 1K 234M 2G etc.\n",
      "\n",
      "       --si   likewise, but use powers of 1000 not 1024\n",
      "\n",
      "       -H, --dereference-command-line\n",
      "              follow symbolic links listed on the command line\n",
      "\n",
      "       --dereference-command-line-symlink-to-dir\n",
      "              follow each command line symbolic link\n",
      "\n",
      "              that points to a directory\n",
      "\n",
      "       --hide=PATTERN\n",
      "              do not list implied entries matching shell  PATTERN  (overridden\n",
      "              by -a or -A)\n",
      "\n",
      "       --hyperlink[=WHEN]\n",
      "              hyperlink file names; WHEN can be 'always' (default if omitted),\n",
      "              'auto', or 'never'\n",
      "\n",
      "       --indicator-style=WORD\n",
      "              append indicator with style WORD to entry names: none (default),\n",
      "              slash (-p), file-type (--file-type), classify (-F)\n",
      "\n",
      "       -i, --inode\n",
      "              print the index number of each file\n",
      "\n",
      "       -I, --ignore=PATTERN\n",
      "              do not list implied entries matching shell PATTERN\n",
      "\n",
      "       -k, --kibibytes\n",
      "              default  to  1024-byte  blocks for disk usage; used only with -s\n",
      "              and per directory totals\n",
      "\n",
      "       -l     use a long listing format\n",
      "\n",
      "       -L, --dereference\n",
      "              when showing file information for a symbolic link, show informa‐\n",
      "              tion  for  the file the link references rather than for the link\n",
      "              itself\n",
      "\n",
      "       -m     fill width with a comma separated list of entries\n",
      "\n",
      "       -n, --numeric-uid-gid\n",
      "              like -l, but list numeric user and group IDs\n",
      "\n",
      "       -N, --literal\n",
      "              print entry names without quoting\n",
      "\n",
      "       -o     like -l, but do not list group information\n",
      "\n",
      "       -p, --indicator-style=slash\n",
      "              append / indicator to directories\n",
      "\n",
      "       -q, --hide-control-chars\n",
      "              print ? instead of nongraphic characters\n",
      "\n",
      "       --show-control-chars\n",
      "              show nongraphic characters as-is (the default, unless program is\n",
      "              'ls' and output is a terminal)\n",
      "\n",
      "       -Q, --quote-name\n",
      "              enclose entry names in double quotes\n",
      "\n",
      "       --quoting-style=WORD\n",
      "              use  quoting style WORD for entry names: literal, locale, shell,\n",
      "              shell-always,  shell-escape,  shell-escape-always,   c,   escape\n",
      "              (overrides QUOTING_STYLE environment variable)\n",
      "\n",
      "       -r, --reverse\n",
      "              reverse order while sorting\n",
      "\n",
      "       -R, --recursive\n",
      "              list subdirectories recursively\n",
      "\n",
      "       -s, --size\n",
      "              print the allocated size of each file, in blocks\n",
      "\n",
      "       -S     sort by file size, largest first\n",
      "\n",
      "       --sort=WORD\n",
      "              sort  by  WORD instead of name: none (-U), size (-S), time (-t),\n",
      "              version (-v), extension (-X)\n",
      "\n",
      "       --time=WORD\n",
      "              change the default of  using  modification  times;  access  time\n",
      "              (-u): atime, access, use; change time (-c): ctime, status; birth\n",
      "              time: birth, creation;\n",
      "\n",
      "              with -l, WORD determines which time to show;  with  --sort=time,\n",
      "              sort by WORD (newest first)\n",
      "\n",
      "       --time-style=TIME_STYLE\n",
      "              time/date format with -l; see TIME_STYLE below\n",
      "\n",
      "       -t     sort by time, newest first; see --time\n",
      "\n",
      "       -T, --tabsize=COLS\n",
      "              assume tab stops at each COLS instead of 8\n",
      "\n",
      "       -u     with  -lt:  sort by, and show, access time; with -l: show access\n",
      "              time and sort by name; otherwise: sort by  access  time,  newest\n",
      "              first\n",
      "\n",
      "       -U     do not sort; list entries in directory order\n",
      "\n",
      "       -v     natural sort of (version) numbers within text\n",
      "\n",
      "       -w, --width=COLS\n",
      "              set output width to COLS.  0 means no limit\n",
      "\n",
      "       -x     list entries by lines instead of by columns\n",
      "\n",
      "       -X     sort alphabetically by entry extension\n",
      "\n",
      "       -Z, --context\n",
      "              print any security context of each file\n",
      "\n",
      "       -1     list one file per line.  Avoid '\\n' with -q or -b\n",
      "\n",
      "       --help display this help and exit\n",
      "\n",
      "       --version\n",
      "              output version information and exit\n",
      "\n",
      "       The  SIZE  argument  is  an  integer and optional unit (example: 10K is\n",
      "       10*1024).  Units are K,M,G,T,P,E,Z,Y  (powers  of  1024)  or  KB,MB,...\n",
      "       (powers  of 1000).  Binary prefixes can be used, too: KiB=K, MiB=M, and\n",
      "       so on.\n",
      "\n",
      "       The TIME_STYLE argument can be  full-iso,  long-iso,  iso,  locale,  or\n",
      "       +FORMAT.   FORMAT  is  interpreted  like in date(1).  If FORMAT is FOR‐\n",
      "       MAT1<newline>FORMAT2, then FORMAT1 applies to non-recent files and FOR‐\n",
      "       MAT2  to  recent files.  TIME_STYLE prefixed with 'posix-' takes effect\n",
      "       only outside the POSIX locale.  Also the TIME_STYLE  environment  vari‐\n",
      "       able sets the default style to use.\n",
      "\n",
      "       Using  color  to distinguish file types is disabled both by default and\n",
      "       with --color=never.  With --color=auto, ls emits color codes only  when\n",
      "       standard  output is connected to a terminal.  The LS_COLORS environment\n",
      "       variable can change the settings.  Use the dircolors command to set it.\n",
      "\n",
      "   Exit status:\n",
      "       0      if OK,\n",
      "\n",
      "       1      if minor problems (e.g., cannot access subdirectory),\n",
      "\n",
      "       2      if serious trouble (e.g., cannot access command-line argument).\n",
      "\n",
      "AUTHOR\n",
      "       Written by Richard M. Stallman and David MacKenzie.\n",
      "\n",
      "REPORTING BUGS\n",
      "       GNU coreutils online help: <https://www.gnu.org/software/coreutils/>\n",
      "       Report any translation bugs to <https://translationproject.org/team/>\n",
      "\n",
      "COPYRIGHT\n",
      "       Copyright © 2020 Free Software Foundation, Inc.   License  GPLv3+:  GNU\n",
      "       GPL version 3 or later <https://gnu.org/licenses/gpl.html>.\n",
      "       This  is  free  software:  you  are free to change and redistribute it.\n",
      "       There is NO WARRANTY, to the extent permitted by law.\n",
      "\n",
      "SEE ALSO\n",
      "       Full documentation <https://www.gnu.org/software/coreutils/ls>\n",
      "       or available locally via: info '(coreutils) ls invocation'\n",
      "\n",
      "GNU coreutils 8.32               February 2024                           LS(1)\n"
     ]
    }
   ],
   "source": [
    "### Get info on commands man stansds for manual pages\n",
    "man ls"
   ]
  },
  {
   "cell_type": "code",
   "execution_count": 3,
   "metadata": {
    "vscode": {
     "languageId": "shellscript"
    }
   },
   "outputs": [],
   "source": [
    "## Clear the terminal \n",
    "#clear"
   ]
  },
  {
   "cell_type": "code",
   "execution_count": 4,
   "metadata": {
    "vscode": {
     "languageId": "shellscript"
    }
   },
   "outputs": [
    {
     "name": "stdout",
     "output_type": "stream",
     "text": [
      "/media/sf_jupyterlab/fcc_linux_tutorial\n"
     ]
    }
   ],
   "source": [
    "### Print working directory \n",
    "pwd"
   ]
  },
  {
   "cell_type": "code",
   "execution_count": 5,
   "metadata": {
    "vscode": {
     "languageId": "shellscript"
    }
   },
   "outputs": [
    {
     "name": "stdout",
     "output_type": "stream",
     "text": [
      "Copydata1       data1                          FolderData       LinkDemo\n",
      "CurlyBraceDemo  DiffDemo                       GZipExample      test\n",
      "data            fcc-linux-50-commands_1.ipynb  GzipExample.tar  XargsDemo\n"
     ]
    }
   ],
   "source": [
    "##  List all files and folder \n",
    "ls"
   ]
  },
  {
   "cell_type": "code",
   "execution_count": 6,
   "metadata": {
    "vscode": {
     "languageId": "shellscript"
    }
   },
   "outputs": [
    {
     "name": "stdout",
     "output_type": "stream",
     "text": [
      "file1.txt  file2.txt  file3.txt\n"
     ]
    }
   ],
   "source": [
    "### TO go more in depth give the folder name \n",
    "rm -r Data \n",
    "mkdir Data\n",
    "touch Data/file{1,2,3}.txt\n",
    "ls Data"
   ]
  },
  {
   "cell_type": "code",
   "execution_count": 7,
   "metadata": {
    "vscode": {
     "languageId": "shellscript"
    }
   },
   "outputs": [],
   "source": [
    "##  Give fulle path name to see contents of other files and folders \n",
    "ls /home/hravat/Documents\n",
    "\n"
   ]
  },
  {
   "cell_type": "code",
   "execution_count": 8,
   "metadata": {
    "vscode": {
     "languageId": "shellscript"
    }
   },
   "outputs": [
    {
     "name": "stdout",
     "output_type": "stream",
     "text": [
      "total 260\n",
      "drwxrwx--- 1 root vboxsf      0 Feb 25 12:07 Copydata1\n",
      "drwxrwx--- 1 root vboxsf      0 Jul 10 18:56 CurlyBraceDemo\n",
      "drwxrwx--- 1 root vboxsf      0 Jul 10 18:59 Data\n",
      "drwxrwx--- 1 root vboxsf      0 Jul 10 18:41 data1\n",
      "drwxrwx--- 1 root vboxsf      0 Jul 10 18:56 DiffDemo\n",
      "-rwxrwx--- 1 root vboxsf 247388 Jul 10 18:38 fcc-linux-50-commands_1.ipynb\n",
      "drwxrwx--- 1 root vboxsf      0 Jul 10 18:41 FolderData\n",
      "drwxrwx--- 1 root vboxsf      0 Jul 10 18:28 GZipExample\n",
      "-rwxrwx--- 1 root vboxsf  10240 Jul 10 18:28 GzipExample.tar\n",
      "drwxrwx--- 1 root vboxsf      0 Jul 10 18:29 LinkDemo\n",
      "drwxrwx--- 1 root vboxsf      0 Jul 10 18:39 test\n",
      "drwxrwx--- 1 root vboxsf   4096 Jul 10 18:29 XargsDemo\n"
     ]
    }
   ],
   "source": [
    "### Long form for ls \n",
    "ls -l"
   ]
  },
  {
   "cell_type": "code",
   "execution_count": 9,
   "metadata": {
    "vscode": {
     "languageId": "shellscript"
    }
   },
   "outputs": [
    {
     "name": "stdout",
     "output_type": "stream",
     "text": [
      "/media/sf_jupyterlab/fcc_linux_tutorial\n",
      "/media/sf_jupyterlab/fcc_linux_tutorial/data\n"
     ]
    },
    {
     "name": "stdout",
     "output_type": "stream",
     "text": [
      "/media/sf_jupyterlab/fcc_linux_tutorial\n",
      "/home/hravat\n",
      "total 8\n",
      "drwxr-x--- 17   1001   1001 4096 Mar  6 14:38 hadoop\n",
      "drwxrwxr-x 74 hravat hravat 4096 Jul 10 18:58 hravat\n",
      "/media/sf_jupyterlab/fcc_linux_tutorial\n"
     ]
    }
   ],
   "source": [
    "### Changing directories \n",
    "\n",
    "pwd\n",
    "cd data ### Go to the data directory\n",
    "pwd \n",
    "cd .. ### Go One Directory up \n",
    "pwd\n",
    "cd ~  ### Home directory\n",
    "pwd \n",
    "cd /home ### Home directory\n",
    "ls -l\n",
    "cd /media/sf_jupyterlab/fcc_linux_tutorial ## Change Back to original Directory\n",
    "pwd\n"
   ]
  },
  {
   "cell_type": "code",
   "execution_count": 10,
   "metadata": {
    "vscode": {
     "languageId": "shellscript"
    }
   },
   "outputs": [],
   "source": [
    "### mkdir makes new directories\n",
    "\n",
    "rm -f -R ./test  \n",
    "mkdir -p test"
   ]
  },
  {
   "cell_type": "code",
   "execution_count": 11,
   "metadata": {
    "vscode": {
     "languageId": "shellscript"
    }
   },
   "outputs": [
    {
     "name": "stdout",
     "output_type": "stream",
     "text": [
      "total 0\n",
      "-rwxrwx--- 1 root vboxsf 0 Jul 10 18:59 file1.txt\n",
      "-rwxrwx--- 1 root vboxsf 0 Jul 10 18:59 file2.txt\n",
      "-rwxrwx--- 1 root vboxsf 0 Jul 10 18:59 file3.txt\n"
     ]
    },
    {
     "name": "stdout",
     "output_type": "stream",
     "text": [
      "total 0\n",
      "-rwxrwx--- 1 root vboxsf 0 Jul 10 18:59 file1.txt\n",
      "-rwxrwx--- 1 root vboxsf 0 Jul 10 19:00 file2.txt\n",
      "-rwxrwx--- 1 root vboxsf 0 Jul 10 18:59 file3.txt\n"
     ]
    }
   ],
   "source": [
    "### Touch changes timestamp of a file \n",
    "### File is created if it does not exist\n",
    "ls -l data\n",
    "sleep 1m\n",
    "touch data/file2.txt\n",
    "ls -l data"
   ]
  },
  {
   "cell_type": "code",
   "execution_count": 12,
   "metadata": {
    "vscode": {
     "languageId": "shellscript"
    }
   },
   "outputs": [],
   "source": [
    "#rmdir is used to remove empt directories \n",
    "mkdir DELETEME\n",
    "rmdir DELETEME"
   ]
  },
  {
   "cell_type": "code",
   "execution_count": 13,
   "metadata": {
    "vscode": {
     "languageId": "shellscript"
    }
   },
   "outputs": [],
   "source": [
    "### rm is used to delete files and folders \n",
    "\n",
    "touch DELETEME1.txt\n",
    "touch DELETEME2.txt\n",
    "touch DELETEME3.txt\n",
    "sleep 10 \n",
    "rm DELETEME1.txt\n",
    "rm DELETEME2.txt\n",
    "rm DELETEME3.txt"
   ]
  },
  {
   "cell_type": "markdown",
   "metadata": {},
   "source": [
    "Flag options for rm command<br>\n",
    "\n",
    "\n",
    "-v is the verbose flag and gives an output displaying the files that have been delted \n",
    "\n",
    "\n"
   ]
  },
  {
   "cell_type": "code",
   "execution_count": 14,
   "metadata": {
    "vscode": {
     "languageId": "shellscript"
    }
   },
   "outputs": [
    {
     "name": "stdout",
     "output_type": "stream",
     "text": [
      "removed 'DELETEME1.txt'\n",
      "removed 'DELETEME2.txt'\n",
      "removed 'DELETEME3.txt'\n"
     ]
    }
   ],
   "source": [
    "### rm is used to delete files and folders \n",
    "#### -v gives feedback \n",
    "\n",
    "touch DELETEME1.txt\n",
    "touch DELETEME2.txt\n",
    "touch DELETEME3.txt\n",
    "sleep 10 \n",
    "rm -v DELETEME1.txt\n",
    "rm -v DELETEME2.txt\n",
    "rm -v DELETEME3.txt"
   ]
  },
  {
   "cell_type": "code",
   "execution_count": 15,
   "metadata": {
    "vscode": {
     "languageId": "shellscript"
    }
   },
   "outputs": [
    {
     "name": "stdout",
     "output_type": "stream",
     "text": [
      "removed 'DELETEME/DELETEME1.txt'\n",
      "removed 'DELETEME/DELETEME2.txt'\n",
      "removed 'DELETEME/DELETEME3.txt'\n",
      "removed directory 'DELETEME'\n"
     ]
    }
   ],
   "source": [
    "### rm is used to delete files and folders \n",
    "#### -r deletes files and folders recursively\n",
    "\n",
    "mkdir DELETEME\n",
    "touch DELETEME/DELETEME1.txt\n",
    "touch DELETEME/DELETEME2.txt\n",
    "touch DELETEME/DELETEME3.txt\n",
    "sleep 10 \n",
    "rm -r -v DELETEME"
   ]
  },
  {
   "cell_type": "code",
   "execution_count": 16,
   "metadata": {
    "vscode": {
     "languageId": "shellscript"
    }
   },
   "outputs": [
    {
     "name": "stdout",
     "output_type": "stream",
     "text": [
      "/snap/core20/current/lib/x86_64-linux-gnu/libstdc++.so.6: version `GLIBCXX_3.4.29' not found (required by /lib/x86_64-linux-gnu/libproxy.so.1)\n",
      "Failed to load module: /home/hravat/snap/code-insiders/common/.cache/gio-modules/libgiolibproxy.so\n"
     ]
    }
   ],
   "source": [
    "### use open to view a file \n",
    "#### Please run in terminal \n",
    "open data/file1.txt"
   ]
  },
  {
   "cell_type": "code",
   "execution_count": 17,
   "metadata": {
    "vscode": {
     "languageId": "shellscript"
    }
   },
   "outputs": [
    {
     "name": "stdout",
     "output_type": "stream",
     "text": [
      "/snap/core20/current/lib/x86_64-linux-gnu/libstdc++.so.6: version `GLIBCXX_3.4.29' not found (required by /lib/x86_64-linux-gnu/libproxy.so.1)\n",
      "Failed to load module: /home/hravat/snap/code-insiders/common/.cache/gio-modules/libgiolibproxy.so\n"
     ]
    }
   ],
   "source": [
    "## Open current directoty \n",
    "## Please run in terinal\n",
    "open ."
   ]
  },
  {
   "cell_type": "code",
   "execution_count": 18,
   "metadata": {
    "vscode": {
     "languageId": "shellscript"
    }
   },
   "outputs": [
    {
     "name": "stdout",
     "output_type": "stream",
     "text": [
      "before rename\n"
     ]
    },
    {
     "name": "stdout",
     "output_type": "stream",
     "text": [
      "total 0\n",
      "-rwxrwx--- 1 root vboxsf 0 Jul 10 18:59 file1.txt\n",
      "-rwxrwx--- 1 root vboxsf 0 Jul 10 19:00 file2.txt\n",
      "-rwxrwx--- 1 root vboxsf 0 Jul 10 19:01 file3.txt\n",
      "renamed 'data/file3.txt' -> 'data/file4.txt'\n",
      "after rename\n",
      "total 0\n",
      "-rwxrwx--- 1 root vboxsf 0 Jul 10 18:59 file1.txt\n",
      "-rwxrwx--- 1 root vboxsf 0 Jul 10 19:00 file2.txt\n",
      "-rwxrwx--- 1 root vboxsf 0 Jul 10 19:01 file4.txt\n"
     ]
    }
   ],
   "source": [
    "### mv uses commands to move a file around \n",
    "### Use Case 1 used to rename a file \n",
    "echo before rename \n",
    "touch data/file3.txt \n",
    "ls -l data\n",
    "mv -v data/file3.txt data/file4.txt\n",
    "echo after rename \n",
    "ls -l data"
   ]
  },
  {
   "cell_type": "code",
   "execution_count": 19,
   "metadata": {
    "vscode": {
     "languageId": "shellscript"
    }
   },
   "outputs": [
    {
     "name": "stdout",
     "output_type": "stream",
     "text": [
      "before move\n",
      "total 0\n",
      "renamed 'data/file4.txt' -> 'data1/file4.txt'\n",
      "after move\n",
      "total 0\n",
      "-rwxrwx--- 1 root vboxsf 0 Jul 10 19:01 file4.txt\n"
     ]
    }
   ],
   "source": [
    "### mv to other directories \n",
    "touch data/file4.txt\n",
    "rm -f -r data1\n",
    "mkdir -p data1\n",
    "echo before move \n",
    "ls -l data1\n",
    "mv -v data/file4.txt data1/\n",
    "echo after move \n",
    "ls -l data1 "
   ]
  },
  {
   "cell_type": "code",
   "execution_count": 20,
   "metadata": {
    "vscode": {
     "languageId": "shellscript"
    }
   },
   "outputs": [
    {
     "name": "stdout",
     "output_type": "stream",
     "text": [
      "renamed 'file1.txt' -> 'data1/file1.txt'\n",
      "renamed 'files2.txt' -> 'data1/files2.txt'\n",
      "renamed 'file3.txt' -> 'data1/file3.txt'\n"
     ]
    }
   ],
   "source": [
    "### Move multiple files ogether \n",
    "touch file1.txt files2.txt file3.txt \n",
    "mv -v file1.txt files2.txt file3.txt data1"
   ]
  },
  {
   "cell_type": "code",
   "execution_count": 21,
   "metadata": {
    "vscode": {
     "languageId": "shellscript"
    }
   },
   "outputs": [
    {
     "name": "stdout",
     "output_type": "stream",
     "text": [
      "before rename\n",
      "total 0\n",
      "drwxrwx--- 1 root vboxsf 0 Jul 10 19:01 Folder1\n",
      "after rename\n",
      "total 0\n",
      "drwxrwx--- 1 root vboxsf 0 Jul 10 19:01 Folder2\n"
     ]
    }
   ],
   "source": [
    "#rename a folder \n",
    "rm -r FolderData \n",
    "mkdir -p FolderData/Folder1\n",
    "echo before rename \n",
    "ls -l FolderData\n",
    "echo after rename \n",
    "mv FolderData/Folder1 FolderData/Folder2\n",
    "ls -l FolderData\n"
   ]
  },
  {
   "cell_type": "code",
   "execution_count": 22,
   "metadata": {
    "vscode": {
     "languageId": "shellscript"
    }
   },
   "outputs": [
    {
     "name": "stdout",
     "output_type": "stream",
     "text": [
      "before rename\n",
      "total 0\n",
      "drwxrwx--- 1 root vboxsf 0 Jul 10 19:01 Folder1\n",
      "after rename\n",
      "mv: cannot move 'FolderData/Folder1' to '../Folder1': File exists\n",
      "total 260\n",
      "drwxrwx--- 1 root vboxsf      0 Feb 25 12:07 Copydata1\n",
      "drwxrwx--- 1 root vboxsf      0 Jul 10 18:56 CurlyBraceDemo\n",
      "drwxrwx--- 1 root vboxsf      0 Jul 10 19:01 Data\n",
      "drwxrwx--- 1 root vboxsf      0 Jul 10 19:01 data1\n",
      "drwxrwx--- 1 root vboxsf      0 Jul 10 18:56 DiffDemo\n",
      "-rwxrwx--- 1 root vboxsf 247388 Jul 10 18:38 fcc-linux-50-commands_1.ipynb\n",
      "drwxrwx--- 1 root vboxsf      0 Jul 10 19:01 FolderData\n",
      "drwxrwx--- 1 root vboxsf      0 Jul 10 18:28 GZipExample\n",
      "-rwxrwx--- 1 root vboxsf  10240 Jul 10 18:28 GzipExample.tar\n",
      "drwxrwx--- 1 root vboxsf      0 Jul 10 18:29 LinkDemo\n",
      "drwxrwx--- 1 root vboxsf      0 Jul 10 18:59 test\n",
      "drwxrwx--- 1 root vboxsf   4096 Jul 10 18:29 XargsDemo\n"
     ]
    }
   ],
   "source": [
    "#rename a folder \n",
    "rm -r FolderData \n",
    "mkdir -p FolderData/Folder1\n",
    "echo before rename \n",
    "ls -l FolderData\n",
    "echo after rename \n",
    "mv -v FolderData/Folder1 ../\n",
    "ls -l "
   ]
  },
  {
   "cell_type": "code",
   "execution_count": 23,
   "metadata": {
    "vscode": {
     "languageId": "shellscript"
    }
   },
   "outputs": [
    {
     "name": "stdout",
     "output_type": "stream",
     "text": [
      "rm: cannot remove 'data/Copyfile1.txt': No such file or directory\n"
     ]
    },
    {
     "name": "stdout",
     "output_type": "stream",
     "text": [
      "before copy\n",
      "total 0\n",
      "-rwxrwx--- 1 root vboxsf 0 Jul 10 18:59 file1.txt\n",
      "-rwxrwx--- 1 root vboxsf 0 Jul 10 19:00 file2.txt\n",
      "'data/file1.txt' -> 'data/Copyfile1.txt'\n",
      "after copy\n",
      "total 0\n",
      "-rwxrwx--- 1 root vboxsf 0 Jul 10 19:01 Copyfile1.txt\n",
      "-rwxrwx--- 1 root vboxsf 0 Jul 10 18:59 file1.txt\n",
      "-rwxrwx--- 1 root vboxsf 0 Jul 10 19:00 file2.txt\n"
     ]
    }
   ],
   "source": [
    "## Copying files using cp \n",
    "rm data/Copyfile1.txt\n",
    "echo before copy \n",
    "ls -l data\n",
    "cp -v  data/file1.txt data/Copyfile1.txt\n",
    "echo after copy \n",
    "ls -l data"
   ]
  },
  {
   "cell_type": "code",
   "execution_count": 24,
   "metadata": {
    "vscode": {
     "languageId": "shellscript"
    }
   },
   "outputs": [
    {
     "name": "stdout",
     "output_type": "stream",
     "text": [
      "'data1/file1.txt' -> 'Copydata1/data1/file1.txt'\n",
      "'data1/file3.txt' -> 'Copydata1/data1/file3.txt'\n",
      "'data1/file4.txt' -> 'Copydata1/data1/file4.txt'\n",
      "'data1/files2.txt' -> 'Copydata1/data1/files2.txt'\n"
     ]
    }
   ],
   "source": [
    "### Copying folders \n",
    "cp -r -v data1 Copydata1"
   ]
  },
  {
   "cell_type": "code",
   "execution_count": 25,
   "metadata": {
    "vscode": {
     "languageId": "shellscript"
    }
   },
   "outputs": [
    {
     "name": "stdout",
     "output_type": "stream",
     "text": [
      "before copy\n",
      "total 0\n",
      "-rwxrwx--- 1 root vboxsf 0 Jul 10 19:01 file1.txt\n",
      "-rwxrwx--- 1 root vboxsf 0 Jul 10 19:01 file3.txt\n",
      "-rwxrwx--- 1 root vboxsf 0 Jul 10 19:01 file4.txt\n",
      "-rwxrwx--- 1 root vboxsf 0 Jul 10 19:01 files2.txt\n",
      "'data/file1.txt' -> 'Copydata1/data1/Copyfile1.txt'\n",
      "after copy\n",
      "total 0\n",
      "-rwxrwx--- 1 root vboxsf 0 Jul 10 19:01 Copyfile1.txt\n",
      "-rwxrwx--- 1 root vboxsf 0 Jul 10 19:01 file1.txt\n",
      "-rwxrwx--- 1 root vboxsf 0 Jul 10 19:01 file3.txt\n",
      "-rwxrwx--- 1 root vboxsf 0 Jul 10 19:01 file4.txt\n",
      "-rwxrwx--- 1 root vboxsf 0 Jul 10 19:01 files2.txt\n"
     ]
    }
   ],
   "source": [
    "## Copy and move \n",
    "rm -f Copydata1/data1/Copyfile1.txt\n",
    "echo before copy \n",
    "ls -l Copydata1/data1\n",
    "cp -v data/file1.txt Copydata1/data1/Copyfile1.txt\n",
    "echo after copy \n",
    "ls -l Copydata1/data1"
   ]
  },
  {
   "cell_type": "code",
   "execution_count": 26,
   "metadata": {
    "vscode": {
     "languageId": "shellscript"
    }
   },
   "outputs": [
    {
     "name": "stdout",
     "output_type": "stream",
     "text": [
      "Lorem ipsum dolor sit amet, consectetur adipiscing elit. Nullam posuere, felis eget commodo placerat, velit dolor maximus libero, non tempor nisi erat ut sapien. Donec malesuada nisl sed sodales tincidunt. Donec pulvinar nec mauris et condimentum. Donec rutrum turpis a neque accumsan mattis vel non mauris. Pellentesque vel mauris nec sem pretium tempus eu ut risus. Fusce vehicula massa sed sem mattis, in rhoncus risus finibus. Cras facilisis nulla tristique nulla tristique gravida et ut velit. Cras sem justo, mollis laoreet risus a, cursus suscipit arcu. Maecenas eget orci laoreet, facilisis tortor quis, varius urna. Aenean feugiat interdum dui, quis pulvinar nunc iaculis nec. In consequat ligula posuere magna bibendum, id rhoncus nisl pulvinar. Vestibulum aliquet risus ac lacus venenatis cursus. Morbi sit amet pellentesque dolor. Nulla et risus in libero consectetur feugiat vel quis ex. Cras lorem diam, rhoncus sed dignissim id, facilisis nec lectus. In hac habitasse platea dictumst.\n",
      "\n",
      "Duis tincidunt venenatis nunc, ac volutpat velit malesuada ac. Morbi gravida accumsan porta. Mauris aliquet varius ex. Nullam facilisis fringilla diam ut commodo. Nullam hendrerit libero id mauris malesuada cursus. Nunc erat dui, eleifend sed volutpat lobortis, auctor ut arcu. Praesent efficitur ante et libero ullamcorper, nec viverra urna rhoncus. Quisque vestibulum urna commodo ipsum efficitur, sed congue tellus vulputate. Praesent congue volutpat ligula, nec hendrerit quam ultricies sit amet.\n",
      "\n",
      "Sed id laoreet purus, eget ullamcorper dui. Donec vestibulum odio laoreet sem sollicitudin, eget dapibus nisl hendrerit. Nunc congue in magna vulputate suscipit. Quisque placerat tristique dictum. Phasellus ultricies lobortis orci in posuere. Maecenas porta ex nec nunc efficitur, vitae suscipit magna facilisis. Donec ac lectus est. Proin sollicitudin vitae nisl nec lobortis.\n",
      "\n",
      "Pellentesque suscipit consectetur odio, at fringilla justo commodo in. Sed feugiat consequat leo, ut porta enim cursus nec. Nullam nec erat turpis. Nullam faucibus leo interdum tempus porttitor. Integer eleifend elementum tortor id tincidunt. Quisque hendrerit lorem sem, ac efficitur ipsum porttitor vitae. Integer eget turpis eget neque dignissim ultrices. Cras varius justo lectus, ut porttitor arcu ornare ut. Etiam vel ex ac sapien lacinia blandit ut ullamcorper mauris. Maecenas pretium eros at metus imperdiet finibus. Class aptent taciti sociosqu ad litora torquent per conubia nostra, per inceptos himenaeos. In blandit lobortis porttitor. Nulla pretium lorem nisi. Sed suscipit ligula sed scelerisque sodales. Curabitur rutrum ultricies mi, at pretium risus vulputate ut.\n",
      "\n",
      "Duis in lorem nec lectus pellentesque interdum. Cras id dui eget eros iaculis convallis nec pharetra ligula. Aliquam sagittis lorem id tempus vestibulum. Sed turpis est, malesuada ut tristique non, hendrerit ut massa. Etiam congue interdum justo, ut finibus dui viverra eu. Nunc dapibus odio sapien, et malesuada justo egestas ut. Pellentesque scelerisque elementum arcu id tincidunt\n",
      "\n"
     ]
    }
   ],
   "source": [
    "### View head of a file \n",
    "echo \"Lorem ipsum dolor sit amet, consectetur adipiscing elit. Nullam posuere, felis eget commodo placerat, velit dolor maximus libero, non tempor nisi erat ut sapien. Donec malesuada nisl sed sodales tincidunt. Donec pulvinar nec mauris et condimentum. Donec rutrum turpis a neque accumsan mattis vel non mauris. Pellentesque vel mauris nec sem pretium tempus eu ut risus. Fusce vehicula massa sed sem mattis, in rhoncus risus finibus. Cras facilisis nulla tristique nulla tristique gravida et ut velit. Cras sem justo, mollis laoreet risus a, cursus suscipit arcu. Maecenas eget orci laoreet, facilisis tortor quis, varius urna. Aenean feugiat interdum dui, quis pulvinar nunc iaculis nec. In consequat ligula posuere magna bibendum, id rhoncus nisl pulvinar. Vestibulum aliquet risus ac lacus venenatis cursus. Morbi sit amet pellentesque dolor. Nulla et risus in libero consectetur feugiat vel quis ex. Cras lorem diam, rhoncus sed dignissim id, facilisis nec lectus. In hac habitasse platea dictumst.\n",
    "\n",
    "Duis tincidunt venenatis nunc, ac volutpat velit malesuada ac. Morbi gravida accumsan porta. Mauris aliquet varius ex. Nullam facilisis fringilla diam ut commodo. Nullam hendrerit libero id mauris malesuada cursus. Nunc erat dui, eleifend sed volutpat lobortis, auctor ut arcu. Praesent efficitur ante et libero ullamcorper, nec viverra urna rhoncus. Quisque vestibulum urna commodo ipsum efficitur, sed congue tellus vulputate. Praesent congue volutpat ligula, nec hendrerit quam ultricies sit amet.\n",
    "\n",
    "Sed id laoreet purus, eget ullamcorper dui. Donec vestibulum odio laoreet sem sollicitudin, eget dapibus nisl hendrerit. Nunc congue in magna vulputate suscipit. Quisque placerat tristique dictum. Phasellus ultricies lobortis orci in posuere. Maecenas porta ex nec nunc efficitur, vitae suscipit magna facilisis. Donec ac lectus est. Proin sollicitudin vitae nisl nec lobortis.\n",
    "\n",
    "Pellentesque suscipit consectetur odio, at fringilla justo commodo in. Sed feugiat consequat leo, ut porta enim cursus nec. Nullam nec erat turpis. Nullam faucibus leo interdum tempus porttitor. Integer eleifend elementum tortor id tincidunt. Quisque hendrerit lorem sem, ac efficitur ipsum porttitor vitae. Integer eget turpis eget neque dignissim ultrices. Cras varius justo lectus, ut porttitor arcu ornare ut. Etiam vel ex ac sapien lacinia blandit ut ullamcorper mauris. Maecenas pretium eros at metus imperdiet finibus. Class aptent taciti sociosqu ad litora torquent per conubia nostra, per inceptos himenaeos. In blandit lobortis porttitor. Nulla pretium lorem nisi. Sed suscipit ligula sed scelerisque sodales. Curabitur rutrum ultricies mi, at pretium risus vulputate ut.\n",
    "\n",
    "Duis in lorem nec lectus pellentesque interdum. Cras id dui eget eros iaculis convallis nec pharetra ligula. Aliquam sagittis lorem id tempus vestibulum. Sed turpis est, malesuada ut tristique non, hendrerit ut massa. Etiam congue interdum justo, ut finibus dui viverra eu. Nunc dapibus odio sapien, et malesuada justo egestas ut. Pellentesque scelerisque elementum arcu id tincidunt\n",
    "\" > data/file1.txt \n",
    "head data/file1.txt "
   ]
  },
  {
   "cell_type": "code",
   "execution_count": 27,
   "metadata": {
    "vscode": {
     "languageId": "shellscript"
    }
   },
   "outputs": [
    {
     "name": "stdout",
     "output_type": "stream",
     "text": [
      "Lorem ipsum dolor sit amet, consectetur adipiscing elit. Nullam posuere, felis eget commodo placerat, velit dolor maximus libero, non tempor nisi erat ut sapien. Donec malesuada nisl sed sodales tincidunt. Donec pulvinar nec mauris et condimentum. Donec rutrum turpis a neque accumsan mattis vel non mauris. Pellentesque vel mauris nec sem pretium tempus eu ut risus. Fusce vehicula massa sed sem mattis, in rhoncus risus finibus. Cras facilisis nulla tristique nulla tristique gravida et ut velit. Cras sem justo, mollis laoreet risus a, cursus suscipit arcu. Maecenas eget orci laoreet, facilisis tortor quis, varius urna. Aenean feugiat interdum dui, quis pulvinar nunc iaculis nec. In consequat ligula posuere magna bibendum, id rhoncus nisl pulvinar. Vestibulum aliquet risus ac lacus venenatis cursus. Morbi sit amet pellentesque dolor. Nulla et risus in libero consectetur feugiat vel quis ex. Cras lorem diam, rhoncus sed dignissim id, facilisis nec lectus. In hac habitasse platea dictumst.\n",
      "\n"
     ]
    }
   ],
   "source": [
    "### View head of a file first 2 lines \n",
    "head data/file1.txt -n 2 "
   ]
  },
  {
   "cell_type": "code",
   "execution_count": 28,
   "metadata": {
    "vscode": {
     "languageId": "shellscript"
    }
   },
   "outputs": [
    {
     "name": "stdout",
     "output_type": "stream",
     "text": [
      "Lorem ipsum dolor sit amet, consectetur adipiscing elit. Nullam posuere, felis eget commodo placerat, velit dolor maximus libero, non tempor nisi erat ut sapien. Donec malesuada nisl sed sodales tincidunt. Donec pulvinar nec mauris et condimentum. Donec rutrum turpis a neque accumsan mattis vel non mauris. Pellentesque vel mauris nec sem pretium tempus eu ut risus. Fusce vehicula massa sed sem mattis, in rhoncus risus finibus. Cras facilisis nulla tristique nulla tristique gravida et ut velit. Cras sem justo, mollis laoreet risus a, cursus suscipit arcu. Maecenas eget orci laoreet, facilisis tortor quis, varius urna. Aenean feugiat interdum dui, quis pulvinar nunc iaculis nec. In consequat ligula posuere magna bibendum, id rhoncus nisl pulvinar. Vestibulum aliquet risus ac lacus venenatis cursus. Morbi sit amet pellentesque dolor. Nulla et risus in libero consectetur feugiat vel quis ex. Cras lorem diam, rhoncus sed dignissim id, facilisis nec lectus. In hac habitasse platea dictumst.\n",
      "\n",
      "Duis tincidunt venenatis nunc, ac volutpat velit malesuada ac. Morbi gravida accumsan porta. Mauris aliquet varius ex. Nullam facilisis fringilla diam ut commodo. Nullam hendrerit libero id mauris malesuada cursus. Nunc erat dui, eleifend sed volutpat lobortis, auctor ut arcu. Praesent efficitur ante et libero ullamcorper, nec viverra urna rhoncus. Quisque vestibulum urna commodo ipsum efficitur, sed congue tellus vulputate. Praesent congue volutpat ligula, nec hendrerit quam ultricies sit amet.\n",
      "\n",
      "Sed id laoreet purus, eget ullamcorper dui. Donec vestibulum odio laoreet sem sollicitudin, eget dapibus nisl hendrerit. Nunc congue in magna vulputate suscipit. Quisque placerat tristique dictum. Phasellus ultricies lobortis orci in posuere. Maecenas porta ex nec nunc efficitur, vitae suscipit magna facilisis. Donec ac lectus est. Proin sollicitudin vitae nisl nec lobortis.\n",
      "\n",
      "Pellentesque suscipit consectetur odio, at fringilla justo commodo in. Sed feugiat consequat leo, ut porta enim cursus nec. Nullam nec erat turpis. Nullam faucibus leo interdum tempus porttitor. Integer eleifend elementum tortor id tincidunt. Quisque hendrerit lorem sem, ac efficitur ipsum porttitor vitae. Integer eget turpis eget neque dignissim ultrices. Cras varius justo lectus, ut porttitor arcu ornare ut. Etiam vel ex ac sapien lacinia blandit ut ullamcorper mauris. Maecenas pretium eros at metus imperdiet finibus. Class aptent taciti sociosqu ad litora torquent per conubia nostra, per inceptos himenaeos. In blandit lobortis porttitor. Nulla pretium lorem nisi. Sed suscipit ligula sed scelerisque sodales. Curabitur rutrum ultricies mi, at pretium risus vulputate ut.\n",
      "\n",
      "Duis in lorem nec lectus pellentesque interdum. Cras id dui eget eros iaculis convallis nec pharetra ligula. Aliquam sagittis lorem id tempus vestibulum. Sed turpis est, malesuada ut tristique non, hendrerit ut massa. Etiam congue interdum justo, ut finibus dui viverra eu. Nunc dapibus odio sapien, et malesuada justo egestas ut. Pellentesque scelerisque elementum arcu id tincidunt\n",
      "\n"
     ]
    }
   ],
   "source": [
    "### View tail of a file \n",
    "tail data/file1.txt "
   ]
  },
  {
   "cell_type": "code",
   "execution_count": 29,
   "metadata": {
    "vscode": {
     "languageId": "shellscript"
    }
   },
   "outputs": [
    {
     "name": "stdout",
     "output_type": "stream",
     "text": [
      "Duis in lorem nec lectus pellentesque interdum. Cras id dui eget eros iaculis convallis nec pharetra ligula. Aliquam sagittis lorem id tempus vestibulum. Sed turpis est, malesuada ut tristique non, hendrerit ut massa. Etiam congue interdum justo, ut finibus dui viverra eu. Nunc dapibus odio sapien, et malesuada justo egestas ut. Pellentesque scelerisque elementum arcu id tincidunt\n",
      "\n"
     ]
    }
   ],
   "source": [
    "### View tail of a file \n",
    "tail data/file1.txt  -n 2"
   ]
  },
  {
   "cell_type": "code",
   "execution_count": 30,
   "metadata": {
    "vscode": {
     "languageId": "shellscript"
    }
   },
   "outputs": [
    {
     "name": "stdout",
     "output_type": "stream",
     "text": [
      "Wed 10 Jul 2024 19:01:23 NZST\n"
     ]
    }
   ],
   "source": [
    "### Check current date teime \n",
    "date "
   ]
  },
  {
   "cell_type": "code",
   "execution_count": 31,
   "metadata": {
    "vscode": {
     "languageId": "shellscript"
    }
   },
   "outputs": [
    {
     "name": "stdout",
     "output_type": "stream",
     "text": [
      "Wed 10 Jul 2024 19:01:24 NZST\n"
     ]
    }
   ],
   "source": [
    "### Redirect outoput to a file  \n",
    "date > data/Date.txt\n",
    "head data/Date.txt"
   ]
  },
  {
   "cell_type": "code",
   "execution_count": 32,
   "metadata": {
    "vscode": {
     "languageId": "shellscript"
    }
   },
   "outputs": [],
   "source": [
    "### >> to append files \n",
    "### Redirect outoput to a file  \n",
    "date >> data/Date_Multiple.txt\n",
    "sleep 10\n",
    "date >> data/Date_Multiple.txt\n",
    "sleep 10\n"
   ]
  },
  {
   "cell_type": "code",
   "execution_count": 33,
   "metadata": {
    "vscode": {
     "languageId": "shellscript"
    }
   },
   "outputs": [
    {
     "name": "stdout",
     "output_type": "stream",
     "text": [
      "Wed 10 Jul 2024 19:01:24 NZST\n",
      "Wed 10 Jul 2024 19:01:34 NZST\n",
      "Wed 10 Jul 2024 19:01:44 NZST\n"
     ]
    }
   ],
   "source": [
    "date >> data/Date_Multiple.txt\n",
    "sleep 10\n",
    "head data/Date_Multiple.txt"
   ]
  },
  {
   "cell_type": "code",
   "execution_count": 34,
   "metadata": {
    "vscode": {
     "languageId": "shellscript"
    }
   },
   "outputs": [
    {
     "name": "stdout",
     "output_type": "stream",
     "text": [
      "Wed 10 Jul 2024 19:01:24 NZST\n",
      "Wed 10 Jul 2024 19:01:34 NZST\n",
      "Wed 10 Jul 2024 19:01:44 NZST\n",
      "Wed 10 Jul 2024 19:01:55 NZST\n"
     ]
    }
   ],
   "source": [
    "date >> data/Date_Multiple.txt\n",
    "sleep 10\n",
    "head data/Date_Multiple.txt"
   ]
  },
  {
   "cell_type": "code",
   "execution_count": 35,
   "metadata": {
    "vscode": {
     "languageId": "shellscript"
    }
   },
   "outputs": [
    {
     "name": "stdout",
     "output_type": "stream",
     "text": [
      "Lorem ipsum dolor sit amet, consectetur adipiscing elit. Nullam posuere, felis eget commodo placerat, velit dolor maximus libero, non tempor nisi erat ut sapien. Donec malesuada nisl sed sodales tincidunt. Donec pulvinar nec mauris et condimentum. Donec rutrum turpis a neque accumsan mattis vel non mauris. Pellentesque vel mauris nec sem pretium tempus eu ut risus. Fusce vehicula massa sed sem mattis, in rhoncus risus finibus. Cras facilisis nulla tristique nulla tristique gravida et ut velit. Cras sem justo, mollis laoreet risus a, cursus suscipit arcu. Maecenas eget orci laoreet, facilisis tortor quis, varius urna. Aenean feugiat interdum dui, quis pulvinar nunc iaculis nec. In consequat ligula posuere magna bibendum, id rhoncus nisl pulvinar. Vestibulum aliquet risus ac lacus venenatis cursus. Morbi sit amet pellentesque dolor. Nulla et risus in libero consectetur feugiat vel quis ex. Cras lorem diam, rhoncus sed dignissim id, facilisis nec lectus. In hac habitasse platea dictumst.\n",
      "\n",
      "Duis tincidunt venenatis nunc, ac volutpat velit malesuada ac. Morbi gravida accumsan porta. Mauris aliquet varius ex. Nullam facilisis fringilla diam ut commodo. Nullam hendrerit libero id mauris malesuada cursus. Nunc erat dui, eleifend sed volutpat lobortis, auctor ut arcu. Praesent efficitur ante et libero ullamcorper, nec viverra urna rhoncus. Quisque vestibulum urna commodo ipsum efficitur, sed congue tellus vulputate. Praesent congue volutpat ligula, nec hendrerit quam ultricies sit amet.\n",
      "\n",
      "Sed id laoreet purus, eget ullamcorper dui. Donec vestibulum odio laoreet sem sollicitudin, eget dapibus nisl hendrerit. Nunc congue in magna vulputate suscipit. Quisque placerat tristique dictum. Phasellus ultricies lobortis orci in posuere. Maecenas porta ex nec nunc efficitur, vitae suscipit magna facilisis. Donec ac lectus est. Proin sollicitudin vitae nisl nec lobortis.\n",
      "\n",
      "Pellentesque suscipit consectetur odio, at fringilla justo commodo in. Sed feugiat consequat leo, ut porta enim cursus nec. Nullam nec erat turpis. Nullam faucibus leo interdum tempus porttitor. Integer eleifend elementum tortor id tincidunt. Quisque hendrerit lorem sem, ac efficitur ipsum porttitor vitae. Integer eget turpis eget neque dignissim ultrices. Cras varius justo lectus, ut porttitor arcu ornare ut. Etiam vel ex ac sapien lacinia blandit ut ullamcorper mauris. Maecenas pretium eros at metus imperdiet finibus. Class aptent taciti sociosqu ad litora torquent per conubia nostra, per inceptos himenaeos. In blandit lobortis porttitor. Nulla pretium lorem nisi. Sed suscipit ligula sed scelerisque sodales. Curabitur rutrum ultricies mi, at pretium risus vulputate ut.\n",
      "\n",
      "Duis in lorem nec lectus pellentesque interdum. Cras id dui eget eros iaculis convallis nec pharetra ligula. Aliquam sagittis lorem id tempus vestibulum. Sed turpis est, malesuada ut tristique non, hendrerit ut massa. Etiam congue interdum justo, ut finibus dui viverra eu. Nunc dapibus odio sapien, et malesuada justo egestas ut. Pellentesque scelerisque elementum arcu id tincidunt\n",
      "\n"
     ]
    }
   ],
   "source": [
    "## Use of cat to display files \n",
    "cat data/file1.txt"
   ]
  },
  {
   "cell_type": "code",
   "execution_count": 36,
   "metadata": {
    "vscode": {
     "languageId": "shellscript"
    }
   },
   "outputs": [
    {
     "name": "stdout",
     "output_type": "stream",
     "text": [
      "Lorem ipsum dolor sit amet, consectetur adipiscing elit. Nullam posuere, felis eget commodo placerat, velit dolor maximus libero, non tempor nisi erat ut sapien. Donec malesuada nisl sed sodales tincidunt. Donec pulvinar nec mauris et condimentum. Donec rutrum turpis a neque accumsan mattis vel non mauris. Pellentesque vel mauris nec sem pretium tempus eu ut risus. Fusce vehicula massa sed sem mattis, in rhoncus risus finibus. Cras facilisis nulla tristique nulla tristique gravida et ut velit. Cras sem justo, mollis laoreet risus a, cursus suscipit arcu. Maecenas eget orci laoreet, facilisis tortor quis, varius urna. Aenean feugiat interdum dui, quis pulvinar nunc iaculis nec. In consequat ligula posuere magna bibendum, id rhoncus nisl pulvinar. Vestibulum aliquet risus ac lacus venenatis cursus. Morbi sit amet pellentesque dolor. Nulla et risus in libero consectetur feugiat vel quis ex. Cras lorem diam, rhoncus sed dignissim id, facilisis nec lectus. In hac habitasse platea dictumst.\n",
      "\n",
      "Duis tincidunt venenatis nunc, ac volutpat velit malesuada ac. Morbi gravida accumsan porta. Mauris aliquet varius ex. Nullam facilisis fringilla diam ut commodo. Nullam hendrerit libero id mauris malesuada cursus. Nunc erat dui, eleifend sed volutpat lobortis, auctor ut arcu. Praesent efficitur ante et libero ullamcorper, nec viverra urna rhoncus. Quisque vestibulum urna commodo ipsum efficitur, sed congue tellus vulputate. Praesent congue volutpat ligula, nec hendrerit quam ultricies sit amet.\n",
      "\n",
      "Sed id laoreet purus, eget ullamcorper dui. Donec vestibulum odio laoreet sem sollicitudin, eget dapibus nisl hendrerit. Nunc congue in magna vulputate suscipit. Quisque placerat tristique dictum. Phasellus ultricies lobortis orci in posuere. Maecenas porta ex nec nunc efficitur, vitae suscipit magna facilisis. Donec ac lectus est. Proin sollicitudin vitae nisl nec lobortis.\n",
      "\n",
      "Pellentesque suscipit consectetur odio, at fringilla justo commodo in. Sed feugiat consequat leo, ut porta enim cursus nec. Nullam nec erat turpis. Nullam faucibus leo interdum tempus porttitor. Integer eleifend elementum tortor id tincidunt. Quisque hendrerit lorem sem, ac efficitur ipsum porttitor vitae. Integer eget turpis eget neque dignissim ultrices. Cras varius justo lectus, ut porttitor arcu ornare ut. Etiam vel ex ac sapien lacinia blandit ut ullamcorper mauris. Maecenas pretium eros at metus imperdiet finibus. Class aptent taciti sociosqu ad litora torquent per conubia nostra, per inceptos himenaeos. In blandit lobortis porttitor. Nulla pretium lorem nisi. Sed suscipit ligula sed scelerisque sodales. Curabitur rutrum ultricies mi, at pretium risus vulputate ut.\n",
      "\n",
      "Duis in lorem nec lectus pellentesque interdum. Cras id dui eget eros iaculis convallis nec pharetra ligula. Aliquam sagittis lorem id tempus vestibulum. Sed turpis est, malesuada ut tristique non, hendrerit ut massa. Etiam congue interdum justo, ut finibus dui viverra eu. Nunc dapibus odio sapien, et malesuada justo egestas ut. Pellentesque scelerisque elementum arcu id tincidunt\n",
      "\n",
      "Lorem ipsum dolor sit amet, consectetur adipiscing elit. Nullam posuere, felis eget commodo placerat, velit dolor maximus libero, non tempor nisi erat ut sapien. Donec malesuada nisl sed sodales tincidunt. Donec pulvinar nec mauris et condimentum. Donec rutrum turpis a neque accumsan mattis vel non mauris. Pellentesque vel mauris nec sem pretium tempus eu ut risus. Fusce vehicula massa sed sem mattis, in rhoncus risus finibus. Cras facilisis nulla tristique nulla tristique gravida et ut velit. Cras sem justo, mollis laoreet risus a, cursus suscipit arcu. Maecenas eget orci laoreet, facilisis tortor quis, varius urna. Aenean feugiat interdum dui, quis pulvinar nunc iaculis nec. In consequat ligula posuere magna bibendum, id rhoncus nisl pulvinar. Vestibulum aliquet risus ac lacus venenatis cursus. Morbi sit amet pellentesque dolor. Nulla et risus in libero consectetur feugiat vel quis ex. Cras lorem diam, rhoncus sed dignissim id, facilisis nec lectus. In hac habitasse platea dictumst.\n",
      "\n",
      "Duis tincidunt venenatis nunc, ac volutpat velit malesuada ac. Morbi gravida accumsan porta. Mauris aliquet varius ex. Nullam facilisis fringilla diam ut commodo. Nullam hendrerit libero id mauris malesuada cursus. Nunc erat dui, eleifend sed volutpat lobortis, auctor ut arcu. Praesent efficitur ante et libero ullamcorper, nec viverra urna rhoncus. Quisque vestibulum urna commodo ipsum efficitur, sed congue tellus vulputate. Praesent congue volutpat ligula, nec hendrerit quam ultricies sit amet.\n",
      "\n",
      "Sed id laoreet purus, eget ullamcorper dui. Donec vestibulum odio laoreet sem sollicitudin, eget dapibus nisl hendrerit. Nunc congue in magna vulputate suscipit. Quisque placerat tristique dictum. Phasellus ultricies lobortis orci in posuere. Maecenas porta ex nec nunc efficitur, vitae suscipit magna facilisis. Donec ac lectus est. Proin sollicitudin vitae nisl nec lobortis.\n",
      "\n",
      "Pellentesque suscipit consectetur odio, at fringilla justo commodo in. Sed feugiat consequat leo, ut porta enim cursus nec. Nullam nec erat turpis. Nullam faucibus leo interdum tempus porttitor. Integer eleifend elementum tortor id tincidunt. Quisque hendrerit lorem sem, ac efficitur ipsum porttitor vitae. Integer eget turpis eget neque dignissim ultrices. Cras varius justo lectus, ut porttitor arcu ornare ut. Etiam vel ex ac sapien lacinia blandit ut ullamcorper mauris. Maecenas pretium eros at metus imperdiet finibus. Class aptent taciti sociosqu ad litora torquent per conubia nostra, per inceptos himenaeos. In blandit lobortis porttitor. Nulla pretium lorem nisi. Sed suscipit ligula sed scelerisque sodales. Curabitur rutrum ultricies mi, at pretium risus vulputate ut.\n",
      "\n",
      "Duis in lorem nec lectus pellentesque interdum. Cras id dui eget eros iaculis convallis nec pharetra ligula. Aliquam sagittis lorem id tempus vestibulum. Sed turpis est, malesuada ut tristique non, hendrerit ut massa. Etiam congue interdum justo, ut finibus dui viverra eu. Nunc dapibus odio sapien, et malesuada justo egestas ut. Pellentesque scelerisque elementum arcu id tincidunt\n",
      "\n",
      "Lorem ipsum dolor sit amet, consectetur adipiscing elit. Nullam posuere, felis eget commodo placerat, velit dolor maximus libero, non tempor nisi erat ut sapien. Donec malesuada nisl sed sodales tincidunt. Donec pulvinar nec mauris et condimentum. Donec rutrum turpis a neque accumsan mattis vel non mauris. Pellentesque vel mauris nec sem pretium tempus eu ut risus. Fusce vehicula massa sed sem mattis, in rhoncus risus finibus. Cras facilisis nulla tristique nulla tristique gravida et ut velit. Cras sem justo, mollis laoreet risus a, cursus suscipit arcu. Maecenas eget orci laoreet, facilisis tortor quis, varius urna. Aenean feugiat interdum dui, quis pulvinar nunc iaculis nec. In consequat ligula posuere magna bibendum, id rhoncus nisl pulvinar. Vestibulum aliquet risus ac lacus venenatis cursus. Morbi sit amet pellentesque dolor. Nulla et risus in libero consectetur feugiat vel quis ex. Cras lorem diam, rhoncus sed dignissim id, facilisis nec lectus. In hac habitasse platea dictumst.\n",
      "\n",
      "Duis tincidunt venenatis nunc, ac volutpat velit malesuada ac. Morbi gravida accumsan porta. Mauris aliquet varius ex. Nullam facilisis fringilla diam ut commodo. Nullam hendrerit libero id mauris malesuada cursus. Nunc erat dui, eleifend sed volutpat lobortis, auctor ut arcu. Praesent efficitur ante et libero ullamcorper, nec viverra urna rhoncus. Quisque vestibulum urna commodo ipsum efficitur, sed congue tellus vulputate. Praesent congue volutpat ligula, nec hendrerit quam ultricies sit amet.\n",
      "\n",
      "Sed id laoreet purus, eget ullamcorper dui. Donec vestibulum odio laoreet sem sollicitudin, eget dapibus nisl hendrerit. Nunc congue in magna vulputate suscipit. Quisque placerat tristique dictum. Phasellus ultricies lobortis orci in posuere. Maecenas porta ex nec nunc efficitur, vitae suscipit magna facilisis. Donec ac lectus est. Proin sollicitudin vitae nisl nec lobortis.\n",
      "\n",
      "Pellentesque suscipit consectetur odio, at fringilla justo commodo in. Sed feugiat consequat leo, ut porta enim cursus nec. Nullam nec erat turpis. Nullam faucibus leo interdum tempus porttitor. Integer eleifend elementum tortor id tincidunt. Quisque hendrerit lorem sem, ac efficitur ipsum porttitor vitae. Integer eget turpis eget neque dignissim ultrices. Cras varius justo lectus, ut porttitor arcu ornare ut. Etiam vel ex ac sapien lacinia blandit ut ullamcorper mauris. Maecenas pretium eros at metus imperdiet finibus. Class aptent taciti sociosqu ad litora torquent per conubia nostra, per inceptos himenaeos. In blandit lobortis porttitor. Nulla pretium lorem nisi. Sed suscipit ligula sed scelerisque sodales. Curabitur rutrum ultricies mi, at pretium risus vulputate ut.\n",
      "\n",
      "Duis in lorem nec lectus pellentesque interdum. Cras id dui eget eros iaculis convallis nec pharetra ligula. Aliquam sagittis lorem id tempus vestibulum. Sed turpis est, malesuada ut tristique non, hendrerit ut massa. Etiam congue interdum justo, ut finibus dui viverra eu. Nunc dapibus odio sapien, et malesuada justo egestas ut. Pellentesque scelerisque elementum arcu id tincidunt\n",
      "\n"
     ]
    }
   ],
   "source": [
    "### cat to diplay multiple files \n",
    "cat data/File1.txt data/File1.txt data/File1.txt"
   ]
  },
  {
   "cell_type": "code",
   "execution_count": 37,
   "metadata": {
    "vscode": {
     "languageId": "shellscript"
    }
   },
   "outputs": [],
   "source": [
    "### Use less for file scrolling \n",
    "##less data/FileHead.txt"
   ]
  },
  {
   "cell_type": "code",
   "execution_count": 38,
   "metadata": {
    "vscode": {
     "languageId": "shellscript"
    }
   },
   "outputs": [
    {
     "name": "stdout",
     "output_type": "stream",
     "text": [
      "Hello Zuko Here\n"
     ]
    }
   ],
   "source": [
    "echo Hello Zuko Here"
   ]
  },
  {
   "cell_type": "code",
   "execution_count": 39,
   "metadata": {
    "vscode": {
     "languageId": "shellscript"
    }
   },
   "outputs": [
    {
     "name": "stdout",
     "output_type": "stream",
     "text": [
      "Hello Zuko Here\n"
     ]
    }
   ],
   "source": [
    "## Use echo to create small files \n",
    "echo Hello Zuko Here > data/echo.txt \n",
    "head data/echo.txt"
   ]
  },
  {
   "cell_type": "code",
   "execution_count": 40,
   "metadata": {
    "vscode": {
     "languageId": "shellscript"
    }
   },
   "outputs": [
    {
     "name": "stdout",
     "output_type": "stream",
     "text": [
      "  10  443 3050 data/file1.txt\n"
     ]
    }
   ],
   "source": [
    "### Wc counts the number of words in a text\n",
    "### 443 is the line count while 33048 is the word counnnnnt\n",
    "wc data/file1.txt"
   ]
  },
  {
   "cell_type": "code",
   "execution_count": 41,
   "metadata": {
    "vscode": {
     "languageId": "shellscript"
    }
   },
   "outputs": [
    {
     "name": "stdout",
     "output_type": "stream",
     "text": [
      "total 260\n",
      "drwxrwx--- 1 root vboxsf      0 Feb 25 12:07 Copydata1\n",
      "drwxrwx--- 1 root vboxsf      0 Jul 10 18:56 CurlyBraceDemo\n",
      "drwxrwx--- 1 root vboxsf      0 Jul 10 19:02 Data\n",
      "drwxrwx--- 1 root vboxsf      0 Jul 10 19:01 data1\n",
      "drwxrwx--- 1 root vboxsf      0 Jul 10 18:56 DiffDemo\n",
      "-rwxrwx--- 1 root vboxsf 247388 Jul 10 18:38 fcc-linux-50-commands_1.ipynb\n",
      "drwxrwx--- 1 root vboxsf      0 Jul 10 19:01 FolderData\n",
      "drwxrwx--- 1 root vboxsf      0 Jul 10 18:28 GZipExample\n",
      "-rwxrwx--- 1 root vboxsf  10240 Jul 10 18:28 GzipExample.tar\n",
      "drwxrwx--- 1 root vboxsf      0 Jul 10 18:29 LinkDemo\n",
      "drwxrwx--- 1 root vboxsf      0 Jul 10 18:59 test\n",
      "drwxrwx--- 1 root vboxsf   4096 Jul 10 18:29 XargsDemo\n",
      "count number of files and folders\n",
      "12\n"
     ]
    }
   ],
   "source": [
    "### Pipe Operator allows us to pass output of one command to another \n",
    "## Ex we want to count number of files \n",
    "ls -l\n",
    "echo count number of files and folders \n",
    "ls  |  wc -l"
   ]
  },
  {
   "cell_type": "code",
   "execution_count": 42,
   "metadata": {
    "vscode": {
     "languageId": "shellscript"
    }
   },
   "outputs": [
    {
     "name": "stdout",
     "output_type": "stream",
     "text": [
      "\n",
      "\n",
      "\n",
      "\n",
      "\n",
      "Duis in lorem nec lectus pellentesque interdum. Cras id dui eget eros iaculis convallis nec pharetra ligula. Aliquam sagittis lorem id tempus vestibulum. Sed turpis est, malesuada ut tristique non, hendrerit ut massa. Etiam congue interdum justo, ut finibus dui viverra eu. Nunc dapibus odio sapien, et malesuada justo egestas ut. Pellentesque scelerisque elementum arcu id tincidunt\n",
      "Duis tincidunt venenatis nunc, ac volutpat velit malesuada ac. Morbi gravida accumsan porta. Mauris aliquet varius ex. Nullam facilisis fringilla diam ut commodo. Nullam hendrerit libero id mauris malesuada cursus. Nunc erat dui, eleifend sed volutpat lobortis, auctor ut arcu. Praesent efficitur ante et libero ullamcorper, nec viverra urna rhoncus. Quisque vestibulum urna commodo ipsum efficitur, sed congue tellus vulputate. Praesent congue volutpat ligula, nec hendrerit quam ultricies sit amet.\n",
      "Lorem ipsum dolor sit amet, consectetur adipiscing elit. Nullam posuere, felis eget commodo placerat, velit dolor maximus libero, non tempor nisi erat ut sapien. Donec malesuada nisl sed sodales tincidunt. Donec pulvinar nec mauris et condimentum. Donec rutrum turpis a neque accumsan mattis vel non mauris. Pellentesque vel mauris nec sem pretium tempus eu ut risus. Fusce vehicula massa sed sem mattis, in rhoncus risus finibus. Cras facilisis nulla tristique nulla tristique gravida et ut velit. Cras sem justo, mollis laoreet risus a, cursus suscipit arcu. Maecenas eget orci laoreet, facilisis tortor quis, varius urna. Aenean feugiat interdum dui, quis pulvinar nunc iaculis nec. In consequat ligula posuere magna bibendum, id rhoncus nisl pulvinar. Vestibulum aliquet risus ac lacus venenatis cursus. Morbi sit amet pellentesque dolor. Nulla et risus in libero consectetur feugiat vel quis ex. Cras lorem diam, rhoncus sed dignissim id, facilisis nec lectus. In hac habitasse platea dictumst.\n",
      "Pellentesque suscipit consectetur odio, at fringilla justo commodo in. Sed feugiat consequat leo, ut porta enim cursus nec. Nullam nec erat turpis. Nullam faucibus leo interdum tempus porttitor. Integer eleifend elementum tortor id tincidunt. Quisque hendrerit lorem sem, ac efficitur ipsum porttitor vitae. Integer eget turpis eget neque dignissim ultrices. Cras varius justo lectus, ut porttitor arcu ornare ut. Etiam vel ex ac sapien lacinia blandit ut ullamcorper mauris. Maecenas pretium eros at metus imperdiet finibus. Class aptent taciti sociosqu ad litora torquent per conubia nostra, per inceptos himenaeos. In blandit lobortis porttitor. Nulla pretium lorem nisi. Sed suscipit ligula sed scelerisque sodales. Curabitur rutrum ultricies mi, at pretium risus vulputate ut.\n",
      "Sed id laoreet purus, eget ullamcorper dui. Donec vestibulum odio laoreet sem sollicitudin, eget dapibus nisl hendrerit. Nunc congue in magna vulputate suscipit. Quisque placerat tristique dictum. Phasellus ultricies lobortis orci in posuere. Maecenas porta ex nec nunc efficitur, vitae suscipit magna facilisis. Donec ac lectus est. Proin sollicitudin vitae nisl nec lobortis.\n"
     ]
    }
   ],
   "source": [
    "### Sort data \n",
    "sort data/file1.txt"
   ]
  },
  {
   "cell_type": "code",
   "execution_count": 43,
   "metadata": {
    "vscode": {
     "languageId": "shellscript"
    }
   },
   "outputs": [
    {
     "name": "stdout",
     "output_type": "stream",
     "text": [
      "sort as string\n",
      "1\n",
      "10\n",
      "2\n",
      "3\n",
      "4\n",
      "5\n",
      "6\n",
      "7\n",
      "8\n",
      "9\n",
      "sort -n sorts as numbers\n",
      "1\n",
      "2\n",
      "3\n",
      "4\n",
      "5\n",
      "6\n",
      "7\n",
      "8\n",
      "9\n",
      "10\n",
      "sort -rn reverse sort numbers\n",
      "10\n",
      "9\n",
      "8\n",
      "7\n",
      "6\n",
      "5\n",
      "4\n",
      "3\n",
      "2\n",
      "1\n",
      "sort -u gives unique numbers\n",
      "1\n",
      "2\n",
      "3\n",
      "4\n",
      "5\n",
      "6\n",
      "7\n",
      "8\n",
      "9\n",
      "10\n"
     ]
    }
   ],
   "source": [
    "#### Explanation of number sorts\n",
    "#### Sort does not change file contents only sorts the output\n",
    "### Upper case comes before lower case in text \n",
    "rm -r data  \n",
    "mkdir data\n",
    "touch data/num.txt\n",
    "echo -e \"1\\n2\\n3\\n4\\n5\\n6\\n7\\n8\\n9\\n10\" > data/num.txt\n",
    "echo sort as string   \n",
    "sort data/num.txt\n",
    "echo sort -n sorts as numbers \n",
    "sort -n data/num.txt\n",
    "echo sort -rn reverse sort numbers \n",
    "sort -rn data/num.txt \n",
    "echo sort -u gives unique numbers  \n",
    "sort -un data/num.txt"
   ]
  },
  {
   "cell_type": "code",
   "execution_count": 44,
   "metadata": {
    "vscode": {
     "languageId": "shellscript"
    }
   },
   "outputs": [
    {
     "name": "stdout",
     "output_type": "stream",
     "text": [
      "Original Output\n",
      "a\n",
      "a\n",
      "b\n",
      "a\n",
      "a\n",
      "b\n",
      "c\n",
      "d\n",
      "d\n",
      "e\n",
      "f\n",
      "d\n",
      "d\n",
      "Applying uniq\n",
      "a\n",
      "b\n",
      "a\n",
      "b\n",
      "c\n",
      "d\n",
      "e\n",
      "f\n",
      "d\n"
     ]
    }
   ],
   "source": [
    "## uniq removes duplicates from a output  \n",
    "### However it only removes duplicates from adjacent lines \n",
    "\n",
    "echo Original Output \n",
    "echo -e \"a\\na\\nb\\na\\na\\nb\\nc\\nd\\nd\\ne\\nf\\nd\\nd\"\n",
    "echo Applying uniq \n",
    "echo -e \"a\\na\\nb\\na\\na\\nb\\nc\\nd\\nd\\ne\\nf\\nd\\nd\" | uniq "
   ]
  },
  {
   "cell_type": "code",
   "execution_count": 45,
   "metadata": {
    "vscode": {
     "languageId": "shellscript"
    }
   },
   "outputs": [
    {
     "name": "stdout",
     "output_type": "stream",
     "text": [
      "Original Output\n",
      "a\n",
      "a\n",
      "b\n",
      "a\n",
      "a\n",
      "b\n",
      "c\n",
      "d\n",
      "d\n",
      "e\n",
      "f\n",
      "d\n",
      "d\n",
      "Applying sort and uniq\n"
     ]
    },
    {
     "name": "stdout",
     "output_type": "stream",
     "text": [
      "a\n",
      "b\n",
      "c\n",
      "d\n",
      "e\n",
      "f\n"
     ]
    }
   ],
   "source": [
    "## Uniq can give unique values if used along with sort \n",
    "echo Original Output \n",
    "echo -e \"a\\na\\nb\\na\\na\\nb\\nc\\nd\\nd\\ne\\nf\\nd\\nd\"\n",
    "echo Applying sort and  uniq \n",
    "echo -e \"a\\na\\nb\\na\\na\\nb\\nc\\nd\\nd\\ne\\nf\\nd\\nd\" | sort | uniq "
   ]
  },
  {
   "cell_type": "code",
   "execution_count": 46,
   "metadata": {
    "vscode": {
     "languageId": "shellscript"
    }
   },
   "outputs": [
    {
     "name": "stdout",
     "output_type": "stream",
     "text": [
      "Original Output\n",
      "a\n",
      "a\n",
      "b\n",
      "a\n",
      "a\n",
      "b\n",
      "c\n",
      "d\n",
      "d\n",
      "e\n",
      "f\n",
      "d\n",
      "d\n",
      "Applying sort and uniq with -d\n",
      "a\n",
      "b\n",
      "d\n"
     ]
    }
   ],
   "source": [
    "#   uniq has many advantages over thr sort -u option \n",
    "## Uniq can give unique values if used along with sort \n",
    "echo Original Output \n",
    "echo -e \"a\\na\\nb\\na\\na\\nb\\nc\\nd\\nd\\ne\\nf\\nd\\nd\"\n",
    "echo Applying sort and  uniq with -d \n",
    "echo -e \"a\\na\\nb\\na\\na\\nb\\nc\\nd\\nd\\ne\\nf\\nd\\nd\" | sort | uniq -d "
   ]
  },
  {
   "cell_type": "code",
   "execution_count": 47,
   "metadata": {
    "vscode": {
     "languageId": "shellscript"
    }
   },
   "outputs": [
    {
     "name": "stdout",
     "output_type": "stream",
     "text": [
      "Original Output\n",
      "a\n",
      "a\n",
      "b\n",
      "a\n",
      "a\n",
      "b\n",
      "c\n",
      "d\n",
      "d\n",
      "e\n",
      "f\n",
      "d\n",
      "d\n",
      "Applying sort and uniq with -c\n",
      "      4 a\n",
      "      2 b\n",
      "      1 c\n",
      "      4 d\n",
      "      1 e\n",
      "      1 f\n"
     ]
    }
   ],
   "source": [
    "#   uniq has many advantages over thr sort -u option \n",
    "## Uniq can give unique values if used along with sort \n",
    "echo Original Output \n",
    "echo -e \"a\\na\\nb\\na\\na\\nb\\nc\\nd\\nd\\ne\\nf\\nd\\nd\"\n",
    "echo Applying sort and  uniq with -c\n",
    "echo -e \"a\\na\\nb\\na\\na\\nb\\nc\\nd\\nd\\ne\\nf\\nd\\nd\" | sort | uniq -c"
   ]
  },
  {
   "cell_type": "code",
   "execution_count": 48,
   "metadata": {
    "vscode": {
     "languageId": "shellscript"
    }
   },
   "outputs": [
    {
     "name": "stdout",
     "output_type": "stream",
     "text": [
      "Print Home Directory\n",
      "/home/hravat\n",
      "Print Current User\n",
      "hravat\n",
      "all paths in folder\n",
      "Copydata1 CurlyBraceDemo data data1 DiffDemo fcc-linux-50-commands_1.ipynb FolderData GZipExample GzipExample.tar LinkDemo test XargsDemo\n",
      "match on file extensions\n",
      "fcc-linux-50-commands_1.ipynb\n",
      "Using ls with *\n",
      "-rwxrwx--- 1 root vboxsf 247388 Jul 10 18:38 fcc-linux-50-commands_1.ipynb\n",
      "curly braces to create number range\n",
      "Day 1 Day 2 Day 3 Day 4 Day 5 Day 6 Day 7 Day 8 Day 9 Day 10\n"
     ]
    }
   ],
   "source": [
    "### In Linux, expansions refer to various transformations \n",
    "####applied to command lines or strings. \n",
    "\n",
    "echo Print Home Directory \n",
    "echo ~\n",
    "echo Print Current User \n",
    "echo $USER\n",
    "echo all paths in folder \n",
    "echo * \n",
    "echo match on file extensions \n",
    "echo *.ipynb\n",
    "echo Using ls with '*' \n",
    "ls -l -a *.ipynb\n",
    "## Below command can be used with touch to create files \n",
    "echo curly braces to create number range \n",
    "echo \"Day \"{1..10}"
   ]
  },
  {
   "cell_type": "code",
   "execution_count": 49,
   "metadata": {
    "vscode": {
     "languageId": "shellscript"
    }
   },
   "outputs": [
    {
     "name": "stdout",
     "output_type": "stream",
     "text": [
      "a.txt b.txt c.txt\n",
      "total 4\n",
      "drwxrwx--- 1 root vboxsf    0 Jul 10 19:02 .\n",
      "drwxrwx--- 1 root vboxsf 4096 Jul 10 19:02 ..\n",
      "-rwxrwx--- 1 root vboxsf    0 Jul 10 19:02 a.txt\n",
      "-rwxrwx--- 1 root vboxsf    0 Jul 10 19:02 b.txt\n",
      "-rwxrwx--- 1 root vboxsf    0 Jul 10 19:02 c.txt\n"
     ]
    }
   ],
   "source": [
    "## Curly braces expansion to creat ecombinations \n",
    "echo {a,b,c}.txt\n",
    "## Curly Braces to create files \n",
    "rm -r CurlyBraceDemo \n",
    "mkdir CurlyBraceDemo  \n",
    "touch CurlyBraceDemo/{a,b,c}.txt \n",
    "ls -l -a  CurlyBraceDemo"
   ]
  },
  {
   "cell_type": "code",
   "execution_count": 54,
   "metadata": {
    "vscode": {
     "languageId": "shellscript"
    }
   },
   "outputs": [
    {
     "name": "stdout",
     "output_type": "stream",
     "text": [
      "total 4\n",
      "drwxrwx--- 1 root vboxsf    0 Jul 10 19:08 .\n",
      "drwxrwx--- 1 root vboxsf 4096 Jul 10 19:08 ..\n",
      "-rwxrwx--- 1 root vboxsf    0 Jul 10 19:08 DiffFile1.txt\n",
      "-rwxrwx--- 1 root vboxsf    0 Jul 10 19:08 DiffFile2.txt\n",
      "2,3c2,3\n",
      "< b\n",
      "< c\n",
      "---\n",
      "> d\n",
      "> e\n"
     ]
    },
    {
     "ename": "",
     "evalue": "1",
     "output_type": "error",
     "traceback": []
    }
   ],
   "source": [
    "# diff is used to compare files \n",
    "## Creating files \n",
    "rm -r DiffDemo\n",
    "mkdir DiffDemo\n",
    "touch DiffDemo/\"DiffFile\"{1,2}.txt\n",
    "ls -la DiffDemo\n",
    "\n",
    "## Prearping file data \n",
    "echo -e \"a\\nb\\nc\\n\" > DiffDemo/DiffFile1.txt\n",
    "echo -e \"a\\nd\\ne\\n\" > DiffDemo/DiffFile2.txt\n",
    "#\n",
    "diff DiffDemo/DiffFile1.txt DiffDemo/DiffFile2.txt\n"
   ]
  },
  {
   "cell_type": "code",
   "execution_count": 55,
   "metadata": {
    "vscode": {
     "languageId": "shellscript"
    }
   },
   "outputs": [
    {
     "name": "stdout",
     "output_type": "stream",
     "text": [
      "--- DiffDemo/DiffFile1.txt\t2024-07-10 19:08:09.548908100 +1200\n",
      "+++ DiffDemo/DiffFile2.txt\t2024-07-10 19:08:09.654236800 +1200\n",
      "@@ -1,4 +1,4 @@\n",
      " a\n",
      "-b\n",
      "-c\n",
      "+d\n",
      "+e\n",
      " \n"
     ]
    },
    {
     "ename": "",
     "evalue": "1",
     "output_type": "error",
     "traceback": []
    }
   ],
   "source": [
    "diff -u DiffDemo/DiffFile1.txt DiffDemo/DiffFile2.txt"
   ]
  },
  {
   "cell_type": "code",
   "execution_count": 56,
   "metadata": {
    "vscode": {
     "languageId": "shellscript"
    }
   },
   "outputs": [
    {
     "name": "stdout",
     "output_type": "stream",
     "text": [
      "Find all files . means in current folder\n",
      ".\n",
      "./Copydata1\n",
      "./Copydata1/data1\n",
      "./Copydata1/data1/Copyfile1.txt\n",
      "./Copydata1/data1/file1.txt\n",
      "./Copydata1/data1/file3.txt\n",
      "./Copydata1/data1/file4.txt\n",
      "./Copydata1/data1/files2.txt\n",
      "./Copydata1/file1.txt\n",
      "./Copydata1/file3.txt\n",
      "./Copydata1/file4.txt\n",
      "./Copydata1/files2.txt\n",
      "./CurlyBraceDemo\n",
      "./CurlyBraceDemo/a.txt\n",
      "./CurlyBraceDemo/b.txt\n",
      "./CurlyBraceDemo/c.txt\n",
      "./data\n",
      "./data/num.txt\n",
      "./data1\n",
      "./data1/file1.txt\n",
      "./data1/file3.txt\n",
      "./data1/file4.txt\n",
      "./data1/files2.txt\n",
      "./DiffDemo\n",
      "./DiffDemo/DiffFile1.txt\n",
      "./DiffDemo/DiffFile2.txt\n",
      "./fcc-linux-50-commands_1.ipynb\n",
      "./FolderData\n",
      "./FolderData/Folder1\n",
      "./GZipExample\n",
      "./GZipExample/Zip 1.txt\n",
      "./GZipExample/Zip 1.txt.gz\n",
      "./GZipExample/Zip 2.txt\n",
      "./GZipExample/Zip 2.txt.gz\n",
      "./GZipExample/Zip 3.txt\n",
      "./GZipExample/Zip 3.txt.gz\n",
      "./GzipExample.tar\n",
      "./LinkDemo\n",
      "./LinkDemo/hardlink.txt\n",
      "./LinkDemo/original.txt\n",
      "./test\n",
      "./XargsDemo\n",
      "./XargsDemo/DeleteFile.txt\n",
      "./XargsDemo/File10.txt\n",
      "./XargsDemo/File2.txt\n",
      "./XargsDemo/File4.txt\n",
      "./XargsDemo/File6.txt\n",
      "./XargsDemo/File8.txt\n"
     ]
    }
   ],
   "source": [
    "# Fins is used to search for files \n",
    "echo Find all files . means in current folder \n",
    "find . "
   ]
  },
  {
   "cell_type": "code",
   "execution_count": 57,
   "metadata": {
    "vscode": {
     "languageId": "shellscript"
    }
   },
   "outputs": [
    {
     "name": "stdout",
     "output_type": "stream",
     "text": [
      "./Copydata1/data1/Copyfile1.txt\n",
      "./Copydata1/data1/file1.txt\n",
      "./Copydata1/data1/file3.txt\n",
      "./Copydata1/data1/file4.txt\n",
      "./Copydata1/data1/files2.txt\n",
      "./Copydata1/file1.txt\n",
      "./Copydata1/file3.txt\n",
      "./Copydata1/file4.txt\n",
      "./Copydata1/files2.txt\n",
      "./data1/file1.txt\n",
      "./data1/file3.txt\n",
      "./data1/file4.txt\n",
      "./data1/files2.txt\n"
     ]
    }
   ],
   "source": [
    "## find on name all files containing the word name \n",
    "find . -name '*file*' "
   ]
  },
  {
   "cell_type": "code",
   "execution_count": 58,
   "metadata": {
    "vscode": {
     "languageId": "shellscript"
    }
   },
   "outputs": [
    {
     "name": "stdout",
     "output_type": "stream",
     "text": [
      ".\n",
      "./Copydata1\n",
      "./Copydata1/data1\n",
      "./CurlyBraceDemo\n",
      "./data\n",
      "./data1\n",
      "./DiffDemo\n",
      "./FolderData\n",
      "./FolderData/Folder1\n",
      "./GZipExample\n",
      "./LinkDemo\n",
      "./test\n",
      "./XargsDemo\n"
     ]
    }
   ],
   "source": [
    "### Find all types directory \n",
    "find . -type d "
   ]
  },
  {
   "cell_type": "code",
   "execution_count": 59,
   "metadata": {
    "vscode": {
     "languageId": "shellscript"
    }
   },
   "outputs": [
    {
     "name": "stdout",
     "output_type": "stream",
     "text": [
      "0\t./Copydata1/data1\n",
      "0\t./Copydata1\n",
      "0\t./CurlyBraceDemo\n",
      "512\t./data\n",
      "0\t./data1\n",
      "1.0K\t./DiffDemo\n",
      "0\t./FolderData/Folder1\n",
      "0\t./FolderData\n",
      "1.5K\t./GZipExample\n",
      "1.0K\t./LinkDemo\n",
      "0\t./test\n",
      "4.5K\t./XargsDemo\n",
      "269K\t.\n"
     ]
    }
   ],
   "source": [
    "#Disk Usage \n",
    "du -h"
   ]
  },
  {
   "cell_type": "code",
   "execution_count": 60,
   "metadata": {
    "vscode": {
     "languageId": "shellscript"
    }
   },
   "outputs": [
    {
     "name": "stdout",
     "output_type": "stream",
     "text": [
      "Filesystem          1K-blocks      Used Available Use% Mounted on\n",
      "tmpfs                 1458760      3216   1455544   1% /run\n",
      "/dev/sda3           198318216 122341556  66836908  65% /\n",
      "tmpfs                 7293800     46668   7247132   1% /dev/shm\n",
      "tmpfs                    5120         4      5116   1% /run/lock\n",
      "tmpfs                 7293800         0   7293800   0% /run/qemu\n",
      "/dev/sda2              524252      6220    518032   2% /boot/efi\n",
      "ComputerVisionLabs  976744444 362744656 613999788  38% /media/sf_ComputerVisionLabs\n",
      "MINZ_2024           976744444 362744656 613999788  38% /media/sf_MINZ_2024\n",
      "ScalableDataScience 976744444 362744656 613999788  38% /media/sf_ScalableDataScience\n",
      "data_engineering    976744444 362744656 613999788  38% /media/sf_data_engineering\n",
      "jupyterlab          223090684  96776508 126314176  44% /media/sf_jupyterlab\n",
      "tmpfs                 1458760       156   1458604   1% /run/user/1000\n",
      "/dev/sr0                52196     52196         0 100% /media/hravat/VBox_GAs_7.0.12\n"
     ]
    }
   ],
   "source": [
    "## Find details of mounted file systems using df \n",
    "df "
   ]
  },
  {
   "cell_type": "code",
   "execution_count": 61,
   "metadata": {
    "vscode": {
     "languageId": "shellscript"
    }
   },
   "outputs": [
    {
     "name": "stdout",
     "output_type": "stream",
     "text": [
      " 2331  diff -u DiffDemo/DiffFile1.txt DiffDemo/DiffFile2.txt\n",
      " 2332  { echo $?; } 2>/dev/null\n",
      " 2333  # Fins is used to search for files \n",
      " 2334  echo Find all files . means in current folder \n",
      " 2335  find .\n",
      " 2336  { echo $?; } 2>/dev/null\n",
      " 2337  ## find on name all files containing the word name \n",
      " 2338  find . -name '*file*'\n",
      " 2339  { echo $?; } 2>/dev/null\n",
      " 2340  ### Find all types directory \n",
      " 2341  find . -type d\n",
      " 2342  { echo $?; } 2>/dev/null\n",
      " 2343  #Disk Usage \n",
      " 2344  du -h\n",
      " 2345  { echo $?; } 2>/dev/null\n",
      " 2346  ## Find details of mounted file systems using df \n",
      " 2347  df\n",
      " 2348  { echo $?; } 2>/dev/null\n",
      " 2349  ###### Check the history \n",
      " 2350  history | tail -n 20\n"
     ]
    }
   ],
   "source": [
    "###### Check the history \n",
    "history | tail -n 20"
   ]
  },
  {
   "cell_type": "code",
   "execution_count": 62,
   "metadata": {
    "vscode": {
     "languageId": "shellscript"
    }
   },
   "outputs": [
    {
     "name": "stdout",
     "output_type": "stream",
     "text": [
      "## Creating files \n"
     ]
    }
   ],
   "source": [
    "## Run history via number \n",
    "!2285"
   ]
  },
  {
   "cell_type": "code",
   "execution_count": 82,
   "metadata": {
    "vscode": {
     "languageId": "shellscript"
    }
   },
   "outputs": [
    {
     "name": "stdout",
     "output_type": "stream",
     "text": [
      "Display prcess running\n",
      "    PID TTY          TIME CMD\n",
      " 103479 pts/1    00:00:04 bash\n",
      " 120960 pts/1    00:00:00 ps\n",
      "Display systems processes\n",
      "    PID TTY      STAT   TIME COMMAND\n",
      "      1 ?        Ss     0:18 /sbin/init splash\n",
      "      2 ?        S      0:00 [kthreadd]\n",
      "      3 ?        I<     0:00 [rcu_gp]\n",
      "      4 ?        I<     0:00 [rcu_par_gp]\n",
      "      5 ?        I<     0:00 [slub_flushwq]\n",
      "      6 ?        I<     0:00 [netns]\n",
      "     11 ?        I<     0:00 [mm_percpu_wq]\n",
      "     12 ?        I      0:00 [rcu_tasks_kthread]\n",
      "     13 ?        I      0:00 [rcu_tasks_rude_kthread]\n",
      "     14 ?        I      0:00 [rcu_tasks_trace_kthread]\n",
      "     15 ?        S      1:45 [ksoftirqd/0]\n",
      "     16 ?        I      1:06 [rcu_preempt]\n",
      "     17 ?        S      0:01 [migration/0]\n",
      "     18 ?        S      0:00 [idle_inject/0]\n",
      "     19 ?        S      0:00 [cpuhp/0]\n",
      "     20 ?        S      0:00 [cpuhp/1]\n",
      "     21 ?        S      0:00 [idle_inject/1]\n",
      "     22 ?        S      0:07 [migration/1]\n",
      "     23 ?        S      0:21 [ksoftirqd/1]\n",
      "     26 ?        S      0:00 [cpuhp/2]\n",
      "     27 ?        S      0:00 [idle_inject/2]\n",
      "     28 ?        S      0:08 [migration/2]\n",
      "     29 ?        S      0:10 [ksoftirqd/2]\n",
      "     32 ?        S      0:00 [cpuhp/3]\n",
      "     33 ?        S      0:00 [idle_inject/3]\n",
      "     34 ?        S      0:08 [migration/3]\n",
      "     35 ?        S      0:27 [ksoftirqd/3]\n",
      "     38 ?        S      0:00 [kdevtmpfs]\n",
      "     39 ?        I<     0:00 [inet_frag_wq]\n",
      "     41 ?        S      0:00 [kauditd]\n",
      "     42 ?        S      0:00 [khungtaskd]\n",
      "     43 ?        S      0:00 [oom_reaper]\n",
      "     45 ?        I<     0:00 [writeback]\n",
      "     46 ?        S      0:02 [kcompactd0]\n",
      "     47 ?        SN     0:00 [ksmd]\n",
      "     48 ?        SN     0:07 [khugepaged]\n",
      "     49 ?        I<     0:00 [kintegrityd]\n",
      "     50 ?        I<     0:00 [kblockd]\n",
      "     51 ?        I<     0:00 [blkcg_punt_bio]\n",
      "     52 ?        I<     0:00 [tpm_dev_wq]\n",
      "     53 ?        I<     0:00 [ata_sff]\n",
      "     54 ?        I<     0:00 [md]\n",
      "     55 ?        I<     0:00 [md_bitmap]\n",
      "     56 ?        I<     0:00 [edac-poller]\n",
      "     57 ?        I<     0:00 [devfreq_wq]\n",
      "     58 ?        S      0:00 [watchdogd]\n",
      "     63 ?        S      0:00 [kswapd0]\n",
      "     64 ?        S      0:00 [ecryptfs-kthread]\n",
      "     65 ?        I<     0:00 [kthrotld]\n",
      "     66 ?        I<     0:00 [acpi_thermal_pm]\n",
      "     67 ?        S      0:00 [scsi_eh_0]\n",
      "     68 ?        I<     0:00 [scsi_tmf_0]\n",
      "     69 ?        S      0:00 [scsi_eh_1]\n",
      "     70 ?        I<     0:00 [scsi_tmf_1]\n",
      "     73 ?        I<     0:00 [mld]\n",
      "     75 ?        I<     0:00 [ipv6_addrconf]\n",
      "     83 ?        I<     0:00 [kstrp]\n",
      "     85 ?        I<     0:00 [kworker/u9:0]\n",
      "     89 ?        I<     0:00 [charger_manager]\n",
      "    150 ?        S      0:00 [scsi_eh_2]\n",
      "    151 ?        I<     0:00 [scsi_tmf_2]\n",
      "    196 ?        S      0:35 [jbd2/sda3-8]\n",
      "    197 ?        I<     0:00 [ext4-rsv-conver]\n",
      "    244 ?        S<s    0:10 /lib/systemd/systemd-journald\n",
      "    281 ?        S      0:05 [irq/18-vmwgfx]\n",
      "    282 ?        I<     0:00 [ttm]\n",
      "    322 ?        Ss     0:03 /lib/systemd/systemd-udevd\n",
      "    434 ?        I<     0:00 [cryptd]\n",
      "    853 ?        Ss     0:46 /lib/systemd/systemd-oomd\n",
      "    854 ?        Ss     0:08 /lib/systemd/systemd-resolved\n",
      "    855 ?        Ssl    0:01 /lib/systemd/systemd-timesyncd\n",
      "    888 ?        Ssl    0:03 /usr/libexec/accounts-daemon\n",
      "    889 ?        Ss     0:02 /usr/sbin/acpid\n",
      "    892 ?        Ss     0:01 avahi-daemon: running [hravat.local]\n",
      "    893 ?        Ss     0:00 /usr/sbin/cron -f -P\n",
      "    894 ?        Ss     0:13 @dbus-daemon --system --address=systemd: --nofork -\n",
      "    895 ?        Ssl    0:05 /usr/sbin/NetworkManager --no-daemon\n",
      "    901 ?        Ssl    0:01 /usr/sbin/irqbalance --foreground\n",
      "    903 ?        Ss     0:02 /usr/bin/python3 /usr/bin/networkd-dispatcher --run\n",
      "    904 ?        Ssl    0:04 /usr/libexec/polkitd --no-debug\n",
      "    905 ?        Ssl    0:00 /usr/libexec/power-profiles-daemon\n",
      "    906 ?        Ssl    0:03 /usr/sbin/rsyslogd -n -iNONE\n",
      "    916 ?        Ssl    0:58 /usr/lib/snapd/snapd\n",
      "    920 ?        Ssl    0:00 /usr/libexec/switcheroo-control\n",
      "    927 ?        Ss     0:01 /lib/systemd/systemd-logind\n",
      "    930 ?        Ssl    0:02 /usr/libexec/udisks2/udisksd\n",
      "    934 ?        Ss     0:00 /sbin/wpa_supplicant -u -s -O /run/wpa_supplicant\n",
      "    939 ?        S      0:00 avahi-daemon: chroot helper\n",
      "   1024 ?        Ssl    0:01 /usr/sbin/ModemManager\n",
      "   1033 ?        Ss     0:01 /usr/sbin/cupsd -l\n",
      "   1039 ?        Ssl    0:01 /usr/bin/python3 /usr/share/unattended-upgrades/una\n",
      "   1040 ?        Ssl    2:28 java -Xmx512M -Xms512M -server -XX:+UseG1GC -XX:Max\n",
      "   1041 ?        Ss     0:00 /bin/sh -c /home/hravat/.kafka/kafka/bin/kafka-serv\n",
      "   1046 ?        Ssl    0:14 /usr/bin/containerd\n",
      "   1056 ?        Sl     8:26 java -Xmx1G -Xms1G -server -XX:+UseG1GC -XX:MaxGCPa\n",
      "   1063 ?        Ss     0:00 sshd: /usr/sbin/sshd -D [listener] 0 of 10-100 star\n",
      "   1080 ?        S      0:00 /usr/lib/cups/notifier/dbus dbus://\n",
      "   1083 ?        Ss     0:00 /usr/lib/postgresql/16/bin/postgres -D /var/lib/pos\n",
      "   1104 ?        Ssl    0:00 /usr/sbin/cups-browsed\n",
      "   1119 ?        Ss     0:02 /usr/sbin/nmbd --foreground --no-process-group\n",
      "   1127 ?        Ss     0:00 /usr/sbin/kerneloops --test\n",
      "   1135 ?        Ss     0:00 /usr/sbin/kerneloops\n",
      "   1666 ?        Ss     0:00 postgres: 16/main: checkpointer \n",
      "   1674 ?        Ss     0:00 postgres: 16/main: background writer \n",
      "   2062 ?        Ss     0:00 /usr/sbin/smbd --foreground --no-process-group\n",
      "   2131 ?        S      0:00 /usr/sbin/smbd --foreground --no-process-group\n",
      "   2132 ?        S      0:00 /usr/sbin/smbd --foreground --no-process-group\n",
      "   2143 ?        S      0:00 /usr/lib/x86_64-linux-gnu/samba/samba-bgqd --ready-\n",
      "   2155 ?        Ssl    0:29 /usr/bin/dockerd -H fd:// --containerd=/run/contain\n",
      "   2451 ?        Ss     0:00 postgres: 16/main: walwriter \n",
      "   2452 ?        Ss     0:00 postgres: 16/main: autovacuum launcher \n",
      "   2453 ?        Ss     0:00 postgres: 16/main: logical replication launcher \n",
      "   3602 ?        Sl     0:55 /usr/bin/VBoxDRMClient\n",
      "   3604 ?        Sl     0:57 /usr/sbin/VBoxService --pidfile /var/run/vboxadd-se\n",
      "   4169 ?        Ssl    0:01 /usr/sbin/gdm3\n",
      "   4176 ?        Sl     0:03 gdm-session-worker [pam/gdm-autologin]\n",
      "   4182 ?        Ss     0:07 /lib/systemd/systemd --user\n",
      "   4183 ?        S      0:00 (sd-pam)\n",
      "   4193 ?        S<sl   0:00 /usr/bin/pipewire\n",
      "   4194 ?        Ssl    0:00 /usr/bin/pipewire-media-session\n",
      "   4195 ?        S<sl   0:02 /usr/bin/pulseaudio --daemonize=no --log-target=jou\n",
      "   4209 ?        Ss     0:15 /usr/bin/dbus-daemon --session --address=systemd: -\n",
      "   4211 ?        SLl    0:01 /usr/bin/gnome-keyring-daemon --daemonize --login\n",
      "   4215 ?        SNsl   0:03 /usr/libexec/rtkit-daemon\n",
      "   4219 tty2     Ssl+   0:00 /usr/libexec/gdm-wayland-session env GNOME_SHELL_SE\n",
      "   4223 tty2     Sl+    0:00 /usr/libexec/gnome-session-binary --session=ubuntu\n",
      "   4225 ?        Ssl    0:01 /usr/libexec/xdg-document-portal\n",
      "   4235 ?        Ssl    0:00 /usr/libexec/xdg-permission-store\n",
      "   4248 ?        Ss     0:00 fusermount3 -o rw,nosuid,nodev,fsname=portal,auto_u\n",
      "   4281 ?        Ssl    0:00 /usr/libexec/gnome-session-ctl --monitor\n",
      "   4291 ?        Ssl    0:00 /usr/libexec/gvfsd\n",
      "   4300 ?        Sl     0:00 /usr/libexec/gvfsd-fuse /run/user/1000/gvfs -f\n",
      "   4302 ?        Ssl    0:01 /usr/libexec/gnome-session-binary --systemd-service\n",
      "   4332 ?        Sl     0:00 /usr/libexec/at-spi-bus-launcher --launch-immediate\n",
      "   4338 ?        Ssl   35:02 /usr/bin/gnome-shell\n",
      "   4347 ?        S      0:00 /usr/bin/dbus-daemon --config-file=/usr/share/defau\n",
      "   4447 ?        Ss     0:00 /snap/snapd-desktop-integration/157/usr/bin/snapd-d\n",
      "   4499 ?        Sl     0:00 /snap/snapd-desktop-integration/157/usr/bin/snapd-d\n",
      "   4520 ?        Sl     0:01 /usr/libexec/gnome-shell-calendar-server\n",
      "   4523 ?        Ssl    0:00 /usr/libexec/upowerd\n",
      "   4530 ?        Ssl    0:01 /usr/libexec/evolution-source-registry\n",
      "   4535 ?        Ssl    0:00 /usr/libexec/dconf-service\n",
      "   4541 ?        Ssl    0:01 /usr/libexec/gvfs-udisks2-volume-monitor\n",
      "   4551 ?        SLl    0:04 /usr/libexec/goa-daemon\n",
      "   4562 ?        Ssl    0:00 /usr/libexec/gvfsd-metadata\n",
      "   4570 ?        Ssl    0:00 /usr/libexec/gvfs-goa-volume-monitor\n",
      "   4578 ?        Ssl    0:06 /usr/libexec/evolution-calendar-factory\n",
      "   4587 ?        Sl     0:00 /usr/libexec/goa-identity-service\n",
      "   4593 ?        Ssl    0:00 /usr/libexec/gvfs-gphoto2-volume-monitor\n",
      "   4598 ?        Ssl    0:02 /usr/libexec/gvfs-afc-volume-monitor\n",
      "   4603 ?        Ssl    0:00 /usr/libexec/gvfs-mtp-volume-monitor\n",
      "   4613 ?        Ssl    0:25 /usr/libexec/packagekitd\n",
      "   4628 ?        Ssl    0:00 /usr/libexec/evolution-addressbook-factory\n",
      "   4644 ?        Sl     0:00 /usr/libexec/gvfsd-trash --spawner :1.15 /org/gtk/g\n",
      "   4662 ?        Sl     0:00 /usr/bin/gjs /usr/share/gnome-shell/org.gnome.Shell\n",
      "   4664 ?        Sl     0:00 /usr/libexec/at-spi2-registryd --use-gnome-session\n",
      "   4672 ?        Ss     0:00 sh -c /usr/bin/ibus-daemon --panel disable $([ \"$XD\n",
      "   4675 ?        Ssl    0:00 /usr/libexec/gsd-a11y-settings\n",
      "   4678 ?        Ssl    0:04 /usr/libexec/gsd-color\n",
      "   4679 ?        Ssl    0:00 /usr/libexec/gsd-datetime\n",
      "   4684 ?        Ssl    0:01 /usr/libexec/gsd-housekeeping\n",
      "   4686 ?        Sl     0:02 /usr/bin/ibus-daemon --panel disable\n",
      "   4693 ?        Ssl    0:00 /usr/libexec/gsd-keyboard\n",
      "   4694 ?        Ssl    0:00 /usr/libexec/gsd-media-keys\n",
      "   4695 ?        Ssl    0:00 /usr/libexec/gsd-power\n",
      "   4696 ?        Ssl    0:00 /usr/libexec/gsd-print-notifications\n",
      "   4702 ?        Ssl    0:00 /usr/libexec/gsd-rfkill\n",
      "   4704 ?        Ssl    0:00 /usr/libexec/gsd-screensaver-proxy\n",
      "   4712 ?        Ssl    0:00 /usr/libexec/gsd-sharing\n",
      "   4713 ?        Ssl    0:00 /usr/libexec/gsd-smartcard\n",
      "   4714 ?        Ssl    0:00 /usr/libexec/gsd-sound\n",
      "   4716 ?        Ssl    0:00 /usr/libexec/gsd-wacom\n",
      "   4774 ?        Sl     0:00 /usr/libexec/gsd-printer\n",
      "   4775 ?        Sl     0:02 /usr/libexec/evolution-data-server/evolution-alarm-\n",
      "   4789 ?        Sl     0:00 /usr/libexec/ibus-dconf\n",
      "   4791 ?        Sl     1:57 /usr/bin/python3 /usr/bin/variety --profile /home/h\n",
      "   4794 ?        Sl     0:03 /usr/libexec/ibus-extension-gtk3\n",
      "   4801 ?        Sl     0:00 /usr/libexec/gsd-disk-utility-notify\n",
      "   4810 ?        Sl     0:00 /usr/libexec/ibus-portal\n",
      "   4861 ?        Sl     0:09 /snap/snap-store/1113/usr/bin/snap-store --gapplica\n",
      "   4896 ?        S      4:40 /usr/bin/Xwayland :0 -rootless -noreset -accessx -c\n",
      "   4900 ?        Sl     0:00 /usr/libexec/ibus-engine-simple\n",
      "   4970 ?        Ssl    0:04 /usr/libexec/xdg-desktop-portal\n",
      "   4974 ?        Ssl    0:07 /usr/libexec/xdg-desktop-portal-gnome\n",
      "   4983 ?        Ssl    0:01 /usr/libexec/colord\n",
      "   5033 ?        Sl     0:00 /usr/bin/gjs /usr/share/gnome-shell/org.gnome.Scree\n",
      "   5051 ?        Ssl    0:02 /usr/libexec/gsd-xsettings\n",
      "   5057 ?        Ssl    0:01 /usr/libexec/xdg-desktop-portal-gtk\n",
      "   5107 ?        Sl     0:01 /usr/libexec/ibus-x11\n",
      "   5140 ?        S      0:00 /usr/bin/VBoxClient --seamless\n",
      "   5141 ?        Sl     0:39 /usr/bin/VBoxClient --seamless\n",
      "   5148 ?        S      0:00 /usr/bin/VBoxClient --draganddrop\n",
      "   5151 ?        Sl     1:43 /usr/bin/VBoxClient --draganddrop\n",
      "   5153 ?        S      0:00 /usr/bin/VBoxClient --vmsvga-session\n",
      "   5154 ?        Sl     0:04 /usr/bin/VBoxClient --vmsvga-session\n",
      "   5208 ?        SNsl   0:03 /usr/libexec/tracker-miner-fs-3\n",
      "   5327 ?        Sl     0:00 /usr/libexec/gvfsd-network --spawner :1.15 /org/gtk\n",
      "   5373 ?        Sl     0:00 /usr/libexec/gvfsd-dnssd --spawner :1.15 /org/gtk/g\n",
      "   6581 ?        Sl     0:01 update-notifier\n",
      "   7743 ?        SLsl   4:55 /snap/code-insiders/1683/usr/share/code-insiders/co\n",
      "   7748 ?        S      0:00 /snap/code-insiders/1683/usr/share/code-insiders/co\n",
      "   7749 ?        S      0:00 /snap/code-insiders/1683/usr/share/code-insiders/co\n",
      "   7775 ?        Sl     0:01 /snap/code-insiders/1683/usr/share/code-insiders/ch\n",
      "   7831 ?        Sl     0:29 /snap/code-insiders/1683/usr/share/code-insiders/co\n",
      "   7893 ?        Sl    47:25 /snap/code-insiders/1683/usr/share/code-insiders/co\n",
      "   7933 ?        Sl    15:34 /snap/code-insiders/1683/usr/share/code-insiders/co\n",
      "   7983 ?        Sl     3:56 /snap/code-insiders/1683/usr/share/code-insiders/co\n",
      "   8020 ?        Sl     0:27 /snap/code-insiders/1683/usr/share/code-insiders/co\n",
      "   8038 ?        Sl    14:58 /snap/code-insiders/1683/usr/share/code-insiders/co\n",
      "   8086 ?        Sl     2:12 /snap/code-insiders/1683/usr/share/code-insiders/co\n",
      "   8206 ?        Sl     0:04 /snap/code-insiders/1683/usr/share/code-insiders/co\n",
      "   8215 ?        S      0:04 /home/hravat/.vscode-insiders/extensions/ms-python.\n",
      "   8432 ?        Sl     0:42 /home/hravat/.config/Code - Insiders/User/globalSto\n",
      "   8459 pts/0    Ss     0:05 /usr/bin/zsh -i\n",
      "   8501 ?        Sl     5:36 /home/hravat/.config/Code - Insiders/User/globalSto\n",
      "   8645 pts/0    S+     0:00 sudo chmod 666 /var/run/docker.sock\n",
      "   8670 ?        Sl     0:05 /snap/code-insiders/1683/usr/share/code-insiders/co\n",
      "   8688 ?        Sl     0:04 /home/hravat/.config/Code - Insiders/User/globalSto\n",
      "   8691 ?        Sl     0:37 /home/hravat/.local/share/TabNine/servers/vdb/1.7.3\n",
      "   9043 ?        Sl     0:34 /snap/code-insiders/1683/usr/share/code-insiders/co\n",
      "   9103 ?        Sl     0:00 /home/hravat/.config/Code - Insiders/User/globalSto\n",
      "   9162 ?        Sl     0:03 /bin/python3 /home/hravat/.vscode-insiders/extensio\n",
      "   9205 ?        Sl     0:04 /snap/code-insiders/1683/usr/share/code-insiders/co\n",
      "  13207 ?        Sl     0:28 /home/hravat/.config/Code - Insiders/User/globalSto\n",
      "  17630 ?        Sl     0:00 /usr/libexec/gvfsd-google --spawner :1.15 /org/gtk/\n",
      "  30171 ?        I      0:06 [kworker/1:0-events]\n",
      "  68375 ?        Sl     0:06 /snap/code-insiders/1683/usr/share/code-insiders/co\n",
      "  69449 ?        Sl     0:06 /snap/code-insiders/1683/usr/share/code-insiders/co\n",
      "  70447 ?        Sl     0:16 /home/hravat/.config/Code - Insiders/User/globalSto\n",
      "  71559 ?        Sl     0:13 /usr/bin/nautilus --gapplication-service\n",
      "  87291 ?        I      0:00 [kworker/2:0-events]\n",
      "  92341 ?        I<     0:02 [kworker/3:1H-kblockd]\n",
      " 100602 ?        I      0:00 [kworker/3:2-cgroup_destroy]\n",
      " 101593 ?        I      0:14 [kworker/u8:4-events_power_efficient]\n",
      " 102597 ?        I<     0:01 [kworker/2:2H-kblockd]\n",
      " 103202 ?        I<     0:00 [kworker/0:2H-kblockd]\n",
      " 103415 ?        Sl     0:13 /home/hravat/anaconda3/bin/python -m bash_kernel -f\n",
      " 103479 pts/1    Ss     0:04 /home/hravat/anaconda3/bin/bash --rcfile /home/hrav\n",
      " 103812 ?        I      0:01 [kworker/2:1-mm_percpu_wq]\n",
      " 105564 ?        I      0:01 [kworker/0:0-events]\n",
      " 107609 ?        I      0:00 [kworker/1:2]\n",
      " 109333 ?        I      0:07 [kworker/u8:0-flush-8:0]\n",
      " 111159 ?        I<     0:00 [kworker/1:0H-kblockd]\n",
      " 115420 ?        I<     0:00 [kworker/2:0H-kblockd]\n",
      " 116604 ?        I      0:02 [kworker/0:2-mm_percpu_wq]\n",
      " 116647 ?        I<     0:01 [kworker/1:2H-kblockd]\n",
      " 116657 ?        Sl     0:02 gjs /usr/share/gnome-shell/extensions/ding@rasterso\n",
      " 116742 ?        I<     0:01 [kworker/0:0H-kblockd]\n",
      " 117001 ?        I      0:03 [kworker/u8:2-ext4-rsv-conversion]\n",
      " 117725 ?        I<     0:00 [kworker/3:2H-kblockd]\n",
      " 118262 ?        Sl     0:15 /snap/code-insiders/1683/usr/share/code-insiders/co\n",
      " 118339 ?        I      0:00 [kworker/3:0-mm_percpu_wq]\n",
      " 119072 ?        I      0:03 [kworker/0:1-events]\n",
      " 119392 ?        I<     0:00 [kworker/1:1H-kblockd]\n",
      " 119411 ?        I<     0:00 [kworker/2:1H-kblockd]\n",
      " 119653 ?        I<     0:00 [kworker/0:1H-kblockd]\n",
      " 119819 ?        R      0:01 [kworker/u8:1-events_unbound]\n",
      " 120393 ?        I<     0:00 [kworker/3:0H-kblockd]\n",
      " 120412 ?        I      0:00 [kworker/u8:3]\n",
      " 120868 ?        I<     0:00 [kworker/3:3H-kblockd]\n",
      " 120962 pts/1    R+     0:00 ps ax\n",
      "Display process with wrap\n",
      "    PID TTY      STAT   TIME COMMAND\n",
      "      1 ?        Ss     0:18 /sbin/init splash\n",
      "      2 ?        S      0:00 [kthreadd]\n",
      "      3 ?        I<     0:00 [rcu_gp]\n",
      "      4 ?        I<     0:00 [rcu_par_gp]\n",
      "      5 ?        I<     0:00 [slub_flushwq]\n",
      "      6 ?        I<     0:00 [netns]\n",
      "     11 ?        I<     0:00 [mm_percpu_wq]\n",
      "     12 ?        I      0:00 [rcu_tasks_kthread]\n",
      "     13 ?        I      0:00 [rcu_tasks_rude_kthread]\n",
      "     14 ?        I      0:00 [rcu_tasks_trace_kthread]\n",
      "     15 ?        S      1:45 [ksoftirqd/0]\n",
      "     16 ?        I      1:06 [rcu_preempt]\n",
      "     17 ?        S      0:01 [migration/0]\n",
      "     18 ?        S      0:00 [idle_inject/0]\n",
      "     19 ?        S      0:00 [cpuhp/0]\n",
      "     20 ?        S      0:00 [cpuhp/1]\n",
      "     21 ?        S      0:00 [idle_inject/1]\n",
      "     22 ?        S      0:07 [migration/1]\n",
      "     23 ?        S      0:21 [ksoftirqd/1]\n",
      "     26 ?        S      0:00 [cpuhp/2]\n",
      "     27 ?        S      0:00 [idle_inject/2]\n",
      "     28 ?        S      0:08 [migration/2]\n",
      "     29 ?        S      0:10 [ksoftirqd/2]\n",
      "     32 ?        S      0:00 [cpuhp/3]\n",
      "     33 ?        S      0:00 [idle_inject/3]\n",
      "     34 ?        S      0:08 [migration/3]\n",
      "     35 ?        S      0:27 [ksoftirqd/3]\n",
      "     38 ?        S      0:00 [kdevtmpfs]\n",
      "     39 ?        I<     0:00 [inet_frag_wq]\n",
      "     41 ?        S      0:00 [kauditd]\n",
      "     42 ?        S      0:00 [khungtaskd]\n",
      "     43 ?        S      0:00 [oom_reaper]\n",
      "     45 ?        I<     0:00 [writeback]\n",
      "     46 ?        S      0:02 [kcompactd0]\n",
      "     47 ?        SN     0:00 [ksmd]\n",
      "     48 ?        SN     0:07 [khugepaged]\n",
      "     49 ?        I<     0:00 [kintegrityd]\n",
      "     50 ?        I<     0:00 [kblockd]\n",
      "     51 ?        I<     0:00 [blkcg_punt_bio]\n",
      "     52 ?        I<     0:00 [tpm_dev_wq]\n",
      "     53 ?        I<     0:00 [ata_sff]\n",
      "     54 ?        I<     0:00 [md]\n",
      "     55 ?        I<     0:00 [md_bitmap]\n",
      "     56 ?        I<     0:00 [edac-poller]\n",
      "     57 ?        I<     0:00 [devfreq_wq]\n",
      "     58 ?        S      0:00 [watchdogd]\n",
      "     63 ?        S      0:00 [kswapd0]\n",
      "     64 ?        S      0:00 [ecryptfs-kthread]\n",
      "     65 ?        I<     0:00 [kthrotld]\n",
      "     66 ?        I<     0:00 [acpi_thermal_pm]\n",
      "     67 ?        S      0:00 [scsi_eh_0]\n",
      "     68 ?        I<     0:00 [scsi_tmf_0]\n",
      "     69 ?        S      0:00 [scsi_eh_1]\n",
      "     70 ?        I<     0:00 [scsi_tmf_1]\n",
      "     73 ?        I<     0:00 [mld]\n",
      "     75 ?        I<     0:00 [ipv6_addrconf]\n",
      "     83 ?        I<     0:00 [kstrp]\n",
      "     85 ?        I<     0:00 [kworker/u9:0]\n",
      "     89 ?        I<     0:00 [charger_manager]\n",
      "    150 ?        S      0:00 [scsi_eh_2]\n",
      "    151 ?        I<     0:00 [scsi_tmf_2]\n",
      "    196 ?        S      0:35 [jbd2/sda3-8]\n",
      "    197 ?        I<     0:00 [ext4-rsv-conver]\n",
      "    244 ?        S<s    0:10 /lib/systemd/systemd-journald\n",
      "    281 ?        S      0:05 [irq/18-vmwgfx]\n",
      "    282 ?        I<     0:00 [ttm]\n",
      "    322 ?        Ss     0:03 /lib/systemd/systemd-udevd\n",
      "    434 ?        I<     0:00 [cryptd]\n",
      "    853 ?        Ss     0:46 /lib/systemd/systemd-oomd\n",
      "    854 ?        Ss     0:08 /lib/systemd/systemd-resolved\n",
      "    855 ?        Ssl    0:01 /lib/systemd/systemd-timesyncd\n",
      "    888 ?        Ssl    0:03 /usr/libexec/accounts-daemon\n",
      "    889 ?        Ss     0:02 /usr/sbin/acpid\n",
      "    892 ?        Ss     0:01 avahi-daemon: running [hravat.local]\n",
      "    893 ?        Ss     0:00 /usr/sbin/cron -f -P\n",
      "    894 ?        Ss     0:13 @dbus-daemon --system --address=systemd: --nofork --nopidfile --systemd-activation --syslog-only\n",
      "    895 ?        Ssl    0:05 /usr/sbin/NetworkManager --no-daemon\n",
      "    901 ?        Ssl    0:01 /usr/sbin/irqbalance --foreground\n",
      "    903 ?        Ss     0:02 /usr/bin/python3 /usr/bin/networkd-dispatcher --run-startup-triggers\n",
      "    904 ?        Ssl    0:04 /usr/libexec/polkitd --no-debug\n",
      "    905 ?        Ssl    0:00 /usr/libexec/power-profiles-daemon\n",
      "    906 ?        Ssl    0:03 /usr/sbin/rsyslogd -n -iNONE\n",
      "    916 ?        Ssl    0:58 /usr/lib/snapd/snapd\n",
      "    920 ?        Ssl    0:00 /usr/libexec/switcheroo-control\n",
      "    927 ?        Ss     0:01 /lib/systemd/systemd-logind\n",
      "    930 ?        Ssl    0:02 /usr/libexec/udisks2/udisksd\n",
      "    934 ?        Ss     0:00 /sbin/wpa_supplicant -u -s -O /run/wpa_supplicant\n",
      "    939 ?        S      0:00 avahi-daemon: chroot helper\n",
      "   1024 ?        Ssl    0:01 /usr/sbin/ModemManager\n",
      "   1033 ?        Ss     0:01 /usr/sbin/cupsd -l\n",
      "   1039 ?        Ssl    0:01 /usr/bin/python3 /usr/share/unattended-upgrades/unattended-upgrade-shutdown --wait-for-signal\n",
      "   1040 ?        Ssl    2:28 java -Xmx512M -Xms512M -server -XX:+UseG1GC -XX:MaxGCPauseMillis=20 -XX:InitiatingHeapOccupancyPercent=35 -XX:+ExplicitGCInvokesConcurrent -XX:MaxInlineLevel=15 -Djava.awt.headless=true -Xlog:gc*:file=/home/hravat/.kafka/kafka/bin/../logs/zookeeper-gc.log:time,tags:filecount=10,filesize=100M -Dcom.sun.management.jmxremote -Dcom.sun.management.jmxremote.authenticate=false -Dcom.sun.management.jmxremote.ssl=false -Dkafka.logs.dir=/home/hravat/.kafka/kafka/bin/../logs -Dlog4j.configuration=file:/home/hravat/.kafka/kafka/bin/../config/log4j.properties -cp /home/hravat/.kafka/kafka/bin/../libs/activation-1.1.1.jar:/home/hravat/.kafka/kafka/bin/../libs/aopalliance-repackaged-2.6.1.jar:/home/hravat/.kafka/kafka/bin/../libs/argparse4j-0.7.0.jar:/home/hravat/.kafka/kafka/bin/../libs/audience-annotations-0.12.0.jar:/home/hravat/.kafka/kafka/bin/../libs/caffeine-2.9.3.jar:/home/hravat/.kafka/kafka/bin/../libs/checker-qual-3.19.0.jar:/home/hravat/.kafka/kafka/bin/../libs/commons-beanutils-1.9.4.jar:/home/hravat/.kafka/kafka/bin/../libs/commons-cli-1.4.jar:/home/hravat/.kafka/kafka/bin/../libs/commons-collections-3.2.2.jar:/home/hravat/.kafka/kafka/bin/../libs/commons-digester-2.1.jar:/home/hravat/.kafka/kafka/bin/../libs/commons-io-2.11.0.jar:/home/hravat/.kafka/kafka/bin/../libs/commons-lang3-3.8.1.jar:/home/hravat/.kafka/kafka/bin/../libs/commons-logging-1.2.jar:/home/hravat/.kafka/kafka/bin/../libs/commons-validator-1.7.jar:/home/hravat/.kafka/kafka/bin/../libs/connect-api-3.7.0.jar:/home/hravat/.kafka/kafka/bin/../libs/connect-basic-auth-extension-3.7.0.jar:/home/hravat/.kafka/kafka/bin/../libs/connect-json-3.7.0.jar:/home/hravat/.kafka/kafka/bin/../libs/connect-mirror-3.7.0.jar:/home/hravat/.kafka/kafka/bin/../libs/connect-mirror-client-3.7.0.jar:/home/hravat/.kafka/kafka/bin/../libs/connect-runtime-3.7.0.jar:/home/hravat/.kafka/kafka/bin/../libs/connect-transforms-3.7.0.jar:/home/hravat/.kafka/kafka/bin/../libs/error_prone_annotations-2.10.0.jar:/home/hravat/.kafka/kafka/bin/../libs/hk2-api-2.6.1.jar:/home/hravat/.kafka/kafka/bin/../libs/hk2-locator-2.6.1.jar:/home/hravat/.kafka/kafka/bin/../libs/hk2-utils-2.6.1.jar:/home/hravat/.kafka/kafka/bin/../libs/jackson-annotations-2.16.0.jar:/home/hravat/.kafka/kafka/bin/../libs/jackson-core-2.16.0.jar:/home/hravat/.kafka/kafka/bin/../libs/jackson-databind-2.16.0.jar:/home/hravat/.kafka/kafka/bin/../libs/jackson-dataformat-csv-2.16.0.jar:/home/hravat/.kafka/kafka/bin/../libs/jackson-datatype-jdk8-2.16.0.jar:/home/hravat/.kafka/kafka/bin/../libs/jackson-jaxrs-base-2.16.0.jar:/home/hravat/.kafka/kafka/bin/../libs/jackson-jaxrs-json-provider-2.16.0.jar:/home/hravat/.kafka/kafka/bin/../libs/jackson-module-jaxb-annotations-2.16.0.jar:/home/hravat/.kafka/kafka/bin/../libs/jackson-module-scala_2.13-2.16.0.jar:/home/hravat/.kafka/kafka/bin/../libs/jakarta.activation-api-1.2.2.jar:/home/hravat/.kafka/kafka/bin/../libs/jakarta.annotation-api-1.3.5.jar:/home/hravat/.kafka/kafka/bin/../libs/jakarta.inject-2.6.1.jar:/home/hravat/.kafka/kafka/bin/../libs/jakarta.validation-api-2.0.2.jar:/home/hravat/.kafka/kafka/bin/../libs/jakarta.ws.rs-api-2.1.6.jar:/home/hravat/.kafka/kafka/bin/../libs/jakarta.xml.bind-api-2.3.3.jar:/home/hravat/.kafka/kafka/bin/../libs/javassist-3.29.2-GA.jar:/home/hravat/.kafka/kafka/bin/../libs/javax.activation-api-1.2.0.jar:/home/hravat/.kafka/kafka/bin/../libs/javax.annotation-api-1.3.2.jar:/home/hravat/.kafka/kafka/bin/../libs/javax.servlet-api-3.1.0.jar:/home/hravat/.kafka/kafka/bin/../libs/javax.ws.rs-api-2.1.1.jar:/home/hravat/.kafka/kafka/bin/../libs/jaxb-api-2.3.1.jar:/home/hravat/.kafka/kafka/bin/../libs/jersey-client-2.39.1.jar:/home/hravat/.kafka/kafka/bin/../libs/jersey-common-2.39.1.jar:/home/hravat/.kafka/kafka/bin/../libs/jersey-container-servlet-2.39.1.jar:/home/hravat/.kafka/kafka/bin/../libs/jersey-container-servlet-core-2.39.1.jar:/home/hravat/.kafka/kafka/bin/../libs/jersey-hk2-2.39.1.jar:/home/hravat/.kafka/kafka/bin/../libs/jersey-server-2.39.1.jar:/home/hravat/.kafka/kafka/bin/../libs/jetty-client-9.4.53.v20231009.jar:/home/hravat/.kafka/kafka/bin/../libs/jetty-continuation-9.4.53.v20231009.jar:/home/hravat/.kafka/kafka/bin/../libs/jetty-http-9.4.53.v20231009.jar:/home/hravat/.kafka/kafka/bin/../libs/jetty-io-9.4.53.v20231009.jar:/home/hravat/.kafka/kafka/bin/../libs/jetty-security-9.4.53.v20231009.jar:/home/hravat/.kafka/kafka/bin/../libs/jetty-server-9.4.53.v20231009.jar:/home/hravat/.kafka/kafka/bin/../libs/jetty-servlet-9.4.53.v20231009.jar:/home/hravat/.kafka/kafka/bin/../libs/jetty-servlets-9.4.53.v20231009.jar:/home/hravat/.kafka/kafka/bin/../libs/jetty-util-9.4.53.v20231009.jar:/home/hravat/.kafka/kafka/bin/../libs/jetty-util-ajax-9.4.53.v20231009.jar:/home/hravat/.kafka/kafka/bin/../libs/jline-3.22.0.jar:/home/hravat/.kafka/kafka/bin/../libs/jopt-simple-5.0.4.jar:/home/hravat/.kafka/kafka/bin/../libs/jose4j-0.9.4.jar:/home/hravat/.kafka/kafka/bin/../libs/jsr305-3.0.2.jar:/home/hravat/.kafka/kafka/bin/../libs/kafka_2.13-3.7.0.jar:/home/hravat/.kafka/kafka/bin/../libs/kafka-clients-3.7.0.jar:/home/hravat/.kafka/kafka/bin/../libs/kafka-group-coordinator-3.7.0.jar:/home/hravat/.kafka/kafka/bin/../libs/kafka-log4j-appender-3.7.0.jar:/home/hravat/.kafka/kafka/bin/../libs/kafka-metadata-3.7.0.jar:/home/hravat/.kafka/kafka/bin/../libs/kafka-raft-3.7.0.jar:/home/hravat/.kafka/kafka/bin/../libs/kafka-server-3.7.0.jar:/home/hravat/.kafka/kafka/bin/../libs/kafka-server-common-3.7.0.jar:/home/hravat/.kafka/kafka/bin/../libs/kafka-shell-3.7.0.jar:/home/hravat/.kafka/kafka/bin/../libs/kafka-storage-3.7.0.jar:/home/hravat/.kafka/kafka/bin/../libs/kafka-storage-api-3.7.0.jar:/home/hravat/.kafka/kafka/bin/../libs/kafka-streams-3.7.0.jar:/home/hravat/.kafka/kafka/bin/../libs/kafka-streams-examples-3.7.0.jar:/home/hravat/.kafka/kafka/bin/../libs/kafka-streams-scala_2.13-3.7.0.jar:/home/hravat/.kafka/kafka/bin/../libs/kafka-streams-test-utils-3.7.0.jar:/home/hravat/.kafka/kafka/bin/../libs/kafka-tools-3.7.0.jar:/home/hravat/.kafka/kafka/bin/../libs/kafka-tools-api-3.7.0.jar:/home/hravat/.kafka/kafka/bin/../libs/lz4-java-1.8.0.jar:/home/hravat/.kafka/kafka/bin/../libs/maven-artifact-3.8.8.jar:/home/hravat/.kafka/kafka/bin/../libs/metrics-core-2.2.0.jar:/home/hravat/.kafka/kafka/bin/../libs/metrics-core-4.1.12.1.jar:/home/hravat/.kafka/kafka/bin/../libs/netty-buffer-4.1.100.Final.jar:/home/hravat/.kafka/kafka/bin/../libs/netty-codec-4.1.100.Final.jar:/home/hravat/.kafka/kafka/bin/../libs/netty-common-4.1.100.Final.jar:/home/hravat/.kafka/kafka/bin/../libs/netty-handler-4.1.100.Final.jar:/home/hravat/.kafka/kafka/bin/../libs/netty-resolver-4.1.100.Final.jar:/home/hravat/.kafka/kafka/bin/../libs/netty-transport-4.1.100.Final.jar:/home/hravat/.kafka/kafka/bin/../libs/netty-transport-classes-epoll-4.1.100.Final.jar:/home/hravat/.kafka/kafka/bin/../libs/netty-transport-native-epoll-4.1.100.Final.jar:/home/hravat/.kafka/kafka/bin/../libs/netty-transport-native-unix-common-4.1.100.Final.jar:/home/hravat/.kafka/kafka/bin/../libs/opentelemetry-proto-1.0.0-alpha.jar:/home/hravat/.kafka/kafka/bin/../libs/osgi-resource-locator-1.0.3.jar:/home/hravat/.kafka/kafka/bin/../libs/paranamer-2.8.jar:/home/hravat/.kafka/kafka/bin/../libs/pcollections-4.0.1.jar:/home/hravat/.kafka/kafka/bin/../libs/plexus-utils-3.3.1.jar:/home/hravat/.kafka/kafka/bin/../libs/protobuf-java-3.23.4.jar:/home/hravat/.kafka/kafka/bin/../libs/reflections-0.10.2.jar:/home/hravat/.kafka/kafka/bin/../libs/reload4j-1.2.25.jar:/home/hravat/.kafka/kafka/bin/../libs/rocksdbjni-7.9.2.jar:/home/hravat/.kafka/kafka/bin/../libs/scala-collection-compat_2.13-2.10.0.jar:/home/hravat/.kafka/kafka/bin/../libs/scala-java8-compat_2.13-1.0.2.jar:/home/hravat/.kafka/kafka/bin/../libs/scala-library-2.13.12.jar:/home/hravat/.kafka/kafka/bin/../libs/scala-logging_2.13-3.9.4.jar:/home/hravat/.kafka/kafka/bin/../libs/scala-reflect-2.13.12.jar:/home/hravat/.kafka/kafka/bin/../libs/slf4j-api-1.7.36.jar:/home/hravat/.kafka/kafka/bin/../libs/slf4j-reload4j-1.7.36.jar:/home/hravat/.kafka/kafka/bin/../libs/snappy-java-1.1.10.5.jar:/home/hravat/.kafka/kafka/bin/../libs/swagger-annotations-2.2.8.jar:/home/hravat/.kafka/kafka/bin/../libs/trogdor-3.7.0.jar:/home/hravat/.kafka/kafka/bin/../libs/zookeeper-3.8.3.jar:/home/hravat/.kafka/kafka/bin/../libs/zookeeper-jute-3.8.3.jar:/home/hravat/.kafka/kafka/bin/../libs/zstd-jni-1.5.5-6.jar org.apache.zookeeper.server.quorum.QuorumPeerMain /home/hravat/.kafka/kafka/config/zookeeper.properties\n",
      "   1041 ?        Ss     0:00 /bin/sh -c /home/hravat/.kafka/kafka/bin/kafka-server-start.sh /home/hravat/.kafka/kafka/config/server.properties > /home/hravat/.kafka/logs/kafka.log 2>&1\n",
      "   1046 ?        Ssl    0:14 /usr/bin/containerd\n",
      "   1056 ?        Sl     8:26 java -Xmx1G -Xms1G -server -XX:+UseG1GC -XX:MaxGCPauseMillis=20 -XX:InitiatingHeapOccupancyPercent=35 -XX:+ExplicitGCInvokesConcurrent -XX:MaxInlineLevel=15 -Djava.awt.headless=true -Xlog:gc*:file=/home/hravat/.kafka/kafka/bin/../logs/kafkaServer-gc.log:time,tags:filecount=10,filesize=100M -Dcom.sun.management.jmxremote -Dcom.sun.management.jmxremote.authenticate=false -Dcom.sun.management.jmxremote.ssl=false -Dkafka.logs.dir=/home/hravat/.kafka/kafka/bin/../logs -Dlog4j.configuration=file:/home/hravat/.kafka/kafka/bin/../config/log4j.properties -cp /home/hravat/.kafka/kafka/bin/../libs/activation-1.1.1.jar:/home/hravat/.kafka/kafka/bin/../libs/aopalliance-repackaged-2.6.1.jar:/home/hravat/.kafka/kafka/bin/../libs/argparse4j-0.7.0.jar:/home/hravat/.kafka/kafka/bin/../libs/audience-annotations-0.12.0.jar:/home/hravat/.kafka/kafka/bin/../libs/caffeine-2.9.3.jar:/home/hravat/.kafka/kafka/bin/../libs/checker-qual-3.19.0.jar:/home/hravat/.kafka/kafka/bin/../libs/commons-beanutils-1.9.4.jar:/home/hravat/.kafka/kafka/bin/../libs/commons-cli-1.4.jar:/home/hravat/.kafka/kafka/bin/../libs/commons-collections-3.2.2.jar:/home/hravat/.kafka/kafka/bin/../libs/commons-digester-2.1.jar:/home/hravat/.kafka/kafka/bin/../libs/commons-io-2.11.0.jar:/home/hravat/.kafka/kafka/bin/../libs/commons-lang3-3.8.1.jar:/home/hravat/.kafka/kafka/bin/../libs/commons-logging-1.2.jar:/home/hravat/.kafka/kafka/bin/../libs/commons-validator-1.7.jar:/home/hravat/.kafka/kafka/bin/../libs/connect-api-3.7.0.jar:/home/hravat/.kafka/kafka/bin/../libs/connect-basic-auth-extension-3.7.0.jar:/home/hravat/.kafka/kafka/bin/../libs/connect-json-3.7.0.jar:/home/hravat/.kafka/kafka/bin/../libs/connect-mirror-3.7.0.jar:/home/hravat/.kafka/kafka/bin/../libs/connect-mirror-client-3.7.0.jar:/home/hravat/.kafka/kafka/bin/../libs/connect-runtime-3.7.0.jar:/home/hravat/.kafka/kafka/bin/../libs/connect-transforms-3.7.0.jar:/home/hravat/.kafka/kafka/bin/../libs/error_prone_annotations-2.10.0.jar:/home/hravat/.kafka/kafka/bin/../libs/hk2-api-2.6.1.jar:/home/hravat/.kafka/kafka/bin/../libs/hk2-locator-2.6.1.jar:/home/hravat/.kafka/kafka/bin/../libs/hk2-utils-2.6.1.jar:/home/hravat/.kafka/kafka/bin/../libs/jackson-annotations-2.16.0.jar:/home/hravat/.kafka/kafka/bin/../libs/jackson-core-2.16.0.jar:/home/hravat/.kafka/kafka/bin/../libs/jackson-databind-2.16.0.jar:/home/hravat/.kafka/kafka/bin/../libs/jackson-dataformat-csv-2.16.0.jar:/home/hravat/.kafka/kafka/bin/../libs/jackson-datatype-jdk8-2.16.0.jar:/home/hravat/.kafka/kafka/bin/../libs/jackson-jaxrs-base-2.16.0.jar:/home/hravat/.kafka/kafka/bin/../libs/jackson-jaxrs-json-provider-2.16.0.jar:/home/hravat/.kafka/kafka/bin/../libs/jackson-module-jaxb-annotations-2.16.0.jar:/home/hravat/.kafka/kafka/bin/../libs/jackson-module-scala_2.13-2.16.0.jar:/home/hravat/.kafka/kafka/bin/../libs/jakarta.activation-api-1.2.2.jar:/home/hravat/.kafka/kafka/bin/../libs/jakarta.annotation-api-1.3.5.jar:/home/hravat/.kafka/kafka/bin/../libs/jakarta.inject-2.6.1.jar:/home/hravat/.kafka/kafka/bin/../libs/jakarta.validation-api-2.0.2.jar:/home/hravat/.kafka/kafka/bin/../libs/jakarta.ws.rs-api-2.1.6.jar:/home/hravat/.kafka/kafka/bin/../libs/jakarta.xml.bind-api-2.3.3.jar:/home/hravat/.kafka/kafka/bin/../libs/javassist-3.29.2-GA.jar:/home/hravat/.kafka/kafka/bin/../libs/javax.activation-api-1.2.0.jar:/home/hravat/.kafka/kafka/bin/../libs/javax.annotation-api-1.3.2.jar:/home/hravat/.kafka/kafka/bin/../libs/javax.servlet-api-3.1.0.jar:/home/hravat/.kafka/kafka/bin/../libs/javax.ws.rs-api-2.1.1.jar:/home/hravat/.kafka/kafka/bin/../libs/jaxb-api-2.3.1.jar:/home/hravat/.kafka/kafka/bin/../libs/jersey-client-2.39.1.jar:/home/hravat/.kafka/kafka/bin/../libs/jersey-common-2.39.1.jar:/home/hravat/.kafka/kafka/bin/../libs/jersey-container-servlet-2.39.1.jar:/home/hravat/.kafka/kafka/bin/../libs/jersey-container-servlet-core-2.39.1.jar:/home/hravat/.kafka/kafka/bin/../libs/jersey-hk2-2.39.1.jar:/home/hravat/.kafka/kafka/bin/../libs/jersey-server-2.39.1.jar:/home/hravat/.kafka/kafka/bin/../libs/jetty-client-9.4.53.v20231009.jar:/home/hravat/.kafka/kafka/bin/../libs/jetty-continuation-9.4.53.v20231009.jar:/home/hravat/.kafka/kafka/bin/../libs/jetty-http-9.4.53.v20231009.jar:/home/hravat/.kafka/kafka/bin/../libs/jetty-io-9.4.53.v20231009.jar:/home/hravat/.kafka/kafka/bin/../libs/jetty-security-9.4.53.v20231009.jar:/home/hravat/.kafka/kafka/bin/../libs/jetty-server-9.4.53.v20231009.jar:/home/hravat/.kafka/kafka/bin/../libs/jetty-servlet-9.4.53.v20231009.jar:/home/hravat/.kafka/kafka/bin/../libs/jetty-servlets-9.4.53.v20231009.jar:/home/hravat/.kafka/kafka/bin/../libs/jetty-util-9.4.53.v20231009.jar:/home/hravat/.kafka/kafka/bin/../libs/jetty-util-ajax-9.4.53.v20231009.jar:/home/hravat/.kafka/kafka/bin/../libs/jline-3.22.0.jar:/home/hravat/.kafka/kafka/bin/../libs/jopt-simple-5.0.4.jar:/home/hravat/.kafka/kafka/bin/../libs/jose4j-0.9.4.jar:/home/hravat/.kafka/kafka/bin/../libs/jsr305-3.0.2.jar:/home/hravat/.kafka/kafka/bin/../libs/kafka_2.13-3.7.0.jar:/home/hravat/.kafka/kafka/bin/../libs/kafka-clients-3.7.0.jar:/home/hravat/.kafka/kafka/bin/../libs/kafka-group-coordinator-3.7.0.jar:/home/hravat/.kafka/kafka/bin/../libs/kafka-log4j-appender-3.7.0.jar:/home/hravat/.kafka/kafka/bin/../libs/kafka-metadata-3.7.0.jar:/home/hravat/.kafka/kafka/bin/../libs/kafka-raft-3.7.0.jar:/home/hravat/.kafka/kafka/bin/../libs/kafka-server-3.7.0.jar:/home/hravat/.kafka/kafka/bin/../libs/kafka-server-common-3.7.0.jar:/home/hravat/.kafka/kafka/bin/../libs/kafka-shell-3.7.0.jar:/home/hravat/.kafka/kafka/bin/../libs/kafka-storage-3.7.0.jar:/home/hravat/.kafka/kafka/bin/../libs/kafka-storage-api-3.7.0.jar:/home/hravat/.kafka/kafka/bin/../libs/kafka-streams-3.7.0.jar:/home/hravat/.kafka/kafka/bin/../libs/kafka-streams-examples-3.7.0.jar:/home/hravat/.kafka/kafka/bin/../libs/kafka-streams-scala_2.13-3.7.0.jar:/home/hravat/.kafka/kafka/bin/../libs/kafka-streams-test-utils-3.7.0.jar:/home/hravat/.kafka/kafka/bin/../libs/kafka-tools-3.7.0.jar:/home/hravat/.kafka/kafka/bin/../libs/kafka-tools-api-3.7.0.jar:/home/hravat/.kafka/kafka/bin/../libs/lz4-java-1.8.0.jar:/home/hravat/.kafka/kafka/bin/../libs/maven-artifact-3.8.8.jar:/home/hravat/.kafka/kafka/bin/../libs/metrics-core-2.2.0.jar:/home/hravat/.kafka/kafka/bin/../libs/metrics-core-4.1.12.1.jar:/home/hravat/.kafka/kafka/bin/../libs/netty-buffer-4.1.100.Final.jar:/home/hravat/.kafka/kafka/bin/../libs/netty-codec-4.1.100.Final.jar:/home/hravat/.kafka/kafka/bin/../libs/netty-common-4.1.100.Final.jar:/home/hravat/.kafka/kafka/bin/../libs/netty-handler-4.1.100.Final.jar:/home/hravat/.kafka/kafka/bin/../libs/netty-resolver-4.1.100.Final.jar:/home/hravat/.kafka/kafka/bin/../libs/netty-transport-4.1.100.Final.jar:/home/hravat/.kafka/kafka/bin/../libs/netty-transport-classes-epoll-4.1.100.Final.jar:/home/hravat/.kafka/kafka/bin/../libs/netty-transport-native-epoll-4.1.100.Final.jar:/home/hravat/.kafka/kafka/bin/../libs/netty-transport-native-unix-common-4.1.100.Final.jar:/home/hravat/.kafka/kafka/bin/../libs/opentelemetry-proto-1.0.0-alpha.jar:/home/hravat/.kafka/kafka/bin/../libs/osgi-resource-locator-1.0.3.jar:/home/hravat/.kafka/kafka/bin/../libs/paranamer-2.8.jar:/home/hravat/.kafka/kafka/bin/../libs/pcollections-4.0.1.jar:/home/hravat/.kafka/kafka/bin/../libs/plexus-utils-3.3.1.jar:/home/hravat/.kafka/kafka/bin/../libs/protobuf-java-3.23.4.jar:/home/hravat/.kafka/kafka/bin/../libs/reflections-0.10.2.jar:/home/hravat/.kafka/kafka/bin/../libs/reload4j-1.2.25.jar:/home/hravat/.kafka/kafka/bin/../libs/rocksdbjni-7.9.2.jar:/home/hravat/.kafka/kafka/bin/../libs/scala-collection-compat_2.13-2.10.0.jar:/home/hravat/.kafka/kafka/bin/../libs/scala-java8-compat_2.13-1.0.2.jar:/home/hravat/.kafka/kafka/bin/../libs/scala-library-2.13.12.jar:/home/hravat/.kafka/kafka/bin/../libs/scala-logging_2.13-3.9.4.jar:/home/hravat/.kafka/kafka/bin/../libs/scala-reflect-2.13.12.jar:/home/hravat/.kafka/kafka/bin/../libs/slf4j-api-1.7.36.jar:/home/hravat/.kafka/kafka/bin/../libs/slf4j-reload4j-1.7.36.jar:/home/hravat/.kafka/kafka/bin/../libs/snappy-java-1.1.10.5.jar:/home/hravat/.kafka/kafka/bin/../libs/swagger-annotations-2.2.8.jar:/home/hravat/.kafka/kafka/bin/../libs/trogdor-3.7.0.jar:/home/hravat/.kafka/kafka/bin/../libs/zookeeper-3.8.3.jar:/home/hravat/.kafka/kafka/bin/../libs/zookeeper-jute-3.8.3.jar:/home/hravat/.kafka/kafka/bin/../libs/zstd-jni-1.5.5-6.jar kafka.Kafka /home/hravat/.kafka/kafka/config/server.properties\n",
      "   1063 ?        Ss     0:00 sshd: /usr/sbin/sshd -D [listener] 0 of 10-100 startups\n",
      "   1080 ?        S      0:00 /usr/lib/cups/notifier/dbus dbus://\n",
      "   1083 ?        Ss     0:00 /usr/lib/postgresql/16/bin/postgres -D /var/lib/postgresql/16/main -c config_file=/etc/postgresql/16/main/postgresql.conf\n",
      "   1104 ?        Ssl    0:00 /usr/sbin/cups-browsed\n",
      "   1119 ?        Ss     0:02 /usr/sbin/nmbd --foreground --no-process-group\n",
      "   1127 ?        Ss     0:00 /usr/sbin/kerneloops --test\n",
      "   1135 ?        Ss     0:00 /usr/sbin/kerneloops\n",
      "   1666 ?        Ss     0:00 postgres: 16/main: checkpointer \n",
      "   1674 ?        Ss     0:00 postgres: 16/main: background writer \n",
      "   2062 ?        Ss     0:00 /usr/sbin/smbd --foreground --no-process-group\n",
      "   2131 ?        S      0:00 /usr/sbin/smbd --foreground --no-process-group\n",
      "   2132 ?        S      0:00 /usr/sbin/smbd --foreground --no-process-group\n",
      "   2143 ?        S      0:00 /usr/lib/x86_64-linux-gnu/samba/samba-bgqd --ready-signal-fd=45 --parent-watch-fd=11 --debuglevel=0 -F\n",
      "   2155 ?        Ssl    0:29 /usr/bin/dockerd -H fd:// --containerd=/run/containerd/containerd.sock\n",
      "   2451 ?        Ss     0:00 postgres: 16/main: walwriter \n",
      "   2452 ?        Ss     0:00 postgres: 16/main: autovacuum launcher \n",
      "   2453 ?        Ss     0:00 postgres: 16/main: logical replication launcher \n",
      "   3602 ?        Sl     0:55 /usr/bin/VBoxDRMClient\n",
      "   3604 ?        Sl     0:57 /usr/sbin/VBoxService --pidfile /var/run/vboxadd-service.sh\n",
      "   4169 ?        Ssl    0:01 /usr/sbin/gdm3\n",
      "   4176 ?        Sl     0:03 gdm-session-worker [pam/gdm-autologin]\n",
      "   4182 ?        Ss     0:07 /lib/systemd/systemd --user\n",
      "   4183 ?        S      0:00 (sd-pam)\n",
      "   4193 ?        S<sl   0:00 /usr/bin/pipewire\n",
      "   4194 ?        Ssl    0:00 /usr/bin/pipewire-media-session\n",
      "   4195 ?        S<sl   0:02 /usr/bin/pulseaudio --daemonize=no --log-target=journal\n",
      "   4209 ?        Ss     0:15 /usr/bin/dbus-daemon --session --address=systemd: --nofork --nopidfile --systemd-activation --syslog-only\n",
      "   4211 ?        SLl    0:01 /usr/bin/gnome-keyring-daemon --daemonize --login\n",
      "   4215 ?        SNsl   0:03 /usr/libexec/rtkit-daemon\n",
      "   4219 tty2     Ssl+   0:00 /usr/libexec/gdm-wayland-session env GNOME_SHELL_SESSION_MODE=ubuntu /usr/bin/gnome-session --session=ubuntu\n",
      "   4223 tty2     Sl+    0:00 /usr/libexec/gnome-session-binary --session=ubuntu\n",
      "   4225 ?        Ssl    0:01 /usr/libexec/xdg-document-portal\n",
      "   4235 ?        Ssl    0:00 /usr/libexec/xdg-permission-store\n",
      "   4248 ?        Ss     0:00 fusermount3 -o rw,nosuid,nodev,fsname=portal,auto_unmount,subtype=portal -- /run/user/1000/doc\n",
      "   4281 ?        Ssl    0:00 /usr/libexec/gnome-session-ctl --monitor\n",
      "   4291 ?        Ssl    0:00 /usr/libexec/gvfsd\n",
      "   4300 ?        Sl     0:00 /usr/libexec/gvfsd-fuse /run/user/1000/gvfs -f\n",
      "   4302 ?        Ssl    0:01 /usr/libexec/gnome-session-binary --systemd-service --session=ubuntu\n",
      "   4332 ?        Sl     0:00 /usr/libexec/at-spi-bus-launcher --launch-immediately\n",
      "   4338 ?        Rsl   35:02 /usr/bin/gnome-shell\n",
      "   4347 ?        S      0:00 /usr/bin/dbus-daemon --config-file=/usr/share/defaults/at-spi2/accessibility.conf --nofork --print-address 11 --address=unix:path=/run/user/1000/at-spi/bus\n",
      "   4447 ?        Ss     0:00 /snap/snapd-desktop-integration/157/usr/bin/snapd-desktop-integration\n",
      "   4499 ?        Sl     0:00 /snap/snapd-desktop-integration/157/usr/bin/snapd-desktop-integration\n",
      "   4520 ?        Sl     0:01 /usr/libexec/gnome-shell-calendar-server\n",
      "   4523 ?        Ssl    0:00 /usr/libexec/upowerd\n",
      "   4530 ?        Ssl    0:01 /usr/libexec/evolution-source-registry\n",
      "   4535 ?        Ssl    0:00 /usr/libexec/dconf-service\n",
      "   4541 ?        Ssl    0:01 /usr/libexec/gvfs-udisks2-volume-monitor\n",
      "   4551 ?        SLl    0:04 /usr/libexec/goa-daemon\n",
      "   4562 ?        Ssl    0:00 /usr/libexec/gvfsd-metadata\n",
      "   4570 ?        Ssl    0:00 /usr/libexec/gvfs-goa-volume-monitor\n",
      "   4578 ?        Ssl    0:06 /usr/libexec/evolution-calendar-factory\n",
      "   4587 ?        Sl     0:00 /usr/libexec/goa-identity-service\n",
      "   4593 ?        Ssl    0:00 /usr/libexec/gvfs-gphoto2-volume-monitor\n",
      "   4598 ?        Ssl    0:02 /usr/libexec/gvfs-afc-volume-monitor\n",
      "   4603 ?        Ssl    0:00 /usr/libexec/gvfs-mtp-volume-monitor\n",
      "   4613 ?        Ssl    0:25 /usr/libexec/packagekitd\n",
      "   4628 ?        Ssl    0:00 /usr/libexec/evolution-addressbook-factory\n",
      "   4644 ?        Sl     0:00 /usr/libexec/gvfsd-trash --spawner :1.15 /org/gtk/gvfs/exec_spaw/0\n",
      "   4662 ?        Sl     0:00 /usr/bin/gjs /usr/share/gnome-shell/org.gnome.Shell.Notifications\n",
      "   4664 ?        Sl     0:00 /usr/libexec/at-spi2-registryd --use-gnome-session\n",
      "   4672 ?        Ss     0:00 sh -c /usr/bin/ibus-daemon --panel disable $([ \"$XDG_SESSION_TYPE\" = \"x11\" ] && echo \"--xim\")\n",
      "   4675 ?        Ssl    0:00 /usr/libexec/gsd-a11y-settings\n",
      "   4678 ?        Ssl    0:04 /usr/libexec/gsd-color\n",
      "   4679 ?        Ssl    0:00 /usr/libexec/gsd-datetime\n",
      "   4684 ?        Ssl    0:01 /usr/libexec/gsd-housekeeping\n",
      "   4686 ?        Sl     0:02 /usr/bin/ibus-daemon --panel disable\n",
      "   4693 ?        Ssl    0:00 /usr/libexec/gsd-keyboard\n",
      "   4694 ?        Ssl    0:00 /usr/libexec/gsd-media-keys\n",
      "   4695 ?        Ssl    0:00 /usr/libexec/gsd-power\n",
      "   4696 ?        Ssl    0:00 /usr/libexec/gsd-print-notifications\n",
      "   4702 ?        Ssl    0:00 /usr/libexec/gsd-rfkill\n",
      "   4704 ?        Ssl    0:00 /usr/libexec/gsd-screensaver-proxy\n",
      "   4712 ?        Ssl    0:00 /usr/libexec/gsd-sharing\n",
      "   4713 ?        Ssl    0:00 /usr/libexec/gsd-smartcard\n",
      "   4714 ?        Ssl    0:00 /usr/libexec/gsd-sound\n",
      "   4716 ?        Ssl    0:00 /usr/libexec/gsd-wacom\n",
      "   4774 ?        Sl     0:00 /usr/libexec/gsd-printer\n",
      "   4775 ?        Sl     0:02 /usr/libexec/evolution-data-server/evolution-alarm-notify\n",
      "   4789 ?        Sl     0:00 /usr/libexec/ibus-dconf\n",
      "   4791 ?        Sl     1:57 /usr/bin/python3 /usr/bin/variety --profile /home/hravat/.config/variety/\n",
      "   4794 ?        Sl     0:03 /usr/libexec/ibus-extension-gtk3\n",
      "   4801 ?        Sl     0:00 /usr/libexec/gsd-disk-utility-notify\n",
      "   4810 ?        Sl     0:00 /usr/libexec/ibus-portal\n",
      "   4861 ?        Sl     0:09 /snap/snap-store/1113/usr/bin/snap-store --gapplication-service\n",
      "   4896 ?        S      4:40 /usr/bin/Xwayland :0 -rootless -noreset -accessx -core -auth /run/user/1000/.mutter-Xwaylandauth.0B45P2 -listen 4 -listen 5 -displayfd 6 -initfd 7\n",
      "   4900 ?        Sl     0:00 /usr/libexec/ibus-engine-simple\n",
      "   4970 ?        Ssl    0:04 /usr/libexec/xdg-desktop-portal\n",
      "   4974 ?        Ssl    0:07 /usr/libexec/xdg-desktop-portal-gnome\n",
      "   4983 ?        Ssl    0:01 /usr/libexec/colord\n",
      "   5033 ?        Sl     0:00 /usr/bin/gjs /usr/share/gnome-shell/org.gnome.ScreenSaver\n",
      "   5051 ?        Ssl    0:02 /usr/libexec/gsd-xsettings\n",
      "   5057 ?        Ssl    0:01 /usr/libexec/xdg-desktop-portal-gtk\n",
      "   5107 ?        Sl     0:01 /usr/libexec/ibus-x11\n",
      "   5140 ?        S      0:00 /usr/bin/VBoxClient --seamless\n",
      "   5141 ?        Sl     0:39 /usr/bin/VBoxClient --seamless\n",
      "   5148 ?        S      0:00 /usr/bin/VBoxClient --draganddrop\n",
      "   5151 ?        Sl     1:43 /usr/bin/VBoxClient --draganddrop\n",
      "   5153 ?        S      0:00 /usr/bin/VBoxClient --vmsvga-session\n",
      "   5154 ?        Sl     0:04 /usr/bin/VBoxClient --vmsvga-session\n",
      "   5208 ?        SNsl   0:03 /usr/libexec/tracker-miner-fs-3\n",
      "   5327 ?        Sl     0:00 /usr/libexec/gvfsd-network --spawner :1.15 /org/gtk/gvfs/exec_spaw/1\n",
      "   5373 ?        Sl     0:00 /usr/libexec/gvfsd-dnssd --spawner :1.15 /org/gtk/gvfs/exec_spaw/3\n",
      "   6581 ?        Sl     0:01 update-notifier\n",
      "   7743 ?        SLsl   4:55 /snap/code-insiders/1683/usr/share/code-insiders/code-insiders --no-sandbox --force-user-env\n",
      "   7748 ?        S      0:00 /snap/code-insiders/1683/usr/share/code-insiders/code-insiders --type=zygote --no-zygote-sandbox --no-sandbox\n",
      "   7749 ?        S      0:00 /snap/code-insiders/1683/usr/share/code-insiders/code-insiders --type=zygote --no-sandbox\n",
      "   7775 ?        Sl     0:01 /snap/code-insiders/1683/usr/share/code-insiders/chrome_crashpad_handler --monitor-self-annotation=ptype=crashpad-handler --no-rate-limit --database=/home/hravat/.config/Code - Insiders/Crashpad --url=appcenter://code-insiders?aid=a04472a4-f4ea-4854-bf12-95bb0f2dd01a&uid=6dbec18f-f56f-402f-817b-ba987ac658c4&iid=6dbec18f-f56f-402f-817b-ba987ac658c4&sid=6dbec18f-f56f-402f-817b-ba987ac658c4 --annotation=_companyName=Microsoft --annotation=_productName=VSCode --annotation=_version=1.92.0-insider --annotation=lsb-release=Ubuntu 22.04.4 LTS --annotation=plat=Linux --annotation=prod=Electron --annotation=ver=29.4.0 --initial-client-fd=48 --shared-client-connection\n",
      "   7831 ?        Sl     0:29 /snap/code-insiders/1683/usr/share/code-insiders/code-insiders --type=utility --utility-sub-type=network.mojom.NetworkService --lang=en-US --service-sandbox-type=none --no-sandbox --crashpad-handler-pid=7775 --enable-crash-reporter=d8c0cfb3-5674-4caa-9fb8-a59f00d684be,no_channel --user-data-dir=/home/hravat/.config/Code - Insiders --standard-schemes=vscode-webview,vscode-file --secure-schemes=vscode-webview,vscode-file --cors-schemes=vscode-webview,vscode-file --fetch-schemes=vscode-webview,vscode-file --service-worker-schemes=vscode-webview --code-cache-schemes=vscode-webview,vscode-file --shared-files=v8_context_snapshot_data:100 --field-trial-handle=0,i,16011871603448901036,16500365680791220438,262144 --enable-features=kWebSQLAccess --disable-features=CalculateNativeWinOcclusion,SpareRendererForSitePerProcess --variations-seed-version\n",
      "   7893 ?        Rl    47:27 /snap/code-insiders/1683/usr/share/code-insiders/code-insiders --type=renderer --crashpad-handler-pid=7775 --enable-crash-reporter=d8c0cfb3-5674-4caa-9fb8-a59f00d684be,no_channel --user-data-dir=/home/hravat/.config/Code - Insiders --standard-schemes=vscode-webview,vscode-file --secure-schemes=vscode-webview,vscode-file --cors-schemes=vscode-webview,vscode-file --fetch-schemes=vscode-webview,vscode-file --service-worker-schemes=vscode-webview --code-cache-schemes=vscode-webview,vscode-file --app-path=/snap/code-insiders/1683/usr/share/code-insiders/resources/app --enable-sandbox --enable-blink-features=HighlightAPI --no-sandbox --disable-blink-features=FontMatchingCTMigration, --lang=en-US --num-raster-threads=2 --enable-main-frame-before-activation --renderer-client-id=5 --time-ticks-at-unix-epoch=-1720576739428798 --launch-time-ticks=2749637671 --shared-files=v8_context_snapshot_data:100 --field-trial-handle=0,i,16011871603448901036,16500365680791220438,262144 --enable-features=kWebSQLAccess --disable-features=CalculateNativeWinOcclusion,SpareRendererForSitePerProcess --variations-seed-version --vscode-window-config=vscode:b433d824-15b9-4d46-8624-a283844c93c6\n",
      "   7933 ?        Sl    15:34 /snap/code-insiders/1683/usr/share/code-insiders/code-insiders --type=gpu-process --disable-gpu-sandbox --no-sandbox --crashpad-handler-pid=7775 --enable-crash-reporter=d8c0cfb3-5674-4caa-9fb8-a59f00d684be,no_channel --user-data-dir=/home/hravat/.config/Code - Insiders --gpu-preferences=WAAAAAAAAAAgAAAEAAAAAAAAAAAAAAAAAABgAAAAAAA4AAAAAAAAAAAAAAAAAAAAAAAAAAAAAAAAAAAAAAAAAAAAAAABAAAAGAAAAAAAAAAYAAAAAAAAAAgAAAAAAAAACAAAAAAAAAAIAAAAAAAAAA== --use-gl=angle --use-angle=swiftshader-webgl --shared-files --field-trial-handle=0,i,16011871603448901036,16500365680791220438,262144 --enable-features=kWebSQLAccess --disable-features=CalculateNativeWinOcclusion,SpareRendererForSitePerProcess --variations-seed-version\n",
      "   7983 ?        Sl     3:56 /snap/code-insiders/1683/usr/share/code-insiders/code-insiders --type=utility --utility-sub-type=node.mojom.NodeService --lang=en-US --service-sandbox-type=none --no-sandbox --crashpad-handler-pid=7775 --enable-crash-reporter=d8c0cfb3-5674-4caa-9fb8-a59f00d684be,no_channel --user-data-dir=/home/hravat/.config/Code - Insiders --standard-schemes=vscode-webview,vscode-file --secure-schemes=vscode-webview,vscode-file --cors-schemes=vscode-webview,vscode-file --fetch-schemes=vscode-webview,vscode-file --service-worker-schemes=vscode-webview --code-cache-schemes=vscode-webview,vscode-file --shared-files=v8_context_snapshot_data:100 --field-trial-handle=0,i,16011871603448901036,16500365680791220438,262144 --enable-features=kWebSQLAccess --disable-features=CalculateNativeWinOcclusion,SpareRendererForSitePerProcess --variations-seed-version\n",
      "   8020 ?        Sl     0:27 /snap/code-insiders/1683/usr/share/code-insiders/code-insiders --type=utility --utility-sub-type=node.mojom.NodeService --lang=en-US --service-sandbox-type=none --no-sandbox --crashpad-handler-pid=7775 --enable-crash-reporter=d8c0cfb3-5674-4caa-9fb8-a59f00d684be,no_channel --user-data-dir=/home/hravat/.config/Code - Insiders --standard-schemes=vscode-webview,vscode-file --secure-schemes=vscode-webview,vscode-file --cors-schemes=vscode-webview,vscode-file --fetch-schemes=vscode-webview,vscode-file --service-worker-schemes=vscode-webview --code-cache-schemes=vscode-webview,vscode-file --shared-files=v8_context_snapshot_data:100 --field-trial-handle=0,i,16011871603448901036,16500365680791220438,262144 --enable-features=kWebSQLAccess --disable-features=CalculateNativeWinOcclusion,SpareRendererForSitePerProcess --variations-seed-version\n",
      "   8038 ?        Rl    14:59 /snap/code-insiders/1683/usr/share/code-insiders/code-insiders --type=utility --utility-sub-type=node.mojom.NodeService --lang=en-US --service-sandbox-type=none --no-sandbox --dns-result-order=ipv4first --inspect-port=0 --crashpad-handler-pid=7775 --enable-crash-reporter=d8c0cfb3-5674-4caa-9fb8-a59f00d684be,no_channel --user-data-dir=/home/hravat/.config/Code - Insiders --standard-schemes=vscode-webview,vscode-file --secure-schemes=vscode-webview,vscode-file --cors-schemes=vscode-webview,vscode-file --fetch-schemes=vscode-webview,vscode-file --service-worker-schemes=vscode-webview --code-cache-schemes=vscode-webview,vscode-file --shared-files=v8_context_snapshot_data:100 --field-trial-handle=0,i,16011871603448901036,16500365680791220438,262144 --enable-features=kWebSQLAccess --disable-features=CalculateNativeWinOcclusion,SpareRendererForSitePerProcess --variations-seed-version\n",
      "   8086 ?        Sl     2:12 /snap/code-insiders/1683/usr/share/code-insiders/code-insiders --type=utility --utility-sub-type=node.mojom.NodeService --lang=en-US --service-sandbox-type=none --no-sandbox --crashpad-handler-pid=7775 --enable-crash-reporter=d8c0cfb3-5674-4caa-9fb8-a59f00d684be,no_channel --user-data-dir=/home/hravat/.config/Code - Insiders --standard-schemes=vscode-webview,vscode-file --secure-schemes=vscode-webview,vscode-file --cors-schemes=vscode-webview,vscode-file --fetch-schemes=vscode-webview,vscode-file --service-worker-schemes=vscode-webview --code-cache-schemes=vscode-webview,vscode-file --shared-files=v8_context_snapshot_data:100 --field-trial-handle=0,i,16011871603448901036,16500365680791220438,262144 --enable-features=kWebSQLAccess --disable-features=CalculateNativeWinOcclusion,SpareRendererForSitePerProcess --variations-seed-version\n",
      "   8206 ?        Sl     0:04 /snap/code-insiders/1683/usr/share/code-insiders/code-insiders /home/hravat/.vscode-insiders/extensions/ms-edgedevtools.vscode-edge-devtools-2.1.5/node_modules/vscode-webhint/dist/src/server.js /home/hravat/.config/Code - Insiders/User/globalStorage/ms-edgedevtools.vscode-edge-devtools Microsoft Edge Tools --node-ipc --clientProcessId=8038\n",
      "   8215 ?        S      0:04 /home/hravat/.vscode-insiders/extensions/ms-python.python-2024.10.0-linux-x64/python-env-tools/bin/pet server\n",
      "   8432 ?        Sl     0:42 /home/hravat/.config/Code - Insiders/User/globalStorage/tabnine.tabnine-vscode/binaries/4.177.0/x86_64-unknown-linux-musl/TabNine --tls_config insecure=false --no-lsp=true --client=vscode --client-metadata clientVersion=1.92.0-insider pluginVersion=3.122.2003  t9-vscode-AutoImportEnabled=true t9-vscode-TSAutoImportEnabled=true t9-vscode-JSAutoImportEnabled=true vscode-telemetry-enabled=true vscode-remote=false vscode-extension-kind=1 vscode-theme-name=August - Material Ocean vscode-theme-kind=Dark vscode-machine-id=d1e4e0657d8127007a87a7f70c29937e4588c8fefe4626cc52997c8a0d632848 vscode-is-new-app-install=false vscode-session-id=54b890df-319b-4dce-b5b2-81e7eb6d39381720579494397 vscode-language=en vscode-app-name=Visual Studio Code - Insiders vscode-beta-channel-enabled=true vscode-status-customization=unknown vscode-inline-api-enabled=true vscode-code-lens-enabled=true vscode-found-intellicode=false ide-restart-counter=0\n",
      "   8459 pts/0    Ss     0:05 /usr/bin/zsh -i\n",
      "   8501 ?        Sl     5:36 /home/hravat/.config/Code - Insiders/User/globalStorage/tabnine.tabnine-vscode/binaries/4.177.0/x86_64-unknown-linux-musl/TabNine --tls_config insecure=false --no-lsp=true --client=vscode --client-metadata clientVersion=1.92.0-insider pluginVersion=3.122.2003  t9-vscode-AutoImportEnabled=true t9-vscode-TSAutoImportEnabled=true t9-vscode-JSAutoImportEnabled=true vscode-telemetry-enabled=true vscode-remote=false vscode-extension-kind=1 vscode-theme-name=August - Material Ocean vscode-theme-kind=Dark vscode-machine-id=d1e4e0657d8127007a87a7f70c29937e4588c8fefe4626cc52997c8a0d632848 vscode-is-new-app-install=false vscode-session-id=54b890df-319b-4dce-b5b2-81e7eb6d39381720579494397 vscode-language=en vscode-app-name=Visual Studio Code - Insiders vscode-beta-channel-enabled=true vscode-status-customization=unknown vscode-inline-api-enabled=true vscode-code-lens-enabled=true vscode-found-intellicode=false ide-restart-counter=0 --no_bootstrap\n",
      "   8645 pts/0    S+     0:00 sudo chmod 666 /var/run/docker.sock\n",
      "   8670 ?        Sl     0:05 /snap/code-insiders/1683/usr/share/code-insiders/code-insiders /snap/code-insiders/1683/usr/share/code-insiders/resources/app/extensions/json-language-features/server/dist/node/jsonServerMain --node-ipc --clientProcessId=8038\n",
      "   8688 ?        Sl     0:04 /home/hravat/.config/Code - Insiders/User/globalStorage/tabnine.tabnine-vscode/binaries/4.177.0/x86_64-unknown-linux-musl/TabNine-server-runner vdb 1.7.3-fix.1 --tls_config insecure=false --port_env_var QDRANT__SERVICE__GRPC_PORT -- --config-path {BINARY_DIR}/config.yaml\n",
      "   8691 ?        Sl     0:37 /home/hravat/.local/share/TabNine/servers/vdb/1.7.3-fix.1/download/vdb --config-path /home/hravat/.local/share/TabNine/servers/vdb/1.7.3-fix.1/download/config.yaml\n",
      "   9043 ?        Sl     0:34 /snap/code-insiders/1683/usr/share/code-insiders/code-insiders /home/hravat/.vscode-insiders/extensions/ms-python.vscode-pylance-2024.7.1/dist/server.bundle.js --cancellationReceive=file:79e04a63eafd0c2a114d7205e50a3b80388b0d939a --experimentalserver --node-ipc --clientProcessId=8038\n",
      "   9103 ?        Sl     0:00 /home/hravat/.config/Code - Insiders/User/globalStorage/sourcegraph.cody-ai/cody-engine/cody-engine-5.4.6040-linux-x64\n",
      "   9162 ?        Sl     0:03 /bin/python3 /home/hravat/.vscode-insiders/extensions/ms-python.isort-2023.13.11511010/bundled/tool/lsp_server.py\n",
      "   9205 ?        Sl     0:04 /snap/code-insiders/1683/usr/share/code-insiders/code-insiders /home/hravat/.vscode-insiders/extensions/visualstudioexptteam.intellicode-api-usage-examples-0.2.8/dist/server/server.js --node-ipc --clientProcessId=8038\n",
      "  13207 ?        Sl     0:28 /home/hravat/.config/Code - Insiders/User/globalStorage/tabnine.tabnine-vscode/binaries/4.177.0/x86_64-unknown-linux-musl/TabNine-deep-cloud --settings /home/hravat/.config/TabNine/cloud.settings --client vscode --client-metadata clientVersion=1.92.0-insider pluginVersion=3.122.2003  t9-vscode-AutoImportEnabled=true t9-vscode-TSAutoImportEnabled=true t9-vscode-JSAutoImportEnabled=true vscode-telemetry-enabled=true vscode-remote=false vscode-extension-kind=1 vscode-theme-name=August - Material Ocean vscode-theme-kind=Dark vscode-machine-id=d1e4e0657d8127007a87a7f70c29937e4588c8fefe4626cc52997c8a0d632848 vscode-is-new-app-install=false vscode-session-id=54b890df-319b-4dce-b5b2-81e7eb6d39381720579494397 vscode-language=en vscode-app-name=Visual Studio Code - Insiders vscode-beta-channel-enabled=true vscode-status-customization=unknown vscode-inline-api-enabled=true vscode-code-lens-enabled=true vscode-found-intellicode=false ide-restart-counter=0 --tls_config insecure=false\n",
      "  17630 ?        Sl     0:00 /usr/libexec/gvfsd-google --spawner :1.15 /org/gtk/gvfs/exec_spaw/4\n",
      "  30171 ?        I      0:06 [kworker/1:0-events]\n",
      "  68375 ?        Sl     0:06 /snap/code-insiders/1683/usr/share/code-insiders/code-insiders /home/hravat/.vscode-insiders/extensions/mongodb.mongodb-vscode-1.6.0/dist/languageServer.js --node-ipc --clientProcessId=8038\n",
      "  69449 ?        Sl     0:06 /snap/code-insiders/1683/usr/share/code-insiders/code-insiders /snap/code-insiders/1683/usr/share/code-insiders/resources/app/extensions/markdown-language-features/server/dist/node/workerMain --node-ipc --clientProcessId=8038\n",
      "  70447 ?        Sl     0:16 /home/hravat/.config/Code - Insiders/User/globalStorage/tabnine.tabnine-vscode/binaries/4.177.0/x86_64-unknown-linux-musl/WD-TabNine --tls_config insecure=false --client vscode --client-metadata clientVersion=1.92.0-insider pluginVersion=3.122.2003  t9-vscode-AutoImportEnabled=true t9-vscode-TSAutoImportEnabled=true t9-vscode-JSAutoImportEnabled=true vscode-telemetry-enabled=true vscode-remote=false vscode-extension-kind=1 vscode-theme-name=August - Material Ocean vscode-theme-kind=Dark vscode-machine-id=d1e4e0657d8127007a87a7f70c29937e4588c8fefe4626cc52997c8a0d632848 vscode-is-new-app-install=false vscode-session-id=54b890df-319b-4dce-b5b2-81e7eb6d39381720579494397 vscode-language=en vscode-app-name=Visual Studio Code - Insiders vscode-beta-channel-enabled=true vscode-status-customization=unknown vscode-inline-api-enabled=true vscode-code-lens-enabled=true vscode-found-intellicode=false ide-restart-counter=0\n",
      "  71559 ?        Sl     0:13 /usr/bin/nautilus --gapplication-service\n",
      "  87291 ?        I      0:00 [kworker/2:0-events]\n",
      "  92341 ?        I<     0:02 [kworker/3:1H-kblockd]\n",
      " 100602 ?        I      0:00 [kworker/3:2-cgroup_destroy]\n",
      " 101593 ?        I      0:14 [kworker/u8:4-events_power_efficient]\n",
      " 102597 ?        I<     0:01 [kworker/2:2H-kblockd]\n",
      " 103202 ?        I<     0:00 [kworker/0:2H-kblockd]\n",
      " 103415 ?        Rl     0:13 /home/hravat/anaconda3/bin/python -m bash_kernel -f /home/hravat/.local/share/jupyter/runtime/kernel-v2-8038VtyWi51GKC7m.json\n",
      " 103479 pts/1    Ss     0:04 /home/hravat/anaconda3/bin/bash --rcfile /home/hravat/anaconda3/lib/python3.11/site-packages/pexpect/bashrc.sh\n",
      " 103812 ?        I      0:01 [kworker/2:1-mm_percpu_wq]\n",
      " 105564 ?        I      0:01 [kworker/0:0-events]\n",
      " 107609 ?        I      0:00 [kworker/1:2]\n",
      " 109333 ?        I      0:07 [kworker/u8:0-events_unbound]\n",
      " 111159 ?        I<     0:00 [kworker/1:0H-kblockd]\n",
      " 115420 ?        I<     0:00 [kworker/2:0H-kblockd]\n",
      " 116604 ?        I      0:02 [kworker/0:2-mm_percpu_wq]\n",
      " 116647 ?        I<     0:01 [kworker/1:2H-kblockd]\n",
      " 116657 ?        Sl     0:02 gjs /usr/share/gnome-shell/extensions/ding@rastersoft.com/ding.js -E -P /usr/share/gnome-shell/extensions/ding@rastersoft.com -M 0 -D 0:0:1900:925:1:27:0:0:0:0\n",
      " 116742 ?        I<     0:01 [kworker/0:0H-kblockd]\n",
      " 117001 ?        I      0:03 [kworker/u8:2-ext4-rsv-conversion]\n",
      " 117725 ?        I<     0:00 [kworker/3:2H-kblockd]\n",
      " 118262 ?        Rl     0:15 /snap/code-insiders/1683/usr/share/code-insiders/code-insiders --type=renderer --crashpad-handler-pid=7775 --enable-crash-reporter=d8c0cfb3-5674-4caa-9fb8-a59f00d684be,no_channel --user-data-dir=/home/hravat/.config/Code - Insiders --standard-schemes=vscode-webview,vscode-file --secure-schemes=vscode-webview,vscode-file --cors-schemes=vscode-webview,vscode-file --fetch-schemes=vscode-webview,vscode-file --service-worker-schemes=vscode-webview --code-cache-schemes=vscode-webview,vscode-file --app-path=/snap/code-insiders/1683/usr/share/code-insiders/resources/app --enable-sandbox --enable-blink-features=HighlightAPI --no-sandbox --disable-gpu-compositing --disable-blink-features=FontMatchingCTMigration, --lang=en-US --num-raster-threads=2 --enable-main-frame-before-activation --renderer-client-id=17 --time-ticks-at-unix-epoch=-1720576739428798 --launch-time-ticks=16381759747 --shared-files=v8_context_snapshot_data:100 --field-trial-handle=0,i,16011871603448901036,16500365680791220438,262144 --enable-features=kWebSQLAccess --disable-features=CalculateNativeWinOcclusion,SpareRendererForSitePerProcess --variations-seed-version --vscode-window-config=vscode:b433d824-15b9-4d46-8624-a283844c93c6\n",
      " 118339 ?        I      0:00 [kworker/3:0-mm_percpu_wq]\n",
      " 119072 ?        I      0:03 [kworker/0:1-mm_percpu_wq]\n",
      " 119392 ?        I<     0:00 [kworker/1:1H-kblockd]\n",
      " 119411 ?        I<     0:00 [kworker/2:1H-kblockd]\n",
      " 119653 ?        I<     0:00 [kworker/0:1H-kblockd]\n",
      " 119819 ?        I      0:01 [kworker/u8:1-events_unbound]\n",
      " 120393 ?        I<     0:00 [kworker/3:0H-kblockd]\n",
      " 120412 ?        I      0:00 [kworker/u8:3]\n",
      " 120868 ?        I<     0:00 [kworker/3:3H-kblockd]\n",
      " 120963 pts/1    R+     0:00 ps axww\n"
     ]
    }
   ],
   "source": [
    "echo Display prcess running \n",
    "ps \n",
    "echo Display systems processes \n",
    "ps ax\n",
    "echo Display process with wrap \n",
    "ps axww "
   ]
  },
  {
   "cell_type": "code",
   "execution_count": 80,
   "metadata": {
    "vscode": {
     "languageId": "shellscript"
    }
   },
   "outputs": [
    {
     "name": "stdout",
     "output_type": "stream",
     "text": [
      "[1]+  Done                    sleep 60\n",
      "xterm-256color\n",
      "\u001b[?1h\u001b=\u001b[?25l\u001b[H\u001b[2J\u001b(B\u001b[mtop - 19:34:05 up  4:38,  1 user,  load average: 4.19, 4.41, 3.53\u001b(B\u001b[m\u001b[39;49m\u001b(B\u001b[m\u001b[39;49m\u001b[K\n",
      "Tasks:\u001b(B\u001b[m\u001b[39;49m\u001b[1m 260 \u001b(B\u001b[m\u001b[39;49mtotal,\u001b(B\u001b[m\u001b[39;49m\u001b[1m   5 \u001b(B\u001b[m\u001b[39;49mrunning,\u001b(B\u001b[m\u001b[39;49m\u001b[1m 255 \u001b(B\u001b[m\u001b[39;49msleeping,\u001b(B\u001b[m\u001b[39;49m\u001b[1m   0 \u001b(B\u001b[m\u001b[39;49mstopped,\u001b(B\u001b[m\u001b[39;49m\u001b[1m   0 \u001b(B\u001b[m\u001b[39;49mzombie\u001b(B\u001b[m\u001b[39;49m\u001b(B\u001b[m\u001b[39;49m\u001b[K\n",
      "%Cpu(s):\u001b(B\u001b[m\u001b[39;49m\u001b[1m 40.4 \u001b(B\u001b[m\u001b[39;49mus,\u001b(B\u001b[m\u001b[39;49m\u001b[1m 33.3 \u001b(B\u001b[m\u001b[39;49msy,\u001b(B\u001b[m\u001b[39;49m\u001b[1m  0.0 \u001b(B\u001b[m\u001b[39;49mni,\u001b(B\u001b[m\u001b[39;49m\u001b[1m 15.8 \u001b(B\u001b[m\u001b[39;49mid,\u001b(B\u001b[m\u001b[39;49m\u001b[1m  0.0 \u001b(B\u001b[m\u001b[39;49mwa,\u001b(B\u001b[m\u001b[39;49m\u001b[1m  0.0 \u001b(B\u001b[m\u001b[39;49mhi,\u001b(B\u001b[m\u001b[39;49m\u001b[1m 10.5 \u001b(B\u001b[m\u001b[39;49msi,\u001b(B\u001b[m\u001b[39;49m\u001b[1m  0.0 \u001b(B\u001b[m\u001b[39;49mst\u001b(B\u001b[m\u001b[39;49m\u001b(B\u001b[m\u001b[39;49m\u001b[K\n",
      "MiB Mem :\u001b(B\u001b[m\u001b[39;49m\u001b[1m  14245.7 \u001b(B\u001b[m\u001b[39;49mtotal,\u001b(B\u001b[m\u001b[39;49m\u001b[1m   5120.1 \u001b(B\u001b[m\u001b[39;49mfree,\u001b(B\u001b[m\u001b[39;49m\u001b[1m   4354.5 \u001b(B\u001b[m\u001b[39;49mused,\u001b(B\u001b[m\u001b[39;49m\u001b[1m   4771.1 \u001b(B\u001b[m\u001b[39;49mbuff/cache\u001b(B\u001b[m\u001b[39;49m\u001b(B\u001b[m\u001b[39;49m\u001b[K\n",
      "MiB Swap:\u001b(B\u001b[m\u001b[39;49m\u001b[1m   2048.0 \u001b(B\u001b[m\u001b[39;49mtotal,\u001b(B\u001b[m\u001b[39;49m\u001b[1m   2048.0 \u001b(B\u001b[m\u001b[39;49mfree,\u001b(B\u001b[m\u001b[39;49m\u001b[1m      0.0 \u001b(B\u001b[m\u001b[39;49mused.\u001b(B\u001b[m\u001b[39;49m\u001b[1m   9446.6 \u001b(B\u001b[m\u001b[39;49mavail Mem \u001b(B\u001b[m\u001b[39;49m\u001b(B\u001b[m\u001b[39;49m\u001b[K\n",
      "\u001b[K\n",
      "\u001b[7m    PID USER      PR  NI    VIRT    RES    SHR S  %CPU  %MEM     TIME+ COMMAND  \u001b(B\u001b[m\u001b[39;49m\u001b[K\n",
      "\u001b(B\u001b[m\u001b[1m   7893 hravat    20   0 1139.5g 663156 129448 R 115.0   4.5  46:59.27 code-in+ \u001b(B\u001b[m\u001b[39;49m\u001b[K\n",
      "\u001b(B\u001b[m\u001b[1m   4338 hravat    20   0 5409728 763444 158728 R  90.0   5.2  34:42.72 gnome-s+ \u001b(B\u001b[m\u001b[39;49m\u001b[K\n",
      "\u001b(B\u001b[m   8038 hravat    20   0 1131.2g 815580  83816 S  30.0   5.6  14:54.66 code-in+ \u001b(B\u001b[m\u001b[39;49m\u001b[K\n",
      "\u001b(B\u001b[m   7933 hravat    20   0   32.4g 118876 105704 S  25.0   0.8  15:25.71 code-in+ \u001b(B\u001b[m\u001b[39;49m\u001b[K\n",
      "\u001b(B\u001b[m 118262 hravat    20   0 1131.1g 137516  95400 S  20.0   0.9   0:10.76 code-in+ \u001b(B\u001b[m\u001b[39;49m\u001b[K\n",
      "\u001b(B\u001b[m   1040 hravat    20   0 4145488 107880  27008 S   5.0   0.7   2:28.44 java     \u001b(B\u001b[m\u001b[39;49m\u001b[K\n",
      "\u001b(B\u001b[m   4896 hravat    20   0  279808 103888  83788 S   5.0   0.7   4:37.70 Xwayland \u001b(B\u001b[m\u001b[39;49m\u001b[K\n",
      "\u001b(B\u001b[m\u001b[1m 120662 hravat    20   0   10568   4224   3328 R   5.0   0.0   0:00.02 top      \u001b(B\u001b[m\u001b[39;49m\u001b[K\n",
      "\u001b(B\u001b[m      1 root      20   0  168564  13536   8288 S   0.0   0.1   0:18.67 systemd  \u001b(B\u001b[m\u001b[39;49m\u001b[K\n",
      "\u001b(B\u001b[m      2 root      20   0       0      0      0 S   0.0   0.0   0:00.41 kthreadd \u001b(B\u001b[m\u001b[39;49m\u001b[K\n",
      "\u001b(B\u001b[m      3 root       0 -20       0      0      0 I   0.0   0.0   0:00.00 rcu_gp   \u001b(B\u001b[m\u001b[39;49m\u001b[K\n",
      "\u001b(B\u001b[m      4 root       0 -20       0      0      0 I   0.0   0.0   0:00.00 rcu_par+ \u001b(B\u001b[m\u001b[39;49m\u001b[K\n",
      "\u001b(B\u001b[m      5 root       0 -20       0      0      0 I   0.0   0.0   0:00.00 slub_fl+ \u001b(B\u001b[m\u001b[39;49m\u001b[K\n",
      "\u001b(B\u001b[m      6 root       0 -20       0      0      0 I   0.0   0.0   0:00.00 netns    \u001b(B\u001b[m\u001b[39;49m\u001b[K\n",
      "\u001b(B\u001b[m     11 root       0 -20       0      0      0 I   0.0   0.0   0:00.00 mm_perc+ \u001b(B\u001b[m\u001b[39;49m\u001b[K\n",
      "\u001b(B\u001b[m     12 root      20   0       0      0      0 I   0.0   0.0   0:00.00 rcu_tas+ \u001b(B\u001b[m\u001b[39;49m\u001b[K\n",
      "\u001b(B\u001b[m     13 root      20   0       0      0      0 I   0.0   0.0   0:00.00 rcu_tas+ \u001b(B\u001b[m\u001b[39;49m\u001b[K\u001b[H\u001b(B\u001b[mtop - 19:34:08 up  4:38,  1 user,  load average: 4.19, 4.41, 3.53\u001b(B\u001b[m\u001b[39;49m\u001b(B\u001b[m\u001b[39;49m\u001b[K\n",
      "Tasks:\u001b(B\u001b[m\u001b[39;49m\u001b[1m 260 \u001b(B\u001b[m\u001b[39;49mtotal,\u001b(B\u001b[m\u001b[39;49m\u001b[1m   4 \u001b(B\u001b[m\u001b[39;49mrunning,\u001b(B\u001b[m\u001b[39;49m\u001b[1m 256 \u001b(B\u001b[m\u001b[39;49msleeping,\u001b(B\u001b[m\u001b[39;49m\u001b[1m   0 \u001b(B\u001b[m\u001b[39;49mstopped,\u001b(B\u001b[m\u001b[39;49m\u001b[1m   0 \u001b(B\u001b[m\u001b[39;49mzombie\u001b(B\u001b[m\u001b[39;49m\u001b(B\u001b[m\u001b[39;49m\u001b[K\n",
      "%Cpu(s):\u001b(B\u001b[m\u001b[39;49m\u001b[1m 32.2 \u001b(B\u001b[m\u001b[39;49mus,\u001b(B\u001b[m\u001b[39;49m\u001b[1m 40.3 \u001b(B\u001b[m\u001b[39;49msy,\u001b(B\u001b[m\u001b[39;49m\u001b[1m  0.0 \u001b(B\u001b[m\u001b[39;49mni,\u001b(B\u001b[m\u001b[39;49m\u001b[1m 10.9 \u001b(B\u001b[m\u001b[39;49mid,\u001b(B\u001b[m\u001b[39;49m\u001b[1m  0.3 \u001b(B\u001b[m\u001b[39;49mwa,\u001b(B\u001b[m\u001b[39;49m\u001b[1m  0.0 \u001b(B\u001b[m\u001b[39;49mhi,\u001b(B\u001b[m\u001b[39;49m\u001b[1m 16.3 \u001b(B\u001b[m\u001b[39;49msi,\u001b(B\u001b[m\u001b[39;49m\u001b[1m  0.0 \u001b(B\u001b[m\u001b[39;49mst\u001b(B\u001b[m\u001b[39;49m\u001b(B\u001b[m\u001b[39;49m\u001b[K\n",
      "MiB Mem :\u001b(B\u001b[m\u001b[39;49m\u001b[1m  14245.7 \u001b(B\u001b[m\u001b[39;49mtotal,\u001b(B\u001b[m\u001b[39;49m\u001b[1m   5103.9 \u001b(B\u001b[m\u001b[39;49mfree,\u001b(B\u001b[m\u001b[39;49m\u001b[1m   4371.8 \u001b(B\u001b[m\u001b[39;49mused,\u001b(B\u001b[m\u001b[39;49m\u001b[1m   4770.0 \u001b(B\u001b[m\u001b[39;49mbuff/cache\u001b(B\u001b[m\u001b[39;49m\u001b(B\u001b[m\u001b[39;49m\u001b[K\n",
      "MiB Swap:\u001b(B\u001b[m\u001b[39;49m\u001b[1m   2048.0 \u001b(B\u001b[m\u001b[39;49mtotal,\u001b(B\u001b[m\u001b[39;49m\u001b[1m   2048.0 \u001b(B\u001b[m\u001b[39;49mfree,\u001b(B\u001b[m\u001b[39;49m\u001b[1m      0.0 \u001b(B\u001b[m\u001b[39;49mused.\u001b(B\u001b[m\u001b[39;49m\u001b[1m   9430.5 \u001b(B\u001b[m\u001b[39;49mavail Mem \u001b(B\u001b[m\u001b[39;49m\u001b(B\u001b[m\u001b[39;49m\u001b[K\n",
      "\u001b[K\n",
      "\n",
      "\u001b(B\u001b[m\u001b[1m   7893 hravat    20   0 1139.5g 653216 125468 R 104.6   4.5  47:02.46 code-in+ \u001b(B\u001b[m\u001b[39;49m\u001b[K\n",
      "\u001b(B\u001b[m   4338 hravat    20   0 5409728 763444 158728 S  74.8   5.2  34:45.00 gnome-s+ \u001b(B\u001b[m\u001b[39;49m\u001b[K\n",
      "\u001b(B\u001b[m   7933 hravat    20   0   32.4g 122268 109044 S  42.3   0.8  15:27.00 code-in+ \u001b(B\u001b[m\u001b[39;49m\u001b[K\n",
      "\u001b(B\u001b[m 118262 hravat    20   0 1131.2g 146604 101800 S  35.4   1.0   0:11.84 code-in+ \u001b(B\u001b[m\u001b[39;49m\u001b[K\n",
      "\u001b(B\u001b[m\u001b[1m   7743 hravat    20   0 1131.4g 216888 146084 R  20.0   1.5   4:53.34 code-in+ \u001b(B\u001b[m\u001b[39;49m\u001b[K\n",
      "\u001b(B\u001b[m   8038 hravat    20   0 1131.2g 816068  83816 S  16.1   5.6  14:55.15 code-in+ \u001b(B\u001b[m\u001b[39;49m\u001b[K\n",
      "\u001b(B\u001b[m\u001b[1m   4896 hravat    20   0  279808 103888  83788 R   9.5   0.7   4:37.99 Xwayland \u001b(B\u001b[m\u001b[39;49m\u001b[K\n",
      "\u001b(B\u001b[m 119072 root      20   0       0      0      0 I   4.9   0.0   0:02.55 kworker+ \u001b(B\u001b[m\u001b[39;49m\u001b[K\n",
      "\u001b(B\u001b[m   1056 hravat    20   0 7403904 578520  27656 S   3.0   4.0   8:25.69 java     \u001b(B\u001b[m\u001b[39;49m\u001b[K\n",
      "\u001b(B\u001b[m   8501 hravat    20   0  330584  92072  31872 S   2.0   0.6   5:35.25 TabNine  \u001b(B\u001b[m\u001b[39;49m\u001b[K\n",
      "\u001b(B\u001b[m     35 root      20   0       0      0      0 S   1.3   0.0   0:27.24 ksoftir+ \u001b(B\u001b[m\u001b[39;49m\u001b[K\n",
      "\u001b(B\u001b[m     15 root      20   0       0      0      0 S   1.0   0.0   1:44.70 ksoftir+ \u001b(B\u001b[m\u001b[39;49m\u001b[K\n",
      "\u001b(B\u001b[m     29 root      20   0       0      0      0 S   1.0   0.0   0:10.91 ksoftir+ \u001b(B\u001b[m\u001b[39;49m\u001b[K\n",
      "\u001b(B\u001b[m   7831 hravat    20   0   32.3g  68648  58564 S   1.0   0.5   0:29.80 code-in+ \u001b(B\u001b[m\u001b[39;49m\u001b[K\n",
      "\u001b(B\u001b[m 101593 root      20   0       0      0      0 I   1.0   0.0   0:14.60 kworker+ \u001b(B\u001b[m\u001b[39;49m\u001b[K\n",
      "\u001b(B\u001b[m     16 root      20   0       0      0      0 I   0.7   0.0   1:06.72 rcu_pre+ \u001b(B\u001b[m\u001b[39;49m\u001b[K\n",
      "\u001b(B\u001b[m    196 root      20   0       0      0      0 S   0.7   0.0   0:35.90 jbd2/sd+ \u001b(B\u001b[m\u001b[39;49m\u001b[K\u001b[H\u001b(B\u001b[mtop - 19:34:11 up  4:38,  1 user,  load average: 4.90, 4.55, 3.58\u001b(B\u001b[m\u001b[39;49m\u001b(B\u001b[m\u001b[39;49m\u001b[K\n",
      "\n",
      "%Cpu(s):\u001b(B\u001b[m\u001b[39;49m\u001b[1m 32.2 \u001b(B\u001b[m\u001b[39;49mus,\u001b(B\u001b[m\u001b[39;49m\u001b[1m 35.5 \u001b(B\u001b[m\u001b[39;49msy,\u001b(B\u001b[m\u001b[39;49m\u001b[1m  0.0 \u001b(B\u001b[m\u001b[39;49mni,\u001b(B\u001b[m\u001b[39;49m\u001b[1m 15.5 \u001b(B\u001b[m\u001b[39;49mid,\u001b(B\u001b[m\u001b[39;49m\u001b[1m  0.0 \u001b(B\u001b[m\u001b[39;49mwa,\u001b(B\u001b[m\u001b[39;49m\u001b[1m  0.0 \u001b(B\u001b[m\u001b[39;49mhi,\u001b(B\u001b[m\u001b[39;49m\u001b[1m 16.8 \u001b(B\u001b[m\u001b[39;49msi,\u001b(B\u001b[m\u001b[39;49m\u001b[1m  0.0 \u001b(B\u001b[m\u001b[39;49mst\u001b(B\u001b[m\u001b[39;49m\u001b(B\u001b[m\u001b[39;49m\u001b[K\n",
      "MiB Mem :\u001b(B\u001b[m\u001b[39;49m\u001b[1m  14245.7 \u001b(B\u001b[m\u001b[39;49mtotal,\u001b(B\u001b[m\u001b[39;49m\u001b[1m   5097.2 \u001b(B\u001b[m\u001b[39;49mfree,\u001b(B\u001b[m\u001b[39;49m\u001b[1m   4372.4 \u001b(B\u001b[m\u001b[39;49mused,\u001b(B\u001b[m\u001b[39;49m\u001b[1m   4776.1 \u001b(B\u001b[m\u001b[39;49mbuff/cache\u001b(B\u001b[m\u001b[39;49m\u001b(B\u001b[m\u001b[39;49m\u001b[K\n",
      "MiB Swap:\u001b(B\u001b[m\u001b[39;49m\u001b[1m   2048.0 \u001b(B\u001b[m\u001b[39;49mtotal,\u001b(B\u001b[m\u001b[39;49m\u001b[1m   2048.0 \u001b(B\u001b[m\u001b[39;49mfree,\u001b(B\u001b[m\u001b[39;49m\u001b[1m      0.0 \u001b(B\u001b[m\u001b[39;49mused.\u001b(B\u001b[m\u001b[39;49m\u001b[1m   9423.7 \u001b(B\u001b[m\u001b[39;49mavail Mem \u001b(B\u001b[m\u001b[39;49m\u001b(B\u001b[m\u001b[39;49m\u001b[K\n",
      "\u001b[K\n",
      "\n",
      "\u001b(B\u001b[m\u001b[1m   7893 hravat    20   0 1139.5g 642316 123268 R  93.4   4.4  47:05.30 code-in+ \u001b(B\u001b[m\u001b[39;49m\u001b[K\n",
      "\u001b(B\u001b[m\u001b[1m   4338 hravat    20   0 5409728 763444 158728 R  83.9   5.2  34:47.55 gnome-s+ \u001b(B\u001b[m\u001b[39;49m\u001b[K\n",
      "\u001b(B\u001b[m   7933 hravat    20   0   32.4g 127260 114048 S  39.1   0.9  15:28.19 code-in+ \u001b(B\u001b[m\u001b[39;49m\u001b[K\n",
      "\u001b(B\u001b[m 118262 hravat    20   0 1131.2g 157696 110504 S  24.3   1.1   0:12.58 code-in+ \u001b(B\u001b[m\u001b[39;49m\u001b[K\n",
      "\u001b(B\u001b[m   8038 hravat    20   0 1131.2g 815920  83816 S  14.8   5.6  14:55.60 code-in+ \u001b(B\u001b[m\u001b[39;49m\u001b[K\n",
      "\u001b(B\u001b[m\u001b[1m   4896 hravat    20   0  279808 103888  83788 R  12.8   0.7   4:38.38 Xwayland \u001b(B\u001b[m\u001b[39;49m\u001b[K\n",
      "\u001b(B\u001b[m   7743 hravat    20   0 1131.4g 216888 146084 S  12.5   1.5   4:53.72 code-in+ \u001b(B\u001b[m\u001b[39;49m\u001b[K\n",
      "\u001b(B\u001b[m   1056 hravat    20   0 7403904 578520  27656 S   4.3   4.0   8:25.82 java     \u001b(B\u001b[m\u001b[39;49m\u001b[K\n",
      "\u001b(B\u001b[m 109333 root      20   0       0      0      0 I   3.0   0.0   0:06.71 kworker+ \u001b(B\u001b[m\u001b[39;49m\u001b[K\n",
      "\u001b(B\u001b[m 103415 hravat    20   0  607000  66656  15232 S   2.0   0.5   0:12.78 python   \u001b(B\u001b[m\u001b[39;49m\u001b[K\n",
      "\u001b(B\u001b[m 119072 root      20   0       0      0      0 I   1.6   0.0   0:02.60 kworker+ \u001b(B\u001b[m\u001b[39;49m\u001b[K\n",
      "\u001b(B\u001b[m   4209 hravat    20   0   11804   7540   4096 S   1.3   0.1   0:15.22 dbus-da+ \u001b(B\u001b[m\u001b[39;49m\u001b[K\n",
      "\u001b(B\u001b[m\u001b[1m 120662 hravat    20   0   10568   4224   3328 R   1.3   0.0   0:00.08 top      \u001b(B\u001b[m\u001b[39;49m\u001b[K\n",
      "\u001b(B\u001b[m     16 root      20   0       0      0      0 I   1.0   0.0   1:06.75 rcu_pre+ \u001b(B\u001b[m\u001b[39;49m\u001b[K\n",
      "\u001b(B\u001b[m     29 root      20   0       0      0      0 S   1.0   0.0   0:10.94 ksoftir+ \u001b(B\u001b[m\u001b[39;49m\u001b[K\n",
      "\u001b(B\u001b[m   5141 hravat    20   0  218348   3588   3072 S   1.0   0.0   0:39.53 VBoxCli+ \u001b(B\u001b[m\u001b[39;49m\u001b[K\n",
      "\u001b(B\u001b[m   8691 hravat    20   0  426832 249316  84864 S   1.0   1.7   0:37.53 vdb      \u001b(B\u001b[m\u001b[39;49m\u001b[K\u001b[H\u001b(B\u001b[mtop - 19:34:15 up  4:38,  1 user,  load average: 4.67, 4.51, 3.57\u001b(B\u001b[m\u001b[39;49m\u001b(B\u001b[m\u001b[39;49m\u001b[K\n",
      "Tasks:\u001b(B\u001b[m\u001b[39;49m\u001b[1m 261 \u001b(B\u001b[m\u001b[39;49mtotal,\u001b(B\u001b[m\u001b[39;49m\u001b[1m   6 \u001b(B\u001b[m\u001b[39;49mrunning,\u001b(B\u001b[m\u001b[39;49m\u001b[1m 255 \u001b(B\u001b[m\u001b[39;49msleeping,\u001b(B\u001b[m\u001b[39;49m\u001b[1m   0 \u001b(B\u001b[m\u001b[39;49mstopped,\u001b(B\u001b[m\u001b[39;49m\u001b[1m   0 \u001b(B\u001b[m\u001b[39;49mzombie\u001b(B\u001b[m\u001b[39;49m\u001b(B\u001b[m\u001b[39;49m\u001b[K\n",
      "%Cpu(s):\u001b(B\u001b[m\u001b[39;49m\u001b[1m 34.2 \u001b(B\u001b[m\u001b[39;49mus,\u001b(B\u001b[m\u001b[39;49m\u001b[1m 33.4 \u001b(B\u001b[m\u001b[39;49msy,\u001b(B\u001b[m\u001b[39;49m\u001b[1m  0.0 \u001b(B\u001b[m\u001b[39;49mni,\u001b(B\u001b[m\u001b[39;49m\u001b[1m 18.7 \u001b(B\u001b[m\u001b[39;49mid,\u001b(B\u001b[m\u001b[39;49m\u001b[1m  0.4 \u001b(B\u001b[m\u001b[39;49mwa,\u001b(B\u001b[m\u001b[39;49m\u001b[1m  0.0 \u001b(B\u001b[m\u001b[39;49mhi,\u001b(B\u001b[m\u001b[39;49m\u001b[1m 13.3 \u001b(B\u001b[m\u001b[39;49msi,\u001b(B\u001b[m\u001b[39;49m\u001b[1m  0.0 \u001b(B\u001b[m\u001b[39;49mst\u001b(B\u001b[m\u001b[39;49m\u001b(B\u001b[m\u001b[39;49m\u001b[K\n",
      "MiB Mem :\u001b(B\u001b[m\u001b[39;49m\u001b[1m  14245.7 \u001b(B\u001b[m\u001b[39;49mtotal,\u001b(B\u001b[m\u001b[39;49m\u001b[1m   5104.2 \u001b(B\u001b[m\u001b[39;49mfree,\u001b(B\u001b[m\u001b[39;49m\u001b[1m   4371.3 \u001b(B\u001b[m\u001b[39;49mused,\u001b(B\u001b[m\u001b[39;49m\u001b[1m   4770.2 \u001b(B\u001b[m\u001b[39;49mbuff/cache\u001b(B\u001b[m\u001b[39;49m\u001b(B\u001b[m\u001b[39;49m\u001b[K\n",
      "MiB Swap:\u001b(B\u001b[m\u001b[39;49m\u001b[1m   2048.0 \u001b(B\u001b[m\u001b[39;49mtotal,\u001b(B\u001b[m\u001b[39;49m\u001b[1m   2048.0 \u001b(B\u001b[m\u001b[39;49mfree,\u001b(B\u001b[m\u001b[39;49m\u001b[1m      0.0 \u001b(B\u001b[m\u001b[39;49mused.\u001b(B\u001b[m\u001b[39;49m\u001b[1m   9430.8 \u001b(B\u001b[m\u001b[39;49mavail Mem \u001b(B\u001b[m\u001b[39;49m\u001b(B\u001b[m\u001b[39;49m\u001b[K\n",
      "\u001b[K\n",
      "\n",
      "\u001b(B\u001b[m   4338 hravat    20   0 5402528 764340 158728 S 103.6   5.2  34:50.73 gnome-s+ \u001b(B\u001b[m\u001b[39;49m\u001b[K\n",
      "\u001b(B\u001b[m\u001b[1m   7893 hravat    20   0 1139.5g 635716 111800 R  98.7   4.4  47:08.33 code-in+ \u001b(B\u001b[m\u001b[39;49m\u001b[K\n",
      "\u001b(B\u001b[m   7933 hravat    20   0   32.4g 122784 109708 S  30.0   0.8  15:29.11 code-in+ \u001b(B\u001b[m\u001b[39;49m\u001b[K\n",
      "\u001b(B\u001b[m\u001b[1m 118262 hravat    20   0 1131.2g 164056 116008 R  13.0   1.1   0:12.98 code-in+ \u001b(B\u001b[m\u001b[39;49m\u001b[K\n",
      "\u001b(B\u001b[m   8038 hravat    20   0 1131.2g 815868  83816 S   9.8   5.6  14:55.90 code-in+ \u001b(B\u001b[m\u001b[39;49m\u001b[K\n",
      "\u001b(B\u001b[m   4791 hravat    20   0 1377544 142500  56064 S   9.1   1.0   1:56.77 variety  \u001b(B\u001b[m\u001b[39;49m\u001b[K\n",
      "\u001b(B\u001b[m\u001b[1m   4896 hravat    20   0  279808 103888  83788 R   5.2   0.7   4:38.54 Xwayland \u001b(B\u001b[m\u001b[39;49m\u001b[K\n",
      "\u001b(B\u001b[m   7743 hravat    20   0 1131.4g 216888 146084 S   5.2   1.5   4:53.88 code-in+ \u001b(B\u001b[m\u001b[39;49m\u001b[K\n",
      "\u001b(B\u001b[m\u001b[1m 120760 hravat    20   0  768848  34176  25984 R   4.9   0.2   0:00.15 docker   \u001b(B\u001b[m\u001b[39;49m\u001b[K\n",
      "\u001b(B\u001b[m 109333 root      20   0       0      0      0 I   4.6   0.0   0:06.85 kworker+ \u001b(B\u001b[m\u001b[39;49m\u001b[K\n",
      "\u001b(B\u001b[m     15 root      20   0       0      0      0 S   3.6   0.0   1:44.83 ksoftir+ \u001b(B\u001b[m\u001b[39;49m\u001b[K\n",
      "\u001b(B\u001b[m   1056 hravat    20   0 7403904 578520  27656 S   3.3   4.0   8:25.92 java     \u001b(B\u001b[m\u001b[39;49m\u001b[K\n",
      "\u001b(B\u001b[m 116657 hravat    20   0 2872396  70728  51712 S   2.9   0.5   0:01.86 gjs      \u001b(B\u001b[m\u001b[39;49m\u001b[K\n",
      "\u001b(B\u001b[m   4678 hravat    20   0  449452  25856  19968 S   2.3   0.2   0:04.69 gsd-col+ \u001b(B\u001b[m\u001b[39;49m\u001b[K\n",
      "\u001b(B\u001b[m   8501 hravat    20   0  330584  92072  31872 S   1.6   0.6   5:35.32 TabNine  \u001b(B\u001b[m\u001b[39;49m\u001b[K\n",
      "\u001b(B\u001b[m     35 root      20   0       0      0      0 S   1.3   0.0   0:27.29 ksoftir+ \u001b(B\u001b[m\u001b[39;49m\u001b[K\n",
      "\u001b(B\u001b[m   4209 hravat    20   0   11804   7540   4096 S   1.3   0.1   0:15.26 dbus-da+ \u001b(B\u001b[m\u001b[39;49m\u001b[K\u001b[H\u001b(B\u001b[mtop - 19:34:18 up  4:38,  1 user,  load average: 4.67, 4.51, 3.57\u001b(B\u001b[m\u001b[39;49m\u001b(B\u001b[m\u001b[39;49m\u001b[K\n",
      "Tasks:\u001b(B\u001b[m\u001b[39;49m\u001b[1m 261 \u001b(B\u001b[m\u001b[39;49mtotal,\u001b(B\u001b[m\u001b[39;49m\u001b[1m   2 \u001b(B\u001b[m\u001b[39;49mrunning,\u001b(B\u001b[m\u001b[39;49m\u001b[1m 259 \u001b(B\u001b[m\u001b[39;49msleeping,\u001b(B\u001b[m\u001b[39;49m\u001b[1m   0 \u001b(B\u001b[m\u001b[39;49mstopped,\u001b(B\u001b[m\u001b[39;49m\u001b[1m   0 \u001b(B\u001b[m\u001b[39;49mzombie\u001b(B\u001b[m\u001b[39;49m\u001b(B\u001b[m\u001b[39;49m\u001b[K\n",
      "%Cpu(s):\u001b(B\u001b[m\u001b[39;49m\u001b[1m 31.3 \u001b(B\u001b[m\u001b[39;49mus,\u001b(B\u001b[m\u001b[39;49m\u001b[1m 34.3 \u001b(B\u001b[m\u001b[39;49msy,\u001b(B\u001b[m\u001b[39;49m\u001b[1m  0.0 \u001b(B\u001b[m\u001b[39;49mni,\u001b(B\u001b[m\u001b[39;49m\u001b[1m 17.4 \u001b(B\u001b[m\u001b[39;49mid,\u001b(B\u001b[m\u001b[39;49m\u001b[1m  0.5 \u001b(B\u001b[m\u001b[39;49mwa,\u001b(B\u001b[m\u001b[39;49m\u001b[1m  0.0 \u001b(B\u001b[m\u001b[39;49mhi,\u001b(B\u001b[m\u001b[39;49m\u001b[1m 16.5 \u001b(B\u001b[m\u001b[39;49msi,\u001b(B\u001b[m\u001b[39;49m\u001b[1m  0.0 \u001b(B\u001b[m\u001b[39;49mst\u001b(B\u001b[m\u001b[39;49m\u001b(B\u001b[m\u001b[39;49m\u001b[K\n",
      "MiB Mem :\u001b(B\u001b[m\u001b[39;49m\u001b[1m  14245.7 \u001b(B\u001b[m\u001b[39;49mtotal,\u001b(B\u001b[m\u001b[39;49m\u001b[1m   5095.5 \u001b(B\u001b[m\u001b[39;49mfree,\u001b(B\u001b[m\u001b[39;49m\u001b[1m   4380.6 \u001b(B\u001b[m\u001b[39;49mused,\u001b(B\u001b[m\u001b[39;49m\u001b[1m   4769.6 \u001b(B\u001b[m\u001b[39;49mbuff/cache\u001b(B\u001b[m\u001b[39;49m\u001b(B\u001b[m\u001b[39;49m\u001b[K\n",
      "MiB Swap:\u001b(B\u001b[m\u001b[39;49m\u001b[1m   2048.0 \u001b(B\u001b[m\u001b[39;49mtotal,\u001b(B\u001b[m\u001b[39;49m\u001b[1m   2048.0 \u001b(B\u001b[m\u001b[39;49mfree,\u001b(B\u001b[m\u001b[39;49m\u001b[1m      0.0 \u001b(B\u001b[m\u001b[39;49mused.\u001b(B\u001b[m\u001b[39;49m\u001b[1m   9422.1 \u001b(B\u001b[m\u001b[39;49mavail Mem \u001b(B\u001b[m\u001b[39;49m\u001b(B\u001b[m\u001b[39;49m\u001b[K\n",
      "\u001b[K\n",
      "\n",
      "\u001b(B\u001b[m   7893 hravat    20   0 1139.5g 637260 111208 S  83.0   4.4  47:10.86 code-in+ \u001b(B\u001b[m\u001b[39;49m\u001b[K\n",
      "\u001b(B\u001b[m   4338 hravat    20   0 5409728 764340 158728 S  80.7   5.2  34:53.19 gnome-s+ \u001b(B\u001b[m\u001b[39;49m\u001b[K\n",
      "\u001b(B\u001b[m   7933 hravat    20   0   32.4g 122328 109252 S  44.9   0.8  15:30.48 code-in+ \u001b(B\u001b[m\u001b[39;49m\u001b[K\n",
      "\u001b(B\u001b[m 118262 hravat    20   0 1131.2g 166616 116008 S  17.7   1.1   0:13.52 code-in+ \u001b(B\u001b[m\u001b[39;49m\u001b[K\n",
      "\u001b(B\u001b[m\u001b[1m   4896 hravat    20   0  279808 103888  83788 R  14.1   0.7   4:38.97 Xwayland \u001b(B\u001b[m\u001b[39;49m\u001b[K\n",
      "\u001b(B\u001b[m 120778 hravat    20   0  767248  19712  14848 S  11.1   0.1   0:00.34 docker   \u001b(B\u001b[m\u001b[39;49m\u001b[K\n",
      "\u001b(B\u001b[m   4791 hravat    20   0 1377544 142500  56064 S  10.8   1.0   1:57.10 variety  \u001b(B\u001b[m\u001b[39;49m\u001b[K\n",
      "\u001b(B\u001b[m   8038 hravat    20   0 1131.2g 815884  83816 S  10.2   5.6  14:56.21 code-in+ \u001b(B\u001b[m\u001b[39;49m\u001b[K\n",
      "\u001b(B\u001b[m   7743 hravat    20   0 1131.4g 216888 146084 S   7.5   1.5   4:54.11 code-in+ \u001b(B\u001b[m\u001b[39;49m\u001b[K\n",
      "\u001b(B\u001b[m 119072 root      20   0       0      0      0 I   4.3   0.0   0:02.76 kworker+ \u001b(B\u001b[m\u001b[39;49m\u001b[K\n",
      "\u001b(B\u001b[m   1056 hravat    20   0 7403904 578520  27656 S   2.6   4.0   8:26.00 java     \u001b(B\u001b[m\u001b[39;49m\u001b[K\n",
      "\u001b(B\u001b[m     15 root      20   0       0      0      0 S   2.3   0.0   1:44.90 ksoftir+ \u001b(B\u001b[m\u001b[39;49m\u001b[K\n",
      "\u001b(B\u001b[m   4678 hravat    20   0  449452  25856  19968 S   2.3   0.2   0:04.76 gsd-col+ \u001b(B\u001b[m\u001b[39;49m\u001b[K\n",
      "\u001b(B\u001b[m 109333 root      20   0       0      0      0 I   1.6   0.0   0:06.90 kworker+ \u001b(B\u001b[m\u001b[39;49m\u001b[K\n",
      "\u001b(B\u001b[m    853 systemd+  20   0   14836   6784   6016 S   1.0   0.0   0:46.49 systemd+ \u001b(B\u001b[m\u001b[39;49m\u001b[K\n",
      "\u001b(B\u001b[m   8501 hravat    20   0  330584  92072  31872 S   1.0   0.6   5:35.35 TabNine  \u001b(B\u001b[m\u001b[39;49m\u001b[K\n",
      "\u001b(B\u001b[m 103415 hravat    20   0  607000  66656  15232 S   1.0   0.5   0:12.83 python   \u001b(B\u001b[m\u001b[39;49m\u001b[K\u001b[?1l\u001b>\u001b[25;1H\n",
      "\u001b[?12l\u001b[?25h\u001b[K\n"
     ]
    }
   ],
   "source": [
    "### Top Command Run in Terminal\n",
    "export TERM=xterm-256color\n",
    "echo $TERM\n",
    "top "
   ]
  },
  {
   "cell_type": "markdown",
   "metadata": {
    "vscode": {
     "languageId": "shellscript"
    }
   },
   "source": [
    "`jobs` command is used to see suspended jobs stopped using Ctrl+Z <br> \n",
    "`fg` <Job Number > will resume the command in foreground  <br>\n",
    "`&` <Job Number > will resume the command in background <br>"
   ]
  },
  {
   "cell_type": "code",
   "execution_count": 65,
   "metadata": {
    "vscode": {
     "languageId": "shellscript"
    }
   },
   "outputs": [
    {
     "name": "stdout",
     "output_type": "stream",
     "text": [
      "Wed 10 Jul 2024 19:10:14 NZST\n"
     ]
    },
    {
     "name": "stdout",
     "output_type": "stream",
     "text": [
      "Wed 10 Jul 2024 19:10:24 NZST\n"
     ]
    }
   ],
   "source": [
    "## Sleep is used to delay prgrams \n",
    "date \n",
    "sleep 10 \n",
    "date "
   ]
  },
  {
   "cell_type": "code",
   "execution_count": 66,
   "metadata": {
    "vscode": {
     "languageId": "shellscript"
    }
   },
   "outputs": [
    {
     "name": "stdout",
     "output_type": "stream",
     "text": [
      "[1] 108979\n",
      "[1]+  Running                 sleep 60 &\n"
     ]
    }
   ],
   "source": [
    "### Sleep in backgorund\n",
    "sleep 60 & \n",
    "jobs"
   ]
  },
  {
   "cell_type": "code",
   "execution_count": 67,
   "metadata": {
    "vscode": {
     "languageId": "shellscript"
    }
   },
   "outputs": [
    {
     "name": "stdout",
     "output_type": "stream",
     "text": [
      "total 4\n",
      "drwxrwx--- 1 root vboxsf    0 Jul 10 19:10  .\n",
      "drwxrwx--- 1 root vboxsf 4096 Jul 10 19:10  ..\n",
      "-rwxrwx--- 1 root vboxsf    0 Jul 10 19:10 'Zip 1.txt'\n",
      "-rwxrwx--- 1 root vboxsf    0 Jul 10 19:10 'Zip 2.txt'\n",
      "-rwxrwx--- 1 root vboxsf    0 Jul 10 19:10 'Zip 3.txt'\n"
     ]
    }
   ],
   "source": [
    "## GZIP to compress files \n",
    "## Gzip DOES NOT compress folders only individual files \n",
    "rm -r GZipExample \n",
    "mkdir GZipExample\n",
    "touch GZipExample/\"Zip \"{1,2,3}.txt\n",
    "ls -la GZipExample\n",
    "gzip -r -k GZipExample \n",
    "\n"
   ]
  },
  {
   "cell_type": "code",
   "execution_count": 68,
   "metadata": {
    "vscode": {
     "languageId": "shellscript"
    }
   },
   "outputs": [
    {
     "name": "stdout",
     "output_type": "stream",
     "text": [
      "File list before gunzip\n",
      "total 6\n",
      "drwxrwx--- 1 root vboxsf    0 Jul 10 19:10  .\n",
      "drwxrwx--- 1 root vboxsf 4096 Jul 10 19:10  ..\n",
      "-rwxrwx--- 1 root vboxsf   30 Jul 10 19:10 'Zip 1.txt.gz'\n",
      "-rwxrwx--- 1 root vboxsf   30 Jul 10 19:10 'Zip 2.txt.gz'\n",
      "-rwxrwx--- 1 root vboxsf   30 Jul 10 19:10 'Zip 3.txt.gz'\n",
      "File list after before gunzip\n",
      "total 6\n",
      "drwxrwx--- 1 root vboxsf    0 Jul 10 19:10  .\n",
      "drwxrwx--- 1 root vboxsf 4096 Jul 10 19:10  ..\n",
      "-rwxrwx--- 1 root vboxsf    0 Jul 10 19:10 'Zip 1.txt'\n",
      "-rwxrwx--- 1 root vboxsf   30 Jul 10 19:10 'Zip 1.txt.gz'\n",
      "-rwxrwx--- 1 root vboxsf    0 Jul 10 19:10 'Zip 2.txt'\n",
      "-rwxrwx--- 1 root vboxsf   30 Jul 10 19:10 'Zip 2.txt.gz'\n",
      "-rwxrwx--- 1 root vboxsf    0 Jul 10 19:10 'Zip 3.txt'\n",
      "-rwxrwx--- 1 root vboxsf   30 Jul 10 19:10 'Zip 3.txt.gz'\n"
     ]
    }
   ],
   "source": [
    "### Using gunzip to unzip a file \n",
    "rm -r GzipExample/*.txt \n",
    "echo File list before gunzip\n",
    "ls -la GZipExample\n",
    "gunzip -k GZipExample/*.gz\n",
    "echo File list after before gunzip\n",
    "ls -la GZipExample"
   ]
  },
  {
   "cell_type": "code",
   "execution_count": 69,
   "metadata": {
    "vscode": {
     "languageId": "shellscript"
    }
   },
   "outputs": [],
   "source": [
    "## tar is used to compress to a folder \n",
    "rm GzipExample.tar\n",
    "tar -cf GzipExample.tar GzipExample/'Zip '{1,2,3}.txt\n",
    "tar -xf GzipExample.tar GzipExample/'Zip '{1,2,3}.txt"
   ]
  },
  {
   "cell_type": "code",
   "execution_count": 70,
   "metadata": {
    "vscode": {
     "languageId": "shellscript"
    }
   },
   "outputs": [],
   "source": [
    "### nano is used as a text editor \n",
    "## Run in terminal"
   ]
  },
  {
   "cell_type": "code",
   "execution_count": 71,
   "metadata": {
    "vscode": {
     "languageId": "shellscript"
    }
   },
   "outputs": [
    {
     "name": "stdout",
     "output_type": "stream",
     "text": [
      "alias alert='notify-send --urgency=low -i \"$([ $? = 0 ] && echo terminal || echo error)\" \"$(history|tail -n1|sed -e '\\''s/^\\s*[0-9]\\+\\s*//;s/[;&|]\\s*alert$//'\\'')\"'\n",
      "alias egrep='egrep --color=auto'\n",
      "alias fgrep='fgrep --color=auto'\n",
      "alias grep='grep --color=auto'\n",
      "alias l='ls -CF'\n",
      "alias la='ls -A'\n",
      "alias ll='ls -alF'\n",
      "alias ls='ls --color=auto'\n",
      "alias myls='ls -la'\n",
      "total 276\n",
      "drwxrwx--- 1 root vboxsf   4096 Jul 10 19:10 .\n",
      "drwxrwx--- 1 root vboxsf  12288 Jul  9 18:16 ..\n",
      "drwxrwx--- 1 root vboxsf      0 Feb 25 12:07 Copydata1\n",
      "drwxrwx--- 1 root vboxsf      0 Jul 10 19:02 CurlyBraceDemo\n",
      "drwxrwx--- 1 root vboxsf      0 Jul 10 19:02 data\n",
      "drwxrwx--- 1 root vboxsf      0 Jul 10 19:01 data1\n",
      "drwxrwx--- 1 root vboxsf      0 Jul 10 19:08 DiffDemo\n",
      "-rwxrwx--- 1 root vboxsf 247388 Jul 10 18:38 fcc-linux-50-commands_1.ipynb\n",
      "drwxrwx--- 1 root vboxsf      0 Jul 10 19:01 FolderData\n",
      "drwxrwx--- 1 root vboxsf      0 Jul 10 19:10 GZipExample\n",
      "-rwxrwx--- 1 root vboxsf  10240 Jul 10 19:10 GzipExample.tar\n",
      "drwxrwx--- 1 root vboxsf      0 Jul 10 18:29 LinkDemo\n",
      "drwxrwx--- 1 root vboxsf      0 Jul 10 18:59 test\n",
      "drwxrwx--- 1 root vboxsf   4096 Jul 10 18:29 XargsDemo\n"
     ]
    }
   ],
   "source": [
    "#Alisa allows us to define our short custom commands \n",
    "## To make alias permenants store in zshrc or bashrc files \n",
    "alias myls='ls -la'\n",
    "alias\n",
    "myls "
   ]
  },
  {
   "cell_type": "code",
   "execution_count": 72,
   "metadata": {
    "vscode": {
     "languageId": "shellscript"
    }
   },
   "outputs": [
    {
     "name": "stdout",
     "output_type": "stream",
     "text": [
      "Before Xargs\n",
      "total 8\n",
      "drwxrwx--- 1 root vboxsf 4096 Jul 10 19:11 .\n",
      "drwxrwx--- 1 root vboxsf 4096 Jul 10 19:11 ..\n",
      "-rwxrwx--- 1 root vboxsf    0 Jul 10 19:11 DeleteFile.txt\n",
      "-rwxrwx--- 1 root vboxsf    0 Jul 10 19:11 File10.txt\n",
      "-rwxrwx--- 1 root vboxsf    0 Jul 10 19:11 File1.txt\n",
      "-rwxrwx--- 1 root vboxsf    0 Jul 10 19:11 File2.txt\n",
      "-rwxrwx--- 1 root vboxsf    0 Jul 10 19:11 File3.txt\n",
      "-rwxrwx--- 1 root vboxsf    0 Jul 10 19:11 File4.txt\n",
      "-rwxrwx--- 1 root vboxsf    0 Jul 10 19:11 File5.txt\n",
      "-rwxrwx--- 1 root vboxsf    0 Jul 10 19:11 File6.txt\n",
      "-rwxrwx--- 1 root vboxsf    0 Jul 10 19:11 File7.txt\n",
      "-rwxrwx--- 1 root vboxsf    0 Jul 10 19:11 File8.txt\n",
      "-rwxrwx--- 1 root vboxsf    0 Jul 10 19:11 File9.txt\n",
      "File1.txt File3.txt File5.txt File7.txt File9.txt\n",
      "after Xargs\n"
     ]
    },
    {
     "name": "stdout",
     "output_type": "stream",
     "text": [
      "total 9\n",
      "drwxrwx--- 1 root vboxsf 4096 Jul 10 19:11 .\n",
      "drwxrwx--- 1 root vboxsf 4096 Jul 10 19:11 ..\n",
      "-rwxrwx--- 1 root vboxsf   50 Jul 10 19:11 DeleteFile.txt\n",
      "-rwxrwx--- 1 root vboxsf    0 Jul 10 19:11 File10.txt\n",
      "-rwxrwx--- 1 root vboxsf    0 Jul 10 19:11 File2.txt\n",
      "-rwxrwx--- 1 root vboxsf    0 Jul 10 19:11 File4.txt\n",
      "-rwxrwx--- 1 root vboxsf    0 Jul 10 19:11 File6.txt\n",
      "-rwxrwx--- 1 root vboxsf    0 Jul 10 19:11 File8.txt\n"
     ]
    }
   ],
   "source": [
    "## Xargs allows us to pass arguments to commands that do not accept pipe as an inout \n",
    "## As an example consider a folde with 100's of files \n",
    "## There is another file in ttha folder that contains list of files that need to be deleted \n",
    "## We cannot output the contents of this file to `rm ` directly to delete the files\n",
    "## it has to be done vis xargs \n",
    "\n",
    "rm -r XargsDemo \n",
    "mkdir XargsDemo \n",
    "touch  XargsDemo/\"File\"{1,2,3,4,5,6,7,8,9,10}.txt\n",
    "touch XargsDemo/DeleteFile.txt\n",
    "echo Before Xargs\n",
    "ls -la XargsDemo\n",
    "echo \"File\"{1..10..2}.txt > XargsDemo/DeleteFile.txt\n",
    "head XargsDemo/DeleteFile.txt\n",
    "cd XargsDemo\n",
    "cat DeleteFile.txt | xargs rm -f \n",
    "echo after Xargs \n",
    "cd ..\n",
    "ls -la XargsDemo"
   ]
  },
  {
   "cell_type": "code",
   "execution_count": 73,
   "metadata": {
    "vscode": {
     "languageId": "shellscript"
    }
   },
   "outputs": [
    {
     "name": "stdout",
     "output_type": "stream",
     "text": [
      "Before creating Hard link\n",
      "total 5\n",
      "drwxrwx--- 1 root vboxsf    0 Jul 10 19:11 .\n",
      "drwxrwx--- 1 root vboxsf 4096 Jul 10 19:11 ..\n",
      "-rwxrwx--- 1 root vboxsf   13 Jul 10 19:11 original.txt\n",
      "ln: failed to create hard link 'LinkDemo/hardlink.txt' => 'LinkDemo/original.txt': Operation not permitted\n",
      "After creating Hard link\n",
      "total 5\n",
      "drwxrwx--- 1 root vboxsf    0 Jul 10 19:11 .\n",
      "drwxrwx--- 1 root vboxsf 4096 Jul 10 19:11 ..\n",
      "-rwxrwx--- 1 root vboxsf   13 Jul 10 19:11 original.txt\n",
      "I am orginal\n",
      "After adding more lines\n",
      "I am orginal\n"
     ]
    }
   ],
   "source": [
    "## ln command can be used to create links \n",
    "### Creating Links not permitted as this os on A VM and er are creating on Shared folder in howt \n",
    "rm -r LinkDemo\n",
    "mkdir LinkDemo\n",
    "touch LinkDemo/original.txt\n",
    "echo \"I am orginal\" > LinkDemo/original.txt\n",
    "echo Before creating Hard link\n",
    "ls -la LinkDemo \n",
    "ln LinkDemo/original.txt LinkDemo/hardlink.txt\n",
    "echo After creating Hard link\n",
    "ls -la LinkDemo\n",
    "cat LinkDemo/original.txt\n",
    "echo \"Add more lines \" > LinkDemo/hardlink.txt\n",
    "echo After adding more lines\n",
    "cat LinkDemo/original.txt"
   ]
  },
  {
   "cell_type": "code",
   "execution_count": 74,
   "metadata": {
    "vscode": {
     "languageId": "shellscript"
    }
   },
   "outputs": [
    {
     "name": "stdout",
     "output_type": "stream",
     "text": [
      "hravat   tty2         2024-07-10 13:11 (tty2)\n"
     ]
    }
   ],
   "source": [
    "## List of users logged in \n",
    "who"
   ]
  },
  {
   "cell_type": "code",
   "execution_count": 75,
   "metadata": {
    "vscode": {
     "languageId": "shellscript"
    }
   },
   "outputs": [],
   "source": [
    "## Change users\n",
    "## sudo adduser newuser # creates a new user\n",
    "## su <user-name> # switches to new user\n",
    "## su - <user-name> # switches to new user and opens a shell in that user's home directory\n",
    "## sudo passwd <user-name> # opens a password change dialog\n",
    "## sudo userdel -r <user-name> # deletes a user and all their files and directories"
   ]
  },
  {
   "cell_type": "code",
   "execution_count": 76,
   "metadata": {
    "vscode": {
     "languageId": "shellscript"
    }
   },
   "outputs": [],
   "source": [
    "### sudo or superuser do allows to run commands as an administrator \n",
    "## In Linux there is no seperate root or admin user\n",
    "## A user can runs commands as an administrator if he/she is a part of the sudo group\n"
   ]
  },
  {
   "cell_type": "code",
   "execution_count": 77,
   "metadata": {
    "vscode": {
     "languageId": "shellscript"
    }
   },
   "outputs": [],
   "source": [
    "### passwd helps to change the password "
   ]
  },
  {
   "cell_type": "code",
   "execution_count": 78,
   "metadata": {
    "vscode": {
     "languageId": "shellscript"
    }
   },
   "outputs": [],
   "source": [
    "### Change owner (needs sudo to run)\n",
    "##sudo chown <new-user> <directory>\n",
    "##sudo chown <new-user>:<new-group> <directory>"
   ]
  },
  {
   "cell_type": "code",
   "execution_count": 79,
   "metadata": {
    "vscode": {
     "languageId": "shellscript"
    }
   },
   "outputs": [],
   "source": [
    "##chmod is used to change permissions \n",
    "#chmod <u-g-o-a><+--><r-w-x> <file-directory>\n",
    "\n",
    "#u-user\n",
    "#g-group\n",
    "#o-other\n",
    "#a-all\n",
    "\n",
    "#+-add\n",
    "#--remove\n",
    "#=-reset all sn set to value\n",
    "\n",
    "#w-write\n",
    "#x-execute\n",
    "#r-read\n",
    "\n",
    "#chmod can also be used as octals \n",
    "#chmod 777 <file-directory>"
   ]
  }
 ],
 "metadata": {
  "kernelspec": {
   "display_name": "Bash",
   "language": "bash",
   "name": "bash"
  },
  "language_info": {
   "codemirror_mode": "shell",
   "file_extension": ".sh",
   "mimetype": "text/x-sh",
   "name": "bash"
  }
 },
 "nbformat": 4,
 "nbformat_minor": 2
}
